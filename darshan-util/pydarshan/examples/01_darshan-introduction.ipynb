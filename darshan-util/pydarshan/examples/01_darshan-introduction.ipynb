{
 "cells": [
  {
   "cell_type": "markdown",
   "metadata": {},
   "source": [
    "# DarshanUtils for Python\n",
    "\n",
    "This notebook gives an overwiew of features provided by the Python bindings for DarshanUtils."
   ]
  },
  {
   "cell_type": "markdown",
   "metadata": {},
   "source": [
    "By default all records, metadata, available modules and the name records are loaded when opening a Darshan log:"
   ]
  },
  {
   "cell_type": "code",
   "execution_count": 2,
   "metadata": {},
   "outputs": [
    {
     "name": "stdout",
     "output_type": "stream",
     "text": [
      "Filename:       example-logs/example.darshan\n",
      "Times:          2017-03-20 10:07:47 to 2017-03-20 10:09:43 (Duration 0:01:56)\n",
      "Executeable:    /global/project/projectdirs/m888/glock/tokio-abc-results/bin.edison/vpicio_uni /scratch2/scratchdirs/glock/tokioabc-s.4478544/vpicio/vpicio.hdf5 32\n",
      "Processes:      2048\n",
      "JobID:          4478544\n",
      "UID:            69615\n",
      "Modules in Log: ['POSIX', 'MPI-IO', 'LUSTRE', 'STDIO']\n",
      "Loaded Records: {'POSIX': 1, 'MPI-IO': 1, 'STDIO': 129, 'LUSTRE': 1}\n",
      "Name Records:   4\n",
      "Darshan/Hints:  {'lib_ver': '3.1.3', 'h': 'romio_no_indep_rw=true;cb_nodes=4'}\n",
      "DarshanReport:  id(140679439759872) (tmp)\n"
     ]
    }
   ],
   "source": [
    "import darshan\n",
    "\n",
    "report = darshan.DarshanReport(\"example-logs/example.darshan\", read_all=True)  # Default behavior\n",
    "report.info()"
   ]
  },
  {
   "cell_type": "code",
   "execution_count": 3,
   "metadata": {},
   "outputs": [
    {
     "data": {
      "text/plain": [
       "{'POSIX': {'len': 186, 'ver': 3, 'idx': 1, 'num_records': 1},\n",
       " 'MPI-IO': {'len': 154, 'ver': 2, 'idx': 2, 'num_records': 1},\n",
       " 'LUSTRE': {'len': 87, 'ver': 1, 'idx': 7, 'num_records': 1},\n",
       " 'STDIO': {'len': 3234, 'ver': 1, 'idx': 8, 'num_records': 129}}"
      ]
     },
     "execution_count": 3,
     "metadata": {},
     "output_type": "execute_result"
    }
   ],
   "source": [
    "report.modules"
   ]
  },
  {
   "cell_type": "markdown",
   "metadata": {},
   "source": [
    "A few of the internal data structures explained:"
   ]
  },
  {
   "cell_type": "code",
   "execution_count": 4,
   "metadata": {
    "scrolled": true
   },
   "outputs": [],
   "source": [
    "# report.metadata         # dictionary with raw metadata from darshan log\n",
    "# report.modules          # dictionary with raw module info from darshan log (need: technical, module idx)\n",
    "# report.name_records     # dictionary for resovling name records: id -> path/name\n",
    "# report.records          # per module \"dataframes\"/dictionaries holding loaded records"
   ]
  },
  {
   "cell_type": "markdown",
   "metadata": {},
   "source": [
    "The darshan report holds a variety of namespaces for report related data. All of them are also referenced in `report.data` at the moment, but reliance on this internal organization of the report object is discouraged once the API stabilized. Currently, `report.data` references the following information:"
   ]
  },
  {
   "cell_type": "code",
   "execution_count": 5,
   "metadata": {
    "scrolled": true
   },
   "outputs": [
    {
     "data": {
      "text/plain": [
       "dict_keys(['version', 'metadata', 'records', 'summary', 'modules', 'counters', 'name_records', 'mounts'])"
      ]
     },
     "execution_count": 5,
     "metadata": {},
     "output_type": "execute_result"
    }
   ],
   "source": [
    "report.data.keys()"
   ]
  },
  {
   "cell_type": "code",
   "execution_count": 6,
   "metadata": {},
   "outputs": [],
   "source": [
    "report.mod_read_all_records('POSIX')"
   ]
  },
  {
   "cell_type": "code",
   "execution_count": 7,
   "metadata": {},
   "outputs": [],
   "source": [
    "report.mod_read_all_records('STDIO')"
   ]
  },
  {
   "cell_type": "code",
   "execution_count": 8,
   "metadata": {},
   "outputs": [
    {
     "name": "stdout",
     "output_type": "stream",
     "text": [
      "Filename:       example-logs/example.darshan\n",
      "Times:          2017-03-20 10:07:47 to 2017-03-20 10:09:43 (Duration 0:01:56)\n",
      "Executeable:    /global/project/projectdirs/m888/glock/tokio-abc-results/bin.edison/vpicio_uni /scratch2/scratchdirs/glock/tokioabc-s.4478544/vpicio/vpicio.hdf5 32\n",
      "Processes:      2048\n",
      "JobID:          4478544\n",
      "UID:            69615\n",
      "Modules in Log: ['POSIX', 'MPI-IO', 'LUSTRE', 'STDIO']\n",
      "Loaded Records: {'POSIX': 1, 'MPI-IO': 1, 'STDIO': 129, 'LUSTRE': 1}\n",
      "Name Records:   4\n",
      "Darshan/Hints:  {'lib_ver': '3.1.3', 'h': 'romio_no_indep_rw=true;cb_nodes=4'}\n",
      "DarshanReport:  id(140679439759872) (tmp)\n"
     ]
    }
   ],
   "source": [
    "report.update_name_records()\n",
    "report.info()"
   ]
  },
  {
   "cell_type": "code",
   "execution_count": 9,
   "metadata": {},
   "outputs": [],
   "source": [
    "# visualization helper used by different examples in the remainder of this notebook\n",
    "from IPython.display import display, HTML\n",
    "# usage: display(obj)"
   ]
  },
  {
   "cell_type": "markdown",
   "metadata": {},
   "source": [
    "### Record Formats and Selectively Loading Records\n",
    "\n",
    "For memory efficiant analysis, it is possible to supress records from being loaded automatically. This is useful, for example, when analysis considers only records of a particular layer/module."
   ]
  },
  {
   "cell_type": "code",
   "execution_count": 10,
   "metadata": {},
   "outputs": [],
   "source": [
    "import darshan\n",
    "report = darshan.DarshanReport(\"example-logs/example.darshan\", read_all=False, lookup_name_records=True) # Loads no records!"
   ]
  },
  {
   "cell_type": "code",
   "execution_count": 11,
   "metadata": {},
   "outputs": [
    {
     "name": "stdout",
     "output_type": "stream",
     "text": [
      "No STDIO records loaded for this report yet.\n"
     ]
    }
   ],
   "source": [
    "# expected to fail, as no records were loaded\n",
    "try:\n",
    "    print(len(report.records['STDIO']), \"records loaded for STDIO.\")\n",
    "except:\n",
    "    print(\"No STDIO records loaded for this report yet.\")"
   ]
  },
  {
   "cell_type": "markdown",
   "metadata": {},
   "source": [
    "Additional records then can be loaded selectively, for example, on a per module basis:"
   ]
  },
  {
   "cell_type": "markdown",
   "metadata": {},
   "source": [
    "### Exporting Data"
   ]
  },
  {
   "cell_type": "markdown",
   "metadata": {},
   "source": [
    "#### dtype: pandas"
   ]
  },
  {
   "cell_type": "code",
   "execution_count": 12,
   "metadata": {},
   "outputs": [],
   "source": [
    "report.mod_read_all_records(\"STDIO\")"
   ]
  },
  {
   "cell_type": "code",
   "execution_count": 13,
   "metadata": {},
   "outputs": [
    {
     "data": {
      "text/html": [
       "<div>\n",
       "<style scoped>\n",
       "    .dataframe tbody tr th:only-of-type {\n",
       "        vertical-align: middle;\n",
       "    }\n",
       "\n",
       "    .dataframe tbody tr th {\n",
       "        vertical-align: top;\n",
       "    }\n",
       "\n",
       "    .dataframe thead th {\n",
       "        text-align: right;\n",
       "    }\n",
       "</style>\n",
       "<table border=\"1\" class=\"dataframe\">\n",
       "  <thead>\n",
       "    <tr style=\"text-align: right;\">\n",
       "      <th></th>\n",
       "      <th>rank</th>\n",
       "      <th>id</th>\n",
       "      <th>STDIO_OPENS</th>\n",
       "      <th>STDIO_FDOPENS</th>\n",
       "      <th>STDIO_READS</th>\n",
       "      <th>STDIO_WRITES</th>\n",
       "      <th>STDIO_SEEKS</th>\n",
       "      <th>STDIO_FLUSHES</th>\n",
       "      <th>STDIO_BYTES_WRITTEN</th>\n",
       "      <th>STDIO_BYTES_READ</th>\n",
       "      <th>STDIO_MAX_BYTE_READ</th>\n",
       "      <th>STDIO_MAX_BYTE_WRITTEN</th>\n",
       "      <th>STDIO_FASTEST_RANK</th>\n",
       "      <th>STDIO_FASTEST_RANK_BYTES</th>\n",
       "      <th>STDIO_SLOWEST_RANK</th>\n",
       "      <th>STDIO_SLOWEST_RANK_BYTES</th>\n",
       "    </tr>\n",
       "  </thead>\n",
       "  <tbody>\n",
       "    <tr>\n",
       "      <th>0</th>\n",
       "      <td>0</td>\n",
       "      <td>15920181672442173319</td>\n",
       "      <td>1</td>\n",
       "      <td>-1</td>\n",
       "      <td>0</td>\n",
       "      <td>6</td>\n",
       "      <td>0</td>\n",
       "      <td>0</td>\n",
       "      <td>280</td>\n",
       "      <td>0</td>\n",
       "      <td>0</td>\n",
       "      <td>279</td>\n",
       "      <td>0</td>\n",
       "      <td>0</td>\n",
       "      <td>0</td>\n",
       "      <td>0</td>\n",
       "    </tr>\n",
       "    <tr>\n",
       "      <th>1</th>\n",
       "      <td>0</td>\n",
       "      <td>7238257241479193519</td>\n",
       "      <td>1</td>\n",
       "      <td>-1</td>\n",
       "      <td>0</td>\n",
       "      <td>68</td>\n",
       "      <td>0</td>\n",
       "      <td>0</td>\n",
       "      <td>3029</td>\n",
       "      <td>0</td>\n",
       "      <td>0</td>\n",
       "      <td>3028</td>\n",
       "      <td>0</td>\n",
       "      <td>0</td>\n",
       "      <td>0</td>\n",
       "      <td>0</td>\n",
       "    </tr>\n",
       "    <tr>\n",
       "      <th>2</th>\n",
       "      <td>16</td>\n",
       "      <td>7238257241479193519</td>\n",
       "      <td>1</td>\n",
       "      <td>-1</td>\n",
       "      <td>0</td>\n",
       "      <td>0</td>\n",
       "      <td>0</td>\n",
       "      <td>0</td>\n",
       "      <td>0</td>\n",
       "      <td>0</td>\n",
       "      <td>0</td>\n",
       "      <td>0</td>\n",
       "      <td>0</td>\n",
       "      <td>0</td>\n",
       "      <td>0</td>\n",
       "      <td>0</td>\n",
       "    </tr>\n",
       "    <tr>\n",
       "      <th>3</th>\n",
       "      <td>32</td>\n",
       "      <td>7238257241479193519</td>\n",
       "      <td>1</td>\n",
       "      <td>-1</td>\n",
       "      <td>0</td>\n",
       "      <td>0</td>\n",
       "      <td>0</td>\n",
       "      <td>0</td>\n",
       "      <td>0</td>\n",
       "      <td>0</td>\n",
       "      <td>0</td>\n",
       "      <td>0</td>\n",
       "      <td>0</td>\n",
       "      <td>0</td>\n",
       "      <td>0</td>\n",
       "      <td>0</td>\n",
       "    </tr>\n",
       "    <tr>\n",
       "      <th>4</th>\n",
       "      <td>48</td>\n",
       "      <td>7238257241479193519</td>\n",
       "      <td>1</td>\n",
       "      <td>-1</td>\n",
       "      <td>0</td>\n",
       "      <td>0</td>\n",
       "      <td>0</td>\n",
       "      <td>0</td>\n",
       "      <td>0</td>\n",
       "      <td>0</td>\n",
       "      <td>0</td>\n",
       "      <td>0</td>\n",
       "      <td>0</td>\n",
       "      <td>0</td>\n",
       "      <td>0</td>\n",
       "      <td>0</td>\n",
       "    </tr>\n",
       "    <tr>\n",
       "      <th>...</th>\n",
       "      <td>...</td>\n",
       "      <td>...</td>\n",
       "      <td>...</td>\n",
       "      <td>...</td>\n",
       "      <td>...</td>\n",
       "      <td>...</td>\n",
       "      <td>...</td>\n",
       "      <td>...</td>\n",
       "      <td>...</td>\n",
       "      <td>...</td>\n",
       "      <td>...</td>\n",
       "      <td>...</td>\n",
       "      <td>...</td>\n",
       "      <td>...</td>\n",
       "      <td>...</td>\n",
       "      <td>...</td>\n",
       "    </tr>\n",
       "    <tr>\n",
       "      <th>124</th>\n",
       "      <td>1968</td>\n",
       "      <td>7238257241479193519</td>\n",
       "      <td>1</td>\n",
       "      <td>-1</td>\n",
       "      <td>0</td>\n",
       "      <td>0</td>\n",
       "      <td>0</td>\n",
       "      <td>0</td>\n",
       "      <td>0</td>\n",
       "      <td>0</td>\n",
       "      <td>0</td>\n",
       "      <td>0</td>\n",
       "      <td>0</td>\n",
       "      <td>0</td>\n",
       "      <td>0</td>\n",
       "      <td>0</td>\n",
       "    </tr>\n",
       "    <tr>\n",
       "      <th>125</th>\n",
       "      <td>1984</td>\n",
       "      <td>7238257241479193519</td>\n",
       "      <td>1</td>\n",
       "      <td>-1</td>\n",
       "      <td>0</td>\n",
       "      <td>0</td>\n",
       "      <td>0</td>\n",
       "      <td>0</td>\n",
       "      <td>0</td>\n",
       "      <td>0</td>\n",
       "      <td>0</td>\n",
       "      <td>0</td>\n",
       "      <td>0</td>\n",
       "      <td>0</td>\n",
       "      <td>0</td>\n",
       "      <td>0</td>\n",
       "    </tr>\n",
       "    <tr>\n",
       "      <th>126</th>\n",
       "      <td>2000</td>\n",
       "      <td>7238257241479193519</td>\n",
       "      <td>1</td>\n",
       "      <td>-1</td>\n",
       "      <td>0</td>\n",
       "      <td>0</td>\n",
       "      <td>0</td>\n",
       "      <td>0</td>\n",
       "      <td>0</td>\n",
       "      <td>0</td>\n",
       "      <td>0</td>\n",
       "      <td>0</td>\n",
       "      <td>0</td>\n",
       "      <td>0</td>\n",
       "      <td>0</td>\n",
       "      <td>0</td>\n",
       "    </tr>\n",
       "    <tr>\n",
       "      <th>127</th>\n",
       "      <td>2016</td>\n",
       "      <td>7238257241479193519</td>\n",
       "      <td>1</td>\n",
       "      <td>-1</td>\n",
       "      <td>0</td>\n",
       "      <td>0</td>\n",
       "      <td>0</td>\n",
       "      <td>0</td>\n",
       "      <td>0</td>\n",
       "      <td>0</td>\n",
       "      <td>0</td>\n",
       "      <td>0</td>\n",
       "      <td>0</td>\n",
       "      <td>0</td>\n",
       "      <td>0</td>\n",
       "      <td>0</td>\n",
       "    </tr>\n",
       "    <tr>\n",
       "      <th>128</th>\n",
       "      <td>2032</td>\n",
       "      <td>7238257241479193519</td>\n",
       "      <td>1</td>\n",
       "      <td>-1</td>\n",
       "      <td>0</td>\n",
       "      <td>0</td>\n",
       "      <td>0</td>\n",
       "      <td>0</td>\n",
       "      <td>0</td>\n",
       "      <td>0</td>\n",
       "      <td>0</td>\n",
       "      <td>0</td>\n",
       "      <td>0</td>\n",
       "      <td>0</td>\n",
       "      <td>0</td>\n",
       "      <td>0</td>\n",
       "    </tr>\n",
       "  </tbody>\n",
       "</table>\n",
       "<p>129 rows × 16 columns</p>\n",
       "</div>"
      ],
      "text/plain": [
       "     rank                    id  STDIO_OPENS  STDIO_FDOPENS  STDIO_READS  \\\n",
       "0       0  15920181672442173319            1             -1            0   \n",
       "1       0   7238257241479193519            1             -1            0   \n",
       "2      16   7238257241479193519            1             -1            0   \n",
       "3      32   7238257241479193519            1             -1            0   \n",
       "4      48   7238257241479193519            1             -1            0   \n",
       "..    ...                   ...          ...            ...          ...   \n",
       "124  1968   7238257241479193519            1             -1            0   \n",
       "125  1984   7238257241479193519            1             -1            0   \n",
       "126  2000   7238257241479193519            1             -1            0   \n",
       "127  2016   7238257241479193519            1             -1            0   \n",
       "128  2032   7238257241479193519            1             -1            0   \n",
       "\n",
       "     STDIO_WRITES  STDIO_SEEKS  STDIO_FLUSHES  STDIO_BYTES_WRITTEN  \\\n",
       "0               6            0              0                  280   \n",
       "1              68            0              0                 3029   \n",
       "2               0            0              0                    0   \n",
       "3               0            0              0                    0   \n",
       "4               0            0              0                    0   \n",
       "..            ...          ...            ...                  ...   \n",
       "124             0            0              0                    0   \n",
       "125             0            0              0                    0   \n",
       "126             0            0              0                    0   \n",
       "127             0            0              0                    0   \n",
       "128             0            0              0                    0   \n",
       "\n",
       "     STDIO_BYTES_READ  STDIO_MAX_BYTE_READ  STDIO_MAX_BYTE_WRITTEN  \\\n",
       "0                   0                    0                     279   \n",
       "1                   0                    0                    3028   \n",
       "2                   0                    0                       0   \n",
       "3                   0                    0                       0   \n",
       "4                   0                    0                       0   \n",
       "..                ...                  ...                     ...   \n",
       "124                 0                    0                       0   \n",
       "125                 0                    0                       0   \n",
       "126                 0                    0                       0   \n",
       "127                 0                    0                       0   \n",
       "128                 0                    0                       0   \n",
       "\n",
       "     STDIO_FASTEST_RANK  STDIO_FASTEST_RANK_BYTES  STDIO_SLOWEST_RANK  \\\n",
       "0                     0                         0                   0   \n",
       "1                     0                         0                   0   \n",
       "2                     0                         0                   0   \n",
       "3                     0                         0                   0   \n",
       "4                     0                         0                   0   \n",
       "..                  ...                       ...                 ...   \n",
       "124                   0                         0                   0   \n",
       "125                   0                         0                   0   \n",
       "126                   0                         0                   0   \n",
       "127                   0                         0                   0   \n",
       "128                   0                         0                   0   \n",
       "\n",
       "     STDIO_SLOWEST_RANK_BYTES  \n",
       "0                           0  \n",
       "1                           0  \n",
       "2                           0  \n",
       "3                           0  \n",
       "4                           0  \n",
       "..                        ...  \n",
       "124                         0  \n",
       "125                         0  \n",
       "126                         0  \n",
       "127                         0  \n",
       "128                         0  \n",
       "\n",
       "[129 rows x 16 columns]"
      ]
     },
     "metadata": {},
     "output_type": "display_data"
    },
    {
     "data": {
      "text/html": [
       "<div>\n",
       "<style scoped>\n",
       "    .dataframe tbody tr th:only-of-type {\n",
       "        vertical-align: middle;\n",
       "    }\n",
       "\n",
       "    .dataframe tbody tr th {\n",
       "        vertical-align: top;\n",
       "    }\n",
       "\n",
       "    .dataframe thead th {\n",
       "        text-align: right;\n",
       "    }\n",
       "</style>\n",
       "<table border=\"1\" class=\"dataframe\">\n",
       "  <thead>\n",
       "    <tr style=\"text-align: right;\">\n",
       "      <th></th>\n",
       "      <th>rank</th>\n",
       "      <th>id</th>\n",
       "      <th>STDIO_F_META_TIME</th>\n",
       "      <th>STDIO_F_WRITE_TIME</th>\n",
       "      <th>STDIO_F_READ_TIME</th>\n",
       "      <th>STDIO_F_OPEN_START_TIMESTAMP</th>\n",
       "      <th>STDIO_F_CLOSE_START_TIMESTAMP</th>\n",
       "      <th>STDIO_F_WRITE_START_TIMESTAMP</th>\n",
       "      <th>STDIO_F_READ_START_TIMESTAMP</th>\n",
       "      <th>STDIO_F_OPEN_END_TIMESTAMP</th>\n",
       "      <th>STDIO_F_CLOSE_END_TIMESTAMP</th>\n",
       "      <th>STDIO_F_WRITE_END_TIMESTAMP</th>\n",
       "      <th>STDIO_F_READ_END_TIMESTAMP</th>\n",
       "      <th>STDIO_F_FASTEST_RANK_TIME</th>\n",
       "      <th>STDIO_F_SLOWEST_RANK_TIME</th>\n",
       "      <th>STDIO_F_VARIANCE_RANK_TIME</th>\n",
       "      <th>STDIO_F_VARIANCE_RANK_BYTES</th>\n",
       "    </tr>\n",
       "  </thead>\n",
       "  <tbody>\n",
       "    <tr>\n",
       "      <th>0</th>\n",
       "      <td>0</td>\n",
       "      <td>15920181672442173319</td>\n",
       "      <td>0.0</td>\n",
       "      <td>0.000068</td>\n",
       "      <td>0.0</td>\n",
       "      <td>0.0</td>\n",
       "      <td>0.0</td>\n",
       "      <td>0.077528</td>\n",
       "      <td>0.0</td>\n",
       "      <td>0.0</td>\n",
       "      <td>0.0</td>\n",
       "      <td>116.283583</td>\n",
       "      <td>0.0</td>\n",
       "      <td>0.0</td>\n",
       "      <td>0.0</td>\n",
       "      <td>0.0</td>\n",
       "      <td>0.0</td>\n",
       "    </tr>\n",
       "    <tr>\n",
       "      <th>1</th>\n",
       "      <td>0</td>\n",
       "      <td>7238257241479193519</td>\n",
       "      <td>0.0</td>\n",
       "      <td>-2662.746634</td>\n",
       "      <td>0.0</td>\n",
       "      <td>0.0</td>\n",
       "      <td>0.0</td>\n",
       "      <td>0.000000</td>\n",
       "      <td>0.0</td>\n",
       "      <td>0.0</td>\n",
       "      <td>0.0</td>\n",
       "      <td>0.000000</td>\n",
       "      <td>0.0</td>\n",
       "      <td>0.0</td>\n",
       "      <td>0.0</td>\n",
       "      <td>0.0</td>\n",
       "      <td>0.0</td>\n",
       "    </tr>\n",
       "    <tr>\n",
       "      <th>2</th>\n",
       "      <td>16</td>\n",
       "      <td>7238257241479193519</td>\n",
       "      <td>0.0</td>\n",
       "      <td>0.000000</td>\n",
       "      <td>0.0</td>\n",
       "      <td>0.0</td>\n",
       "      <td>0.0</td>\n",
       "      <td>0.000000</td>\n",
       "      <td>0.0</td>\n",
       "      <td>0.0</td>\n",
       "      <td>0.0</td>\n",
       "      <td>0.000000</td>\n",
       "      <td>0.0</td>\n",
       "      <td>0.0</td>\n",
       "      <td>0.0</td>\n",
       "      <td>0.0</td>\n",
       "      <td>0.0</td>\n",
       "    </tr>\n",
       "    <tr>\n",
       "      <th>3</th>\n",
       "      <td>32</td>\n",
       "      <td>7238257241479193519</td>\n",
       "      <td>0.0</td>\n",
       "      <td>0.000000</td>\n",
       "      <td>0.0</td>\n",
       "      <td>0.0</td>\n",
       "      <td>0.0</td>\n",
       "      <td>0.000000</td>\n",
       "      <td>0.0</td>\n",
       "      <td>0.0</td>\n",
       "      <td>0.0</td>\n",
       "      <td>0.000000</td>\n",
       "      <td>0.0</td>\n",
       "      <td>0.0</td>\n",
       "      <td>0.0</td>\n",
       "      <td>0.0</td>\n",
       "      <td>0.0</td>\n",
       "    </tr>\n",
       "    <tr>\n",
       "      <th>4</th>\n",
       "      <td>48</td>\n",
       "      <td>7238257241479193519</td>\n",
       "      <td>0.0</td>\n",
       "      <td>0.000000</td>\n",
       "      <td>0.0</td>\n",
       "      <td>0.0</td>\n",
       "      <td>0.0</td>\n",
       "      <td>0.000000</td>\n",
       "      <td>0.0</td>\n",
       "      <td>0.0</td>\n",
       "      <td>0.0</td>\n",
       "      <td>0.000000</td>\n",
       "      <td>0.0</td>\n",
       "      <td>0.0</td>\n",
       "      <td>0.0</td>\n",
       "      <td>0.0</td>\n",
       "      <td>0.0</td>\n",
       "    </tr>\n",
       "    <tr>\n",
       "      <th>...</th>\n",
       "      <td>...</td>\n",
       "      <td>...</td>\n",
       "      <td>...</td>\n",
       "      <td>...</td>\n",
       "      <td>...</td>\n",
       "      <td>...</td>\n",
       "      <td>...</td>\n",
       "      <td>...</td>\n",
       "      <td>...</td>\n",
       "      <td>...</td>\n",
       "      <td>...</td>\n",
       "      <td>...</td>\n",
       "      <td>...</td>\n",
       "      <td>...</td>\n",
       "      <td>...</td>\n",
       "      <td>...</td>\n",
       "      <td>...</td>\n",
       "    </tr>\n",
       "    <tr>\n",
       "      <th>124</th>\n",
       "      <td>1968</td>\n",
       "      <td>7238257241479193519</td>\n",
       "      <td>0.0</td>\n",
       "      <td>0.000000</td>\n",
       "      <td>0.0</td>\n",
       "      <td>0.0</td>\n",
       "      <td>0.0</td>\n",
       "      <td>0.000000</td>\n",
       "      <td>0.0</td>\n",
       "      <td>0.0</td>\n",
       "      <td>0.0</td>\n",
       "      <td>0.000000</td>\n",
       "      <td>0.0</td>\n",
       "      <td>0.0</td>\n",
       "      <td>0.0</td>\n",
       "      <td>0.0</td>\n",
       "      <td>0.0</td>\n",
       "    </tr>\n",
       "    <tr>\n",
       "      <th>125</th>\n",
       "      <td>1984</td>\n",
       "      <td>7238257241479193519</td>\n",
       "      <td>0.0</td>\n",
       "      <td>0.000000</td>\n",
       "      <td>0.0</td>\n",
       "      <td>0.0</td>\n",
       "      <td>0.0</td>\n",
       "      <td>0.000000</td>\n",
       "      <td>0.0</td>\n",
       "      <td>0.0</td>\n",
       "      <td>0.0</td>\n",
       "      <td>0.000000</td>\n",
       "      <td>0.0</td>\n",
       "      <td>0.0</td>\n",
       "      <td>0.0</td>\n",
       "      <td>0.0</td>\n",
       "      <td>0.0</td>\n",
       "    </tr>\n",
       "    <tr>\n",
       "      <th>126</th>\n",
       "      <td>2000</td>\n",
       "      <td>7238257241479193519</td>\n",
       "      <td>0.0</td>\n",
       "      <td>0.000000</td>\n",
       "      <td>0.0</td>\n",
       "      <td>0.0</td>\n",
       "      <td>0.0</td>\n",
       "      <td>0.000000</td>\n",
       "      <td>0.0</td>\n",
       "      <td>0.0</td>\n",
       "      <td>0.0</td>\n",
       "      <td>0.000000</td>\n",
       "      <td>0.0</td>\n",
       "      <td>0.0</td>\n",
       "      <td>0.0</td>\n",
       "      <td>0.0</td>\n",
       "      <td>0.0</td>\n",
       "    </tr>\n",
       "    <tr>\n",
       "      <th>127</th>\n",
       "      <td>2016</td>\n",
       "      <td>7238257241479193519</td>\n",
       "      <td>0.0</td>\n",
       "      <td>0.000000</td>\n",
       "      <td>0.0</td>\n",
       "      <td>0.0</td>\n",
       "      <td>0.0</td>\n",
       "      <td>0.000000</td>\n",
       "      <td>0.0</td>\n",
       "      <td>0.0</td>\n",
       "      <td>0.0</td>\n",
       "      <td>0.000000</td>\n",
       "      <td>0.0</td>\n",
       "      <td>0.0</td>\n",
       "      <td>0.0</td>\n",
       "      <td>0.0</td>\n",
       "      <td>0.0</td>\n",
       "    </tr>\n",
       "    <tr>\n",
       "      <th>128</th>\n",
       "      <td>2032</td>\n",
       "      <td>7238257241479193519</td>\n",
       "      <td>0.0</td>\n",
       "      <td>0.000000</td>\n",
       "      <td>0.0</td>\n",
       "      <td>0.0</td>\n",
       "      <td>0.0</td>\n",
       "      <td>0.000000</td>\n",
       "      <td>0.0</td>\n",
       "      <td>0.0</td>\n",
       "      <td>0.0</td>\n",
       "      <td>0.000000</td>\n",
       "      <td>0.0</td>\n",
       "      <td>0.0</td>\n",
       "      <td>0.0</td>\n",
       "      <td>0.0</td>\n",
       "      <td>0.0</td>\n",
       "    </tr>\n",
       "  </tbody>\n",
       "</table>\n",
       "<p>129 rows × 17 columns</p>\n",
       "</div>"
      ],
      "text/plain": [
       "     rank                    id  STDIO_F_META_TIME  STDIO_F_WRITE_TIME  \\\n",
       "0       0  15920181672442173319                0.0            0.000068   \n",
       "1       0   7238257241479193519                0.0        -2662.746634   \n",
       "2      16   7238257241479193519                0.0            0.000000   \n",
       "3      32   7238257241479193519                0.0            0.000000   \n",
       "4      48   7238257241479193519                0.0            0.000000   \n",
       "..    ...                   ...                ...                 ...   \n",
       "124  1968   7238257241479193519                0.0            0.000000   \n",
       "125  1984   7238257241479193519                0.0            0.000000   \n",
       "126  2000   7238257241479193519                0.0            0.000000   \n",
       "127  2016   7238257241479193519                0.0            0.000000   \n",
       "128  2032   7238257241479193519                0.0            0.000000   \n",
       "\n",
       "     STDIO_F_READ_TIME  STDIO_F_OPEN_START_TIMESTAMP  \\\n",
       "0                  0.0                           0.0   \n",
       "1                  0.0                           0.0   \n",
       "2                  0.0                           0.0   \n",
       "3                  0.0                           0.0   \n",
       "4                  0.0                           0.0   \n",
       "..                 ...                           ...   \n",
       "124                0.0                           0.0   \n",
       "125                0.0                           0.0   \n",
       "126                0.0                           0.0   \n",
       "127                0.0                           0.0   \n",
       "128                0.0                           0.0   \n",
       "\n",
       "     STDIO_F_CLOSE_START_TIMESTAMP  STDIO_F_WRITE_START_TIMESTAMP  \\\n",
       "0                              0.0                       0.077528   \n",
       "1                              0.0                       0.000000   \n",
       "2                              0.0                       0.000000   \n",
       "3                              0.0                       0.000000   \n",
       "4                              0.0                       0.000000   \n",
       "..                             ...                            ...   \n",
       "124                            0.0                       0.000000   \n",
       "125                            0.0                       0.000000   \n",
       "126                            0.0                       0.000000   \n",
       "127                            0.0                       0.000000   \n",
       "128                            0.0                       0.000000   \n",
       "\n",
       "     STDIO_F_READ_START_TIMESTAMP  STDIO_F_OPEN_END_TIMESTAMP  \\\n",
       "0                             0.0                         0.0   \n",
       "1                             0.0                         0.0   \n",
       "2                             0.0                         0.0   \n",
       "3                             0.0                         0.0   \n",
       "4                             0.0                         0.0   \n",
       "..                            ...                         ...   \n",
       "124                           0.0                         0.0   \n",
       "125                           0.0                         0.0   \n",
       "126                           0.0                         0.0   \n",
       "127                           0.0                         0.0   \n",
       "128                           0.0                         0.0   \n",
       "\n",
       "     STDIO_F_CLOSE_END_TIMESTAMP  STDIO_F_WRITE_END_TIMESTAMP  \\\n",
       "0                            0.0                   116.283583   \n",
       "1                            0.0                     0.000000   \n",
       "2                            0.0                     0.000000   \n",
       "3                            0.0                     0.000000   \n",
       "4                            0.0                     0.000000   \n",
       "..                           ...                          ...   \n",
       "124                          0.0                     0.000000   \n",
       "125                          0.0                     0.000000   \n",
       "126                          0.0                     0.000000   \n",
       "127                          0.0                     0.000000   \n",
       "128                          0.0                     0.000000   \n",
       "\n",
       "     STDIO_F_READ_END_TIMESTAMP  STDIO_F_FASTEST_RANK_TIME  \\\n",
       "0                           0.0                        0.0   \n",
       "1                           0.0                        0.0   \n",
       "2                           0.0                        0.0   \n",
       "3                           0.0                        0.0   \n",
       "4                           0.0                        0.0   \n",
       "..                          ...                        ...   \n",
       "124                         0.0                        0.0   \n",
       "125                         0.0                        0.0   \n",
       "126                         0.0                        0.0   \n",
       "127                         0.0                        0.0   \n",
       "128                         0.0                        0.0   \n",
       "\n",
       "     STDIO_F_SLOWEST_RANK_TIME  STDIO_F_VARIANCE_RANK_TIME  \\\n",
       "0                          0.0                         0.0   \n",
       "1                          0.0                         0.0   \n",
       "2                          0.0                         0.0   \n",
       "3                          0.0                         0.0   \n",
       "4                          0.0                         0.0   \n",
       "..                         ...                         ...   \n",
       "124                        0.0                         0.0   \n",
       "125                        0.0                         0.0   \n",
       "126                        0.0                         0.0   \n",
       "127                        0.0                         0.0   \n",
       "128                        0.0                         0.0   \n",
       "\n",
       "     STDIO_F_VARIANCE_RANK_BYTES  \n",
       "0                            0.0  \n",
       "1                            0.0  \n",
       "2                            0.0  \n",
       "3                            0.0  \n",
       "4                            0.0  \n",
       "..                           ...  \n",
       "124                          0.0  \n",
       "125                          0.0  \n",
       "126                          0.0  \n",
       "127                          0.0  \n",
       "128                          0.0  \n",
       "\n",
       "[129 rows x 17 columns]"
      ]
     },
     "metadata": {},
     "output_type": "display_data"
    }
   ],
   "source": [
    "display(report.records['STDIO'].to_df()['counters'])\n",
    "display(report.records['STDIO'].to_df()['fcounters'])"
   ]
  },
  {
   "cell_type": "code",
   "execution_count": 14,
   "metadata": {},
   "outputs": [
    {
     "data": {
      "text/plain": [
       "<AxesSubplot:>"
      ]
     },
     "execution_count": 14,
     "metadata": {},
     "output_type": "execute_result"
    },
    {
     "data": {
      "image/png": "[encoded data removed]",
      "text/plain": [
       "<Figure size 432x288 with 1 Axes>"
      ]
     },
     "metadata": {
      "needs_background": "light"
     },
     "output_type": "display_data"
    }
   ],
   "source": [
    "# by default, export to pandas dataframes using .to_df() attaches id and rank information  \n",
    "# for aggregations, this can be supressed by providing attach=None, allowing you to get plots with sensible ranges directly using pandas plotting\n",
    "report.records['STDIO'].to_df(attach=['rank'])['fcounters'].plot.box(vert=False)"
   ]
  },
  {
   "cell_type": "code",
   "execution_count": 15,
   "metadata": {},
   "outputs": [
    {
     "data": {
      "text/plain": [
       "<AxesSubplot:>"
      ]
     },
     "execution_count": 15,
     "metadata": {},
     "output_type": "execute_result"
    },
    {
     "data": {
      "image/png": "[encoded data removed]",
      "text/plain": [
       "<Figure size 432x288 with 1 Axes>"
      ]
     },
     "metadata": {
      "needs_background": "light"
     },
     "output_type": "display_data"
    }
   ],
   "source": [
    "report.records['STDIO'].to_df(attach=['rank'])['counters'].plot.box(vert=False)"
   ]
  },
  {
   "cell_type": "markdown",
   "metadata": {},
   "source": [
    "#### dtype: dict"
   ]
  },
  {
   "cell_type": "code",
   "execution_count": 16,
   "metadata": {},
   "outputs": [],
   "source": [
    "report.mod_read_all_records(\"STDIO\")"
   ]
  },
  {
   "cell_type": "code",
   "execution_count": 17,
   "metadata": {},
   "outputs": [
    {
     "data": {
      "text/plain": [
       "[{'id': 15920181672442173319,\n",
       "  'rank': 0,\n",
       "  'counters': {'STDIO_OPENS': 1,\n",
       "   'STDIO_FDOPENS': -1,\n",
       "   'STDIO_READS': 0,\n",
       "   'STDIO_WRITES': 6,\n",
       "   'STDIO_SEEKS': 0,\n",
       "   'STDIO_FLUSHES': 0,\n",
       "   'STDIO_BYTES_WRITTEN': 280,\n",
       "   'STDIO_BYTES_READ': 0,\n",
       "   'STDIO_MAX_BYTE_READ': 0,\n",
       "   'STDIO_MAX_BYTE_WRITTEN': 279,\n",
       "   'STDIO_FASTEST_RANK': 0,\n",
       "   'STDIO_FASTEST_RANK_BYTES': 0,\n",
       "   'STDIO_SLOWEST_RANK': 0,\n",
       "   'STDIO_SLOWEST_RANK_BYTES': 0},\n",
       "  'fcounters': {'STDIO_F_META_TIME': 0.0,\n",
       "   'STDIO_F_WRITE_TIME': 6.794929504394531e-05,\n",
       "   'STDIO_F_READ_TIME': 0.0,\n",
       "   'STDIO_F_OPEN_START_TIMESTAMP': 0.0,\n",
       "   'STDIO_F_CLOSE_START_TIMESTAMP': 0.0,\n",
       "   'STDIO_F_WRITE_START_TIMESTAMP': 0.07752799987792969,\n",
       "   'STDIO_F_READ_START_TIMESTAMP': 0.0,\n",
       "   'STDIO_F_OPEN_END_TIMESTAMP': 0.0,\n",
       "   'STDIO_F_CLOSE_END_TIMESTAMP': 0.0,\n",
       "   'STDIO_F_WRITE_END_TIMESTAMP': 116.28358292579651,\n",
       "   'STDIO_F_READ_END_TIMESTAMP': 0.0,\n",
       "   'STDIO_F_FASTEST_RANK_TIME': 0.0,\n",
       "   'STDIO_F_SLOWEST_RANK_TIME': 0.0,\n",
       "   'STDIO_F_VARIANCE_RANK_TIME': 0.0,\n",
       "   'STDIO_F_VARIANCE_RANK_BYTES': 0.0}}]"
      ]
     },
     "execution_count": 17,
     "metadata": {},
     "output_type": "execute_result"
    }
   ],
   "source": [
    "report.records['STDIO'][0].to_dict()"
   ]
  },
  {
   "cell_type": "markdown",
   "metadata": {},
   "source": [
    "#### dtype: numpy"
   ]
  },
  {
   "cell_type": "code",
   "execution_count": 18,
   "metadata": {},
   "outputs": [
    {
     "data": {
      "text/plain": [
       "[{'id': 15920181672442173319,\n",
       "  'rank': 0,\n",
       "  'counters': array([  1,  -1,   0,   6,   0,   0, 280,   0,   0, 279,   0,   0,   0,\n",
       "           0]),\n",
       "  'fcounters': array([0.00000000e+00, 6.79492950e-05, 0.00000000e+00, 0.00000000e+00,\n",
       "         0.00000000e+00, 7.75279999e-02, 0.00000000e+00, 0.00000000e+00,\n",
       "         0.00000000e+00, 1.16283583e+02, 0.00000000e+00, 0.00000000e+00,\n",
       "         0.00000000e+00, 0.00000000e+00, 0.00000000e+00])}]"
      ]
     },
     "execution_count": 18,
     "metadata": {},
     "output_type": "execute_result"
    }
   ],
   "source": [
    "report.mod_read_all_records(\"STDIO\")\n",
    "report.records['STDIO'][0].to_numpy()"
   ]
  },
  {
   "cell_type": "code",
   "execution_count": 19,
   "metadata": {},
   "outputs": [
    {
     "name": "stdout",
     "output_type": "stream",
     "text": [
      "<class 'numpy.ndarray'>\n",
      "<class 'numpy.ndarray'>\n"
     ]
    }
   ],
   "source": [
    "print(type(report.records['STDIO'][0].to_numpy()[0]['counters']))\n",
    "print(type(report.records['STDIO'][0].to_numpy()[0]['fcounters']))"
   ]
  },
  {
   "cell_type": "markdown",
   "metadata": {},
   "source": [
    "#### The Darshan Log in Memory\n",
    "\n",
    "Let's have a look at how calling `report.mod_read_all_records(\"STDIO\")` changed the state of the log in memory."
   ]
  },
  {
   "cell_type": "code",
   "execution_count": 20,
   "metadata": {},
   "outputs": [
    {
     "name": "stdout",
     "output_type": "stream",
     "text": [
      "Filename:       example-logs/example.darshan\n",
      "Times:          2017-03-20 10:07:47 to 2017-03-20 10:09:43 (Duration 0:01:56)\n",
      "Executeable:    /global/project/projectdirs/m888/glock/tokio-abc-results/bin.edison/vpicio_uni /scratch2/scratchdirs/glock/tokioabc-s.4478544/vpicio/vpicio.hdf5 32\n",
      "Processes:      2048\n",
      "JobID:          4478544\n",
      "UID:            69615\n",
      "Modules in Log: ['POSIX', 'MPI-IO', 'LUSTRE', 'STDIO']\n",
      "Loaded Records: {'STDIO': 129}\n",
      "Name Records:   2\n",
      "Darshan/Hints:  {'lib_ver': '3.1.3', 'h': 'romio_no_indep_rw=true;cb_nodes=4'}\n",
      "DarshanReport:  id(140679439757520) (tmp)\n"
     ]
    }
   ],
   "source": [
    "# Compare to info line: \"Loaded Records: {...}\"\n",
    "report.info()"
   ]
  },
  {
   "cell_type": "markdown",
   "metadata": {},
   "source": [
    "When interacting on individual log data for example in a for loop you would most likely care about the following instead:"
   ]
  },
  {
   "cell_type": "code",
   "execution_count": 21,
   "metadata": {},
   "outputs": [
    {
     "name": "stdout",
     "output_type": "stream",
     "text": [
      "Num records: 129\n",
      "{'id': 15920181672442173319, 'rank': 0, 'counters': array([  1,  -1,   0,   6,   0,   0, 280,   0,   0, 279,   0,   0,   0,\n",
      "         0]), 'fcounters': array([0.00000000e+00, 6.79492950e-05, 0.00000000e+00, 0.00000000e+00,\n",
      "       0.00000000e+00, 7.75279999e-02, 0.00000000e+00, 0.00000000e+00,\n",
      "       0.00000000e+00, 1.16283583e+02, 0.00000000e+00, 0.00000000e+00,\n",
      "       0.00000000e+00, 0.00000000e+00, 0.00000000e+00])}\n",
      "{'id': 7238257241479193519, 'rank': 0, 'counters': array([   1,   -1,    0,   68,    0,    0, 3029,    0,    0, 3028,    0,\n",
      "          0,    0,    0]), 'fcounters': array([    0.        , -2662.74663377,     0.        ,     0.        ,\n",
      "           0.        ,     0.        ,     0.        ,     0.        ,\n",
      "           0.        ,     0.        ,     0.        ,     0.        ,\n",
      "           0.        ,     0.        ,     0.        ])}\n",
      "{'id': 7238257241479193519, 'rank': 16, 'counters': array([ 1, -1,  0,  0,  0,  0,  0,  0,  0,  0,  0,  0,  0,  0]), 'fcounters': array([0., 0., 0., 0., 0., 0., 0., 0., 0., 0., 0., 0., 0., 0., 0.])}\n",
      "{'id': 7238257241479193519, 'rank': 32, 'counters': array([ 1, -1,  0,  0,  0,  0,  0,  0,  0,  0,  0,  0,  0,  0]), 'fcounters': array([0., 0., 0., 0., 0., 0., 0., 0., 0., 0., 0., 0., 0., 0., 0.])}\n",
      "{'id': 7238257241479193519, 'rank': 48, 'counters': array([ 1, -1,  0,  0,  0,  0,  0,  0,  0,  0,  0,  0,  0,  0]), 'fcounters': array([0., 0., 0., 0., 0., 0., 0., 0., 0., 0., 0., 0., 0., 0., 0.])}\n",
      "{'id': 7238257241479193519, 'rank': 64, 'counters': array([ 1, -1,  0,  0,  0,  0,  0,  0,  0,  0,  0,  0,  0,  0]), 'fcounters': array([0., 0., 0., 0., 0., 0., 0., 0., 0., 0., 0., 0., 0., 0., 0.])}\n",
      "{'id': 7238257241479193519, 'rank': 80, 'counters': array([ 1, -1,  0,  0,  0,  0,  0,  0,  0,  0,  0,  0,  0,  0]), 'fcounters': array([0., 0., 0., 0., 0., 0., 0., 0., 0., 0., 0., 0., 0., 0., 0.])}\n",
      "{'id': 7238257241479193519, 'rank': 96, 'counters': array([ 1, -1,  0,  0,  0,  0,  0,  0,  0,  0,  0,  0,  0,  0]), 'fcounters': array([0., 0., 0., 0., 0., 0., 0., 0., 0., 0., 0., 0., 0., 0., 0.])}\n",
      "{'id': 7238257241479193519, 'rank': 112, 'counters': array([ 1, -1,  0,  0,  0,  0,  0,  0,  0,  0,  0,  0,  0,  0]), 'fcounters': array([0., 0., 0., 0., 0., 0., 0., 0., 0., 0., 0., 0., 0., 0., 0.])}\n",
      "{'id': 7238257241479193519, 'rank': 128, 'counters': array([ 1, -1,  0,  0,  0,  0,  0,  0,  0,  0,  0,  0,  0,  0]), 'fcounters': array([0., 0., 0., 0., 0., 0., 0., 0., 0., 0., 0., 0., 0., 0., 0.])}\n"
     ]
    }
   ],
   "source": [
    "print(\"Num records:\", len(report.records['STDIO']))\n",
    "\n",
    "# show first 10 records\n",
    "for rec in report.records['STDIO'][0:10]:\n",
    "    print(rec)\n",
    "    # do something with the record"
   ]
  },
  {
   "cell_type": "markdown",
   "metadata": {},
   "source": [
    "### Aggregation and Filtering (Experimental)\n",
    "\n",
    "Darshan log data is routinely aggregated for quick overview. The report object offers a few methods to perform common aggregations:"
   ]
  },
  {
   "cell_type": "markdown",
   "metadata": {},
   "source": [
    "Report aggregations and summarization remains **experimental** for now, mostly to allow interfaces to stabilize. But experimental features can be switched on easily by invoking `darshan.enable_experimental()`:"
   ]
  },
  {
   "cell_type": "code",
   "execution_count": 22,
   "metadata": {},
   "outputs": [
    {
     "name": "stdout",
     "output_type": "stream",
     "text": [
      "Added method agg_ioops to DarshanReport.\n",
      "Added method create_dxttimeline to DarshanReport.\n",
      "Added method create_sankey to DarshanReport.\n",
      "Added method create_time_summary to DarshanReport.\n",
      "Added method mod_agg_iohist to DarshanReport.\n",
      "Added method name_records_summary to DarshanReport.\n",
      "Added method print_module_records to DarshanReport.\n",
      "Added method records_as_dict to DarshanReport.\n",
      "Added method summarize to DarshanReport.\n",
      "Added method create_timeline to DarshanReport.\n",
      "Added method merge to DarshanReport.\n",
      "Added method filter to DarshanReport.\n",
      "Added method reduce to DarshanReport.\n"
     ]
    }
   ],
   "source": [
    "import darshan\n",
    "darshan.enable_experimental(verbose=True) # Enable verbosity, listing new functionality"
   ]
  },
  {
   "cell_type": "code",
   "execution_count": 23,
   "metadata": {},
   "outputs": [
    {
     "data": {
      "text/plain": [
       "{15920181672442173319: {'name': '<STDOUT>', 'counts': {'STDIO': 1}},\n",
       " 7238257241479193519: {'name': '<STDERR>', 'counts': {'STDIO': 128}}}"
      ]
     },
     "execution_count": 23,
     "metadata": {},
     "output_type": "execute_result"
    }
   ],
   "source": [
    "# Example report, which counts records in log across modules \n",
    "report.name_records_summary()"
   ]
  },
  {
   "cell_type": "markdown",
   "metadata": {},
   "source": [
    "### Chain operations like filtering and reductions\n",
    "The filter and reduce operations return DarshanReports themsleves, thus allow to convieniently chain operations."
   ]
  },
  {
   "cell_type": "code",
   "execution_count": 24,
   "metadata": {
    "scrolled": true
   },
   "outputs": [
    {
     "data": {
      "text/plain": [
       "{14734109647742566553: '<STDIN>',\n",
       " 15920181672442173319: '<STDOUT>',\n",
       " 7238257241479193519: '<STDERR>',\n",
       " 6301063301082038805: '/scratch2/scratchdirs/glock/tokioabc-s.4478544/vpicio/vpicio.hdf5'}"
      ]
     },
     "execution_count": 24,
     "metadata": {},
     "output_type": "execute_result"
    }
   ],
   "source": [
    "import pprint\n",
    "\n",
    "import darshan\n",
    "darshan.enable_experimental()\n",
    "\n",
    "report = darshan.DarshanReport(\"example-logs/example.darshan\", read_all=True)\n",
    "report.name_records"
   ]
  },
  {
   "cell_type": "code",
   "execution_count": 25,
   "metadata": {},
   "outputs": [
    {
     "name": "stdout",
     "output_type": "stream",
     "text": [
      "Filename:       example-logs/example.darshan\n",
      "Times:          2017-03-20 10:07:47 to 2017-03-20 10:09:43 (Duration 0:01:56)\n",
      "Executeable:    /global/project/projectdirs/m888/glock/tokio-abc-results/bin.edison/vpicio_uni /scratch2/scratchdirs/glock/tokioabc-s.4478544/vpicio/vpicio.hdf5 32\n",
      "Processes:      2048\n",
      "JobID:          4478544\n",
      "UID:            69615\n",
      "Modules in Log: ['POSIX', 'MPI-IO', 'LUSTRE', 'STDIO']\n",
      "Loaded Records: {'POSIX': 1, 'MPI-IO': 1, 'STDIO': 129, 'LUSTRE': 1}\n",
      "Name Records:   4\n",
      "Darshan/Hints:  {'lib_ver': '3.1.3', 'h': 'romio_no_indep_rw=true;cb_nodes=4'}\n",
      "DarshanReport:  id(140678442618160) (tmp)\n"
     ]
    }
   ],
   "source": [
    "# The original report for reference. Take note of the \"Loaded Records\" section\n",
    "report.info()"
   ]
  },
  {
   "cell_type": "code",
   "execution_count": 26,
   "metadata": {},
   "outputs": [
    {
     "name": "stdout",
     "output_type": "stream",
     "text": [
      "Filename:       example-logs/example.darshan\n",
      "Times:          2017-03-20 10:07:47 to 2017-03-20 10:09:43 (Duration 0:01:56)\n",
      "Executeable:    /global/project/projectdirs/m888/glock/tokio-abc-results/bin.edison/vpicio_uni /scratch2/scratchdirs/glock/tokioabc-s.4478544/vpicio/vpicio.hdf5 32\n",
      "Processes:      2048\n",
      "JobID:          4478544\n",
      "UID:            69615\n",
      "Modules in Log: ['POSIX', 'MPI-IO', 'LUSTRE', 'STDIO']\n",
      "Loaded Records: {'STDIO': 129}\n",
      "Name Records:   4\n",
      "Darshan/Hints:  {'lib_ver': '3.1.3', 'h': 'romio_no_indep_rw=true;cb_nodes=4'}\n",
      "DarshanReport:  id(140678442334480) (tmp)\n"
     ]
    }
   ],
   "source": [
    "# name_records maybe filenames (or ids)\n",
    "# Note how only records of the STDIO module remain\n",
    "report.filter(name_records=['<STDIN>', '<STDOUT>', '<STDERR>']).info()"
   ]
  },
  {
   "cell_type": "code",
   "execution_count": 27,
   "metadata": {
    "tags": []
   },
   "outputs": [
    {
     "name": "stdout",
     "output_type": "stream",
     "text": [
      "Filename:       example-logs/example.darshan\n",
      "Times:          2017-03-20 10:07:47 to 2017-03-20 10:09:43 (Duration 0:01:56)\n",
      "Executeable:    /global/project/projectdirs/m888/glock/tokio-abc-results/bin.edison/vpicio_uni /scratch2/scratchdirs/glock/tokioabc-s.4478544/vpicio/vpicio.hdf5 32\n",
      "Processes:      2048\n",
      "JobID:          4478544\n",
      "UID:            69615\n",
      "Modules in Log: ['POSIX', 'MPI-IO', 'LUSTRE', 'STDIO']\n",
      "Loaded Records: {'POSIX': 1, 'MPI-IO': 1, 'LUSTRE': 1}\n",
      "Name Records:   4\n",
      "Darshan/Hints:  {'lib_ver': '3.1.3', 'h': 'romio_no_indep_rw=true;cb_nodes=4'}\n",
      "DarshanReport:  id(140678442207504) (tmp)\n"
     ]
    }
   ],
   "source": [
    "# name_records using a id\n",
    "# Note how only one POSIX, one MPI-IO and one LUSTRE record remain\n",
    "report.filter(name_records=[6301063301082038805]).info()"
   ]
  },
  {
   "cell_type": "code",
   "execution_count": 28,
   "metadata": {
    "tags": []
   },
   "outputs": [
    {
     "name": "stdout",
     "output_type": "stream",
     "text": [
      "Filename:       example-logs/example.darshan\n",
      "Times:          2017-03-20 10:07:47 to 2017-03-20 10:09:43 (Duration 0:01:56)\n",
      "Executeable:    /global/project/projectdirs/m888/glock/tokio-abc-results/bin.edison/vpicio_uni /scratch2/scratchdirs/glock/tokioabc-s.4478544/vpicio/vpicio.hdf5 32\n",
      "Processes:      2048\n",
      "JobID:          4478544\n",
      "UID:            69615\n",
      "Modules in Log: ['POSIX', 'MPI-IO', 'LUSTRE', 'STDIO']\n",
      "Loaded Records: {'POSIX': 1, 'MPI-IO': 1, 'LUSTRE': 1}\n",
      "Name Records:   4\n",
      "Darshan/Hints:  {'lib_ver': '3.1.3', 'h': 'romio_no_indep_rw=true;cb_nodes=4'}\n",
      "DarshanReport:  id(140678442333232) (tmp)\n"
     ]
    }
   ],
   "source": [
    "# reduce all after filtering\n",
    "report.filter(pattern=\"*.hdf5\").reduce().info()"
   ]
  },
  {
   "cell_type": "code",
   "execution_count": 29,
   "metadata": {
    "scrolled": true
   },
   "outputs": [
    {
     "data": {
      "text/plain": [
       "{'POSIX': <darshan.report.DarshanRecordCollection at 0x7ff240953610>}"
      ]
     },
     "execution_count": 29,
     "metadata": {},
     "output_type": "execute_result"
    }
   ],
   "source": [
    "# only preserve some\n",
    "report.filter(name_records=[6301063301082038805]).reduce(mods=['POSIX', 'STDIO']).records"
   ]
  },
  {
   "cell_type": "code",
   "execution_count": null,
   "metadata": {},
   "outputs": [],
   "source": []
  },
  {
   "cell_type": "code",
   "execution_count": 30,
   "metadata": {
    "scrolled": true
   },
   "outputs": [
    {
     "name": "stdout",
     "output_type": "stream",
     "text": [
      "IOOPS have not been aggregated for this report.\n"
     ]
    }
   ],
   "source": [
    "# expected to fail\n",
    "try:\n",
    "    pprint.pprint(report.summary['agg_ioops'])\n",
    "except:\n",
    "    print(\"IOOPS have not been aggregated for this report.\")"
   ]
  },
  {
   "cell_type": "code",
   "execution_count": 31,
   "metadata": {},
   "outputs": [],
   "source": [
    "report.read_all() \n",
    "report.summarize()"
   ]
  },
  {
   "cell_type": "code",
   "execution_count": 32,
   "metadata": {
    "scrolled": true
   },
   "outputs": [
    {
     "data": {
      "text/plain": [
       "{'MPI-IO': {'MPIIO_INDEP_OPENS': 0,\n",
       "  'MPIIO_COLL_OPENS': 2048,\n",
       "  'MPIIO_INDEP_READS': 0,\n",
       "  'MPIIO_INDEP_WRITES': 18,\n",
       "  'MPIIO_COLL_READS': 0,\n",
       "  'MPIIO_COLL_WRITES': 16384,\n",
       "  'MPIIO_SPLIT_READS': 0,\n",
       "  'MPIIO_SPLIT_WRITES': 0,\n",
       "  'MPIIO_NB_READS': 0,\n",
       "  'MPIIO_NB_WRITES': 0,\n",
       "  'MPIIO_SYNCS': 0,\n",
       "  'MPIIO_HINTS': 0,\n",
       "  'MPIIO_VIEWS': 32768,\n",
       "  'MPIIO_MODE': 9,\n",
       "  'MPIIO_BYTES_READ': 0,\n",
       "  'MPIIO_BYTES_WRITTEN': 2199023259968,\n",
       "  'MPIIO_RW_SWITCHES': 0,\n",
       "  'MPIIO_MAX_READ_TIME_SIZE': 0,\n",
       "  'MPIIO_MAX_WRITE_TIME_SIZE': 134217728,\n",
       "  'MPIIO_SIZE_READ_AGG_0_100': 0,\n",
       "  'MPIIO_SIZE_READ_AGG_100_1K': 0,\n",
       "  'MPIIO_SIZE_READ_AGG_1K_10K': 0,\n",
       "  'MPIIO_SIZE_READ_AGG_10K_100K': 0,\n",
       "  'MPIIO_SIZE_READ_AGG_100K_1M': 0,\n",
       "  'MPIIO_SIZE_READ_AGG_1M_4M': 0,\n",
       "  'MPIIO_SIZE_READ_AGG_4M_10M': 0,\n",
       "  'MPIIO_SIZE_READ_AGG_10M_100M': 0,\n",
       "  'MPIIO_SIZE_READ_AGG_100M_1G': 0,\n",
       "  'MPIIO_SIZE_READ_AGG_1G_PLUS': 0,\n",
       "  'MPIIO_SIZE_WRITE_AGG_0_100': 4,\n",
       "  'MPIIO_SIZE_WRITE_AGG_100_1K': 14,\n",
       "  'MPIIO_SIZE_WRITE_AGG_1K_10K': 0,\n",
       "  'MPIIO_SIZE_WRITE_AGG_10K_100K': 0,\n",
       "  'MPIIO_SIZE_WRITE_AGG_100K_1M': 0,\n",
       "  'MPIIO_SIZE_WRITE_AGG_1M_4M': 0,\n",
       "  'MPIIO_SIZE_WRITE_AGG_4M_10M': 0,\n",
       "  'MPIIO_SIZE_WRITE_AGG_10M_100M': 0,\n",
       "  'MPIIO_SIZE_WRITE_AGG_100M_1G': 16384,\n",
       "  'MPIIO_SIZE_WRITE_AGG_1G_PLUS': 0,\n",
       "  'MPIIO_ACCESS1_ACCESS': 134217728,\n",
       "  'MPIIO_ACCESS2_ACCESS': 272,\n",
       "  'MPIIO_ACCESS3_ACCESS': 544,\n",
       "  'MPIIO_ACCESS4_ACCESS': 328,\n",
       "  'MPIIO_ACCESS1_COUNT': 16384,\n",
       "  'MPIIO_ACCESS2_COUNT': 8,\n",
       "  'MPIIO_ACCESS3_COUNT': 2,\n",
       "  'MPIIO_ACCESS4_COUNT': 2,\n",
       "  'MPIIO_FASTEST_RANK': 597,\n",
       "  'MPIIO_FASTEST_RANK_BYTES': 1073741824,\n",
       "  'MPIIO_SLOWEST_RANK': 1312,\n",
       "  'MPIIO_SLOWEST_RANK_BYTES': 1073741824},\n",
       " 'MPI-IO_indep_simple': {'Read': 0,\n",
       "  'Write': 18,\n",
       "  'Open': 0,\n",
       "  'Stat': 0,\n",
       "  'Seek': 0,\n",
       "  'Mmap': 0,\n",
       "  'Fsync': 0},\n",
       " 'MPI-IO_coll_simple': {'Read': 0,\n",
       "  'Write': 16384,\n",
       "  'Open': 2048,\n",
       "  'Stat': 0,\n",
       "  'Seek': 0,\n",
       "  'Mmap': 0,\n",
       "  'Fsync': 0},\n",
       " 'POSIX': {'POSIX_OPENS': 2049,\n",
       "  'POSIX_FILENOS': -1,\n",
       "  'POSIX_DUPS': -1,\n",
       "  'POSIX_READS': 0,\n",
       "  'POSIX_WRITES': 16402,\n",
       "  'POSIX_SEEKS': 16404,\n",
       "  'POSIX_STATS': 0,\n",
       "  'POSIX_MMAPS': 0,\n",
       "  'POSIX_FSYNCS': 0,\n",
       "  'POSIX_FDSYNCS': 0,\n",
       "  'POSIX_RENAME_SOURCES': -1,\n",
       "  'POSIX_RENAME_TARGETS': -1,\n",
       "  'POSIX_RENAMED_FROM': 0,\n",
       "  'POSIX_MODE': 0,\n",
       "  'POSIX_BYTES_READ': 0,\n",
       "  'POSIX_BYTES_WRITTEN': 2199023259968,\n",
       "  'POSIX_MAX_BYTE_READ': 0,\n",
       "  'POSIX_MAX_BYTE_WRITTEN': 2199023261831,\n",
       "  'POSIX_CONSEC_READS': 0,\n",
       "  'POSIX_CONSEC_WRITES': 0,\n",
       "  'POSIX_SEQ_READS': 0,\n",
       "  'POSIX_SEQ_WRITES': 16384,\n",
       "  'POSIX_RW_SWITCHES': 0,\n",
       "  'POSIX_MEM_NOT_ALIGNED': 0,\n",
       "  'POSIX_MEM_ALIGNMENT': 8,\n",
       "  'POSIX_FILE_NOT_ALIGNED': 16401,\n",
       "  'POSIX_FILE_ALIGNMENT': 1048576,\n",
       "  'POSIX_MAX_READ_TIME_SIZE': 0,\n",
       "  'POSIX_MAX_WRITE_TIME_SIZE': 134217728,\n",
       "  'POSIX_SIZE_READ_0_100': 0,\n",
       "  'POSIX_SIZE_READ_100_1K': 0,\n",
       "  'POSIX_SIZE_READ_1K_10K': 0,\n",
       "  'POSIX_SIZE_READ_10K_100K': 0,\n",
       "  'POSIX_SIZE_READ_100K_1M': 0,\n",
       "  'POSIX_SIZE_READ_1M_4M': 0,\n",
       "  'POSIX_SIZE_READ_4M_10M': 0,\n",
       "  'POSIX_SIZE_READ_10M_100M': 0,\n",
       "  'POSIX_SIZE_READ_100M_1G': 0,\n",
       "  'POSIX_SIZE_READ_1G_PLUS': 0,\n",
       "  'POSIX_SIZE_WRITE_0_100': 4,\n",
       "  'POSIX_SIZE_WRITE_100_1K': 14,\n",
       "  'POSIX_SIZE_WRITE_1K_10K': 0,\n",
       "  'POSIX_SIZE_WRITE_10K_100K': 0,\n",
       "  'POSIX_SIZE_WRITE_100K_1M': 0,\n",
       "  'POSIX_SIZE_WRITE_1M_4M': 0,\n",
       "  'POSIX_SIZE_WRITE_4M_10M': 0,\n",
       "  'POSIX_SIZE_WRITE_10M_100M': 0,\n",
       "  'POSIX_SIZE_WRITE_100M_1G': 16384,\n",
       "  'POSIX_SIZE_WRITE_1G_PLUS': 0,\n",
       "  'POSIX_STRIDE1_STRIDE': 274743689216,\n",
       "  'POSIX_STRIDE2_STRIDE': 274743691264,\n",
       "  'POSIX_STRIDE3_STRIDE': 0,\n",
       "  'POSIX_STRIDE4_STRIDE': 0,\n",
       "  'POSIX_STRIDE1_COUNT': 10240,\n",
       "  'POSIX_STRIDE2_COUNT': 4096,\n",
       "  'POSIX_STRIDE3_COUNT': 0,\n",
       "  'POSIX_STRIDE4_COUNT': 0,\n",
       "  'POSIX_ACCESS1_ACCESS': 134217728,\n",
       "  'POSIX_ACCESS2_ACCESS': 272,\n",
       "  'POSIX_ACCESS3_ACCESS': 544,\n",
       "  'POSIX_ACCESS4_ACCESS': 328,\n",
       "  'POSIX_ACCESS1_COUNT': 16384,\n",
       "  'POSIX_ACCESS2_COUNT': 8,\n",
       "  'POSIX_ACCESS3_COUNT': 2,\n",
       "  'POSIX_ACCESS4_COUNT': 2,\n",
       "  'POSIX_FASTEST_RANK': 597,\n",
       "  'POSIX_FASTEST_RANK_BYTES': 1073741824,\n",
       "  'POSIX_SLOWEST_RANK': 1312,\n",
       "  'POSIX_SLOWEST_RANK_BYTES': 1073741824},\n",
       " 'POSIX_simple': {'Read': 0,\n",
       "  'Write': 16402,\n",
       "  'Open': 2049,\n",
       "  'Stat': 0,\n",
       "  'Seek': 16404,\n",
       "  'Mmap': 0,\n",
       "  'Fsync': 0},\n",
       " 'STDIO': {'STDIO_OPENS': 129,\n",
       "  'STDIO_FDOPENS': -129,\n",
       "  'STDIO_READS': 0,\n",
       "  'STDIO_WRITES': 74,\n",
       "  'STDIO_SEEKS': 0,\n",
       "  'STDIO_FLUSHES': 0,\n",
       "  'STDIO_BYTES_WRITTEN': 3309,\n",
       "  'STDIO_BYTES_READ': 0,\n",
       "  'STDIO_MAX_BYTE_READ': 0,\n",
       "  'STDIO_MAX_BYTE_WRITTEN': 3307,\n",
       "  'STDIO_FASTEST_RANK': 0,\n",
       "  'STDIO_FASTEST_RANK_BYTES': 0,\n",
       "  'STDIO_SLOWEST_RANK': 0,\n",
       "  'STDIO_SLOWEST_RANK_BYTES': 0},\n",
       " 'STDIO_simple': {'Read': 0,\n",
       "  'Write': 74,\n",
       "  'Open': 129,\n",
       "  'Stat': 0,\n",
       "  'Seek': 0,\n",
       "  'Mmap': 0,\n",
       "  'Fsync': 0}}"
      ]
     },
     "execution_count": 32,
     "metadata": {},
     "output_type": "execute_result"
    }
   ],
   "source": [
    "report.summary['agg_ioops']"
   ]
  },
  {
   "cell_type": "markdown",
   "metadata": {},
   "source": [
    "Or fine grained:"
   ]
  },
  {
   "cell_type": "code",
   "execution_count": 33,
   "metadata": {},
   "outputs": [
    {
     "data": {
      "text/plain": [
       "{'READ_0_100': 0,\n",
       " 'READ_100_1K': 0,\n",
       " 'READ_1K_10K': 0,\n",
       " 'READ_10K_100K': 0,\n",
       " 'READ_100K_1M': 0,\n",
       " 'READ_1M_4M': 0,\n",
       " 'READ_4M_10M': 0,\n",
       " 'READ_10M_100M': 0,\n",
       " 'READ_100M_1G': 0,\n",
       " 'READ_1G_PLUS': 0,\n",
       " 'WRITE_0_100': 4,\n",
       " 'WRITE_100_1K': 14,\n",
       " 'WRITE_1K_10K': 0,\n",
       " 'WRITE_10K_100K': 0,\n",
       " 'WRITE_100K_1M': 0,\n",
       " 'WRITE_1M_4M': 0,\n",
       " 'WRITE_4M_10M': 0,\n",
       " 'WRITE_10M_100M': 0,\n",
       " 'WRITE_100M_1G': 16384,\n",
       " 'WRITE_1G_PLUS': 0}"
      ]
     },
     "execution_count": 33,
     "metadata": {},
     "output_type": "execute_result"
    }
   ],
   "source": [
    "report.mod_agg_iohist(\"MPI-IO\")  # to create the histograms"
   ]
  },
  {
   "cell_type": "code",
   "execution_count": 34,
   "metadata": {},
   "outputs": [
    {
     "data": {
      "text/plain": [
       "{'MPI-IO': {'MPIIO_INDEP_OPENS': 0,\n",
       "  'MPIIO_COLL_OPENS': 2048,\n",
       "  'MPIIO_INDEP_READS': 0,\n",
       "  'MPIIO_INDEP_WRITES': 18,\n",
       "  'MPIIO_COLL_READS': 0,\n",
       "  'MPIIO_COLL_WRITES': 16384,\n",
       "  'MPIIO_SPLIT_READS': 0,\n",
       "  'MPIIO_SPLIT_WRITES': 0,\n",
       "  'MPIIO_NB_READS': 0,\n",
       "  'MPIIO_NB_WRITES': 0,\n",
       "  'MPIIO_SYNCS': 0,\n",
       "  'MPIIO_HINTS': 0,\n",
       "  'MPIIO_VIEWS': 32768,\n",
       "  'MPIIO_MODE': 9,\n",
       "  'MPIIO_BYTES_READ': 0,\n",
       "  'MPIIO_BYTES_WRITTEN': 2199023259968,\n",
       "  'MPIIO_RW_SWITCHES': 0,\n",
       "  'MPIIO_MAX_READ_TIME_SIZE': 0,\n",
       "  'MPIIO_MAX_WRITE_TIME_SIZE': 134217728,\n",
       "  'MPIIO_SIZE_READ_AGG_0_100': 0,\n",
       "  'MPIIO_SIZE_READ_AGG_100_1K': 0,\n",
       "  'MPIIO_SIZE_READ_AGG_1K_10K': 0,\n",
       "  'MPIIO_SIZE_READ_AGG_10K_100K': 0,\n",
       "  'MPIIO_SIZE_READ_AGG_100K_1M': 0,\n",
       "  'MPIIO_SIZE_READ_AGG_1M_4M': 0,\n",
       "  'MPIIO_SIZE_READ_AGG_4M_10M': 0,\n",
       "  'MPIIO_SIZE_READ_AGG_10M_100M': 0,\n",
       "  'MPIIO_SIZE_READ_AGG_100M_1G': 0,\n",
       "  'MPIIO_SIZE_READ_AGG_1G_PLUS': 0,\n",
       "  'MPIIO_SIZE_WRITE_AGG_0_100': 4,\n",
       "  'MPIIO_SIZE_WRITE_AGG_100_1K': 14,\n",
       "  'MPIIO_SIZE_WRITE_AGG_1K_10K': 0,\n",
       "  'MPIIO_SIZE_WRITE_AGG_10K_100K': 0,\n",
       "  'MPIIO_SIZE_WRITE_AGG_100K_1M': 0,\n",
       "  'MPIIO_SIZE_WRITE_AGG_1M_4M': 0,\n",
       "  'MPIIO_SIZE_WRITE_AGG_4M_10M': 0,\n",
       "  'MPIIO_SIZE_WRITE_AGG_10M_100M': 0,\n",
       "  'MPIIO_SIZE_WRITE_AGG_100M_1G': 16384,\n",
       "  'MPIIO_SIZE_WRITE_AGG_1G_PLUS': 0,\n",
       "  'MPIIO_ACCESS1_ACCESS': 134217728,\n",
       "  'MPIIO_ACCESS2_ACCESS': 272,\n",
       "  'MPIIO_ACCESS3_ACCESS': 544,\n",
       "  'MPIIO_ACCESS4_ACCESS': 328,\n",
       "  'MPIIO_ACCESS1_COUNT': 16384,\n",
       "  'MPIIO_ACCESS2_COUNT': 8,\n",
       "  'MPIIO_ACCESS3_COUNT': 2,\n",
       "  'MPIIO_ACCESS4_COUNT': 2,\n",
       "  'MPIIO_FASTEST_RANK': 597,\n",
       "  'MPIIO_FASTEST_RANK_BYTES': 1073741824,\n",
       "  'MPIIO_SLOWEST_RANK': 1312,\n",
       "  'MPIIO_SLOWEST_RANK_BYTES': 1073741824},\n",
       " 'MPI-IO_indep_simple': {'Read': 0,\n",
       "  'Write': 18,\n",
       "  'Open': 0,\n",
       "  'Stat': 0,\n",
       "  'Seek': 0,\n",
       "  'Mmap': 0,\n",
       "  'Fsync': 0},\n",
       " 'MPI-IO_coll_simple': {'Read': 0,\n",
       "  'Write': 16384,\n",
       "  'Open': 2048,\n",
       "  'Stat': 0,\n",
       "  'Seek': 0,\n",
       "  'Mmap': 0,\n",
       "  'Fsync': 0},\n",
       " 'POSIX': {'POSIX_OPENS': 2049,\n",
       "  'POSIX_FILENOS': -1,\n",
       "  'POSIX_DUPS': -1,\n",
       "  'POSIX_READS': 0,\n",
       "  'POSIX_WRITES': 16402,\n",
       "  'POSIX_SEEKS': 16404,\n",
       "  'POSIX_STATS': 0,\n",
       "  'POSIX_MMAPS': 0,\n",
       "  'POSIX_FSYNCS': 0,\n",
       "  'POSIX_FDSYNCS': 0,\n",
       "  'POSIX_RENAME_SOURCES': -1,\n",
       "  'POSIX_RENAME_TARGETS': -1,\n",
       "  'POSIX_RENAMED_FROM': 0,\n",
       "  'POSIX_MODE': 0,\n",
       "  'POSIX_BYTES_READ': 0,\n",
       "  'POSIX_BYTES_WRITTEN': 2199023259968,\n",
       "  'POSIX_MAX_BYTE_READ': 0,\n",
       "  'POSIX_MAX_BYTE_WRITTEN': 2199023261831,\n",
       "  'POSIX_CONSEC_READS': 0,\n",
       "  'POSIX_CONSEC_WRITES': 0,\n",
       "  'POSIX_SEQ_READS': 0,\n",
       "  'POSIX_SEQ_WRITES': 16384,\n",
       "  'POSIX_RW_SWITCHES': 0,\n",
       "  'POSIX_MEM_NOT_ALIGNED': 0,\n",
       "  'POSIX_MEM_ALIGNMENT': 8,\n",
       "  'POSIX_FILE_NOT_ALIGNED': 16401,\n",
       "  'POSIX_FILE_ALIGNMENT': 1048576,\n",
       "  'POSIX_MAX_READ_TIME_SIZE': 0,\n",
       "  'POSIX_MAX_WRITE_TIME_SIZE': 134217728,\n",
       "  'POSIX_SIZE_READ_0_100': 0,\n",
       "  'POSIX_SIZE_READ_100_1K': 0,\n",
       "  'POSIX_SIZE_READ_1K_10K': 0,\n",
       "  'POSIX_SIZE_READ_10K_100K': 0,\n",
       "  'POSIX_SIZE_READ_100K_1M': 0,\n",
       "  'POSIX_SIZE_READ_1M_4M': 0,\n",
       "  'POSIX_SIZE_READ_4M_10M': 0,\n",
       "  'POSIX_SIZE_READ_10M_100M': 0,\n",
       "  'POSIX_SIZE_READ_100M_1G': 0,\n",
       "  'POSIX_SIZE_READ_1G_PLUS': 0,\n",
       "  'POSIX_SIZE_WRITE_0_100': 4,\n",
       "  'POSIX_SIZE_WRITE_100_1K': 14,\n",
       "  'POSIX_SIZE_WRITE_1K_10K': 0,\n",
       "  'POSIX_SIZE_WRITE_10K_100K': 0,\n",
       "  'POSIX_SIZE_WRITE_100K_1M': 0,\n",
       "  'POSIX_SIZE_WRITE_1M_4M': 0,\n",
       "  'POSIX_SIZE_WRITE_4M_10M': 0,\n",
       "  'POSIX_SIZE_WRITE_10M_100M': 0,\n",
       "  'POSIX_SIZE_WRITE_100M_1G': 16384,\n",
       "  'POSIX_SIZE_WRITE_1G_PLUS': 0,\n",
       "  'POSIX_STRIDE1_STRIDE': 274743689216,\n",
       "  'POSIX_STRIDE2_STRIDE': 274743691264,\n",
       "  'POSIX_STRIDE3_STRIDE': 0,\n",
       "  'POSIX_STRIDE4_STRIDE': 0,\n",
       "  'POSIX_STRIDE1_COUNT': 10240,\n",
       "  'POSIX_STRIDE2_COUNT': 4096,\n",
       "  'POSIX_STRIDE3_COUNT': 0,\n",
       "  'POSIX_STRIDE4_COUNT': 0,\n",
       "  'POSIX_ACCESS1_ACCESS': 134217728,\n",
       "  'POSIX_ACCESS2_ACCESS': 272,\n",
       "  'POSIX_ACCESS3_ACCESS': 544,\n",
       "  'POSIX_ACCESS4_ACCESS': 328,\n",
       "  'POSIX_ACCESS1_COUNT': 16384,\n",
       "  'POSIX_ACCESS2_COUNT': 8,\n",
       "  'POSIX_ACCESS3_COUNT': 2,\n",
       "  'POSIX_ACCESS4_COUNT': 2,\n",
       "  'POSIX_FASTEST_RANK': 597,\n",
       "  'POSIX_FASTEST_RANK_BYTES': 1073741824,\n",
       "  'POSIX_SLOWEST_RANK': 1312,\n",
       "  'POSIX_SLOWEST_RANK_BYTES': 1073741824},\n",
       " 'POSIX_simple': {'Read': 0,\n",
       "  'Write': 16402,\n",
       "  'Open': 2049,\n",
       "  'Stat': 0,\n",
       "  'Seek': 16404,\n",
       "  'Mmap': 0,\n",
       "  'Fsync': 0},\n",
       " 'STDIO': {'STDIO_OPENS': 129,\n",
       "  'STDIO_FDOPENS': -129,\n",
       "  'STDIO_READS': 0,\n",
       "  'STDIO_WRITES': 74,\n",
       "  'STDIO_SEEKS': 0,\n",
       "  'STDIO_FLUSHES': 0,\n",
       "  'STDIO_BYTES_WRITTEN': 3309,\n",
       "  'STDIO_BYTES_READ': 0,\n",
       "  'STDIO_MAX_BYTE_READ': 0,\n",
       "  'STDIO_MAX_BYTE_WRITTEN': 3307,\n",
       "  'STDIO_FASTEST_RANK': 0,\n",
       "  'STDIO_FASTEST_RANK_BYTES': 0,\n",
       "  'STDIO_SLOWEST_RANK': 0,\n",
       "  'STDIO_SLOWEST_RANK_BYTES': 0},\n",
       " 'STDIO_simple': {'Read': 0,\n",
       "  'Write': 74,\n",
       "  'Open': 129,\n",
       "  'Stat': 0,\n",
       "  'Seek': 0,\n",
       "  'Mmap': 0,\n",
       "  'Fsync': 0}}"
      ]
     },
     "execution_count": 34,
     "metadata": {},
     "output_type": "execute_result"
    }
   ],
   "source": [
    "report.agg_ioops()               # to create the combined operation type summary"
   ]
  },
  {
   "cell_type": "markdown",
   "metadata": {},
   "source": [
    "### Report Algebra (Experimental)\n",
    "\n",
    "Various operations are implemented to merge, combine and manipulate log records. This is useful for analysis task, but can also be used to construct performance projections or extrapolation.\n",
    "\n",
    "For convienience, we overload some of the operations provided by Python when they resemble intuitive equivalence to their mathematical counterparts. In particular, we enable the combination of different object types."
   ]
  },
  {
   "cell_type": "code",
   "execution_count": 1,
   "metadata": {},
   "outputs": [],
   "source": [
    "import darshan\n",
    "darshan.enable_experimental()"
   ]
  },
  {
   "cell_type": "code",
   "execution_count": 3,
   "metadata": {
    "tags": []
   },
   "outputs": [
    {
     "name": "stdout",
     "output_type": "stream",
     "text": [
      "Summarizing... agg_ioops\n",
      "Read,Write,Open,Stat,Seek,Mmap,Fsync,Layer\n",
      "0,16402,2049,0,16404,0,0,POSIX\n",
      "0,18,0,0,0,0,0,MPIIND\n",
      "0,16384,2048,0,0,0,0,MPICOL\n",
      "0,74,129,0,0,0,0,STDIO\n",
      "\n"
     ]
    },
    {
     "data": {
      "image/png": "[encoded data removed]",
      "text/plain": [
       "<Figure size 432x288 with 1 Axes>"
      ]
     },
     "metadata": {
      "needs_background": "light"
     },
     "output_type": "display_data"
    },
    {
     "name": "stdout",
     "output_type": "stream",
     "text": [
      "Summarizing... agg_ioops\n",
      "Read,Write,Open,Stat,Seek,Mmap,Fsync,Layer\n",
      "0,16402,2049,0,16404,0,0,POSIX\n",
      "0,18,0,0,0,0,0,MPIIND\n",
      "0,16384,2048,0,0,0,0,MPICOL\n",
      "0,74,129,0,0,0,0,STDIO\n",
      "\n"
     ]
    },
    {
     "data": {
      "image/png": "[encoded data removed]",
      "text/plain": [
       "<Figure size 432x288 with 1 Axes>"
      ]
     },
     "metadata": {
      "needs_background": "light"
     },
     "output_type": "display_data"
    },
    {
     "name": "stdout",
     "output_type": "stream",
     "text": [
      "Summarizing... agg_ioops\n",
      "Read,Write,Open,Stat,Seek,Mmap,Fsync,Layer\n",
      "0,32804,4098,0,32808,0,0,POSIX\n",
      "0,36,0,0,0,0,0,MPIIND\n",
      "0,32768,4096,0,0,0,0,MPICOL\n",
      "0,148,258,0,0,0,0,STDIO\n",
      "\n"
     ]
    },
    {
     "data": {
      "image/png": "[encoded data removed]",
      "text/plain": [
       "<Figure size 432x288 with 1 Axes>"
      ]
     },
     "metadata": {
      "needs_background": "light"
     },
     "output_type": "display_data"
    }
   ],
   "source": [
    "# merging records\n",
    "from darshan.experimental.plots import plot_access_histogram\n",
    "from darshan.experimental.plots import plot_opcounts\n",
    "\n",
    "r1 = darshan.DarshanReport(\"example-logs/example.darshan\", read_all=True, dtype='numpy')\n",
    "r2 = darshan.DarshanReport(\"example-logs/example2.darshan\", read_all=True, dtype='numpy')\n",
    "rx = r1 + r2\n",
    "\n",
    "for r in [r1, r2, rx]:\n",
    "    plt = plot_opcounts(r)\n",
    "    plt.show()"
   ]
  },
  {
   "cell_type": "code",
   "execution_count": null,
   "metadata": {},
   "outputs": [],
   "source": []
  },
  {
   "cell_type": "code",
   "execution_count": null,
   "metadata": {},
   "outputs": [],
   "source": []
  },
  {
   "cell_type": "code",
   "execution_count": 37,
   "metadata": {},
   "outputs": [],
   "source": [
    "# multiply records with a scalar (think, four times the I/O load)\n",
    "#r1 = darshan.DarshanReport(\"example.darshan\", read_all=True)\n",
    "#rx = r1 * 4\n",
    "#plot_opcounts(rx)"
   ]
  },
  {
   "cell_type": "code",
   "execution_count": 38,
   "metadata": {},
   "outputs": [],
   "source": [
    "# rebase via timedelta\n",
    "#r1 = darshan.DarshanReport(\"example.darshan\", read_all=True)\n",
    "#dt = datetime.timedelta()\n",
    "#rx = r1 + dt"
   ]
  },
  {
   "cell_type": "markdown",
   "metadata": {},
   "source": [
    "## Plotting"
   ]
  },
  {
   "cell_type": "code",
   "execution_count": 6,
   "metadata": {},
   "outputs": [
    {
     "name": "stdout",
     "output_type": "stream",
     "text": [
      "Summarizing... iohist POSIX\n"
     ]
    },
    {
     "data": {
      "text/plain": [
       "<module 'matplotlib.pyplot' from '/home/pq/p/software/darshan-jl-github/darshan-util/pydarshan/devenv/venv/lib64/python3.9/site-packages/matplotlib/pyplot.py'>"
      ]
     },
     "execution_count": 6,
     "metadata": {},
     "output_type": "execute_result"
    },
    {
     "data": {
      "image/png": "[encoded data removed]",
      "text/plain": [
       "<Figure size 432x288 with 1 Axes>"
      ]
     },
     "metadata": {
      "needs_background": "light"
     },
     "output_type": "display_data"
    }
   ],
   "source": [
    "import darshan\n",
    "darshan.enable_experimental(verbose=False)\n",
    "\n",
    "r3 = darshan.DarshanReport(\"example-logs/example.darshan\", dtype='numpy')\n",
    "r3.mod_read_all_records('POSIX')\n",
    "\n",
    "from darshan.experimental.plots import plot_access_histogram\n",
    "plot_access_histogram(r3, mod='POSIX')"
   ]
  },
  {
   "cell_type": "code",
   "execution_count": 5,
   "metadata": {},
   "outputs": [
    {
     "name": "stdout",
     "output_type": "stream",
     "text": [
      "Summarizing... iohist MPI-IO\n"
     ]
    },
    {
     "data": {
      "text/plain": [
       "<module 'matplotlib.pyplot' from '/home/pq/p/software/darshan-jl-github/darshan-util/pydarshan/devenv/venv/lib64/python3.9/site-packages/matplotlib/pyplot.py'>"
      ]
     },
     "execution_count": 5,
     "metadata": {},
     "output_type": "execute_result"
    },
    {
     "data": {
      "image/png": "[encoded data removed]",
      "text/plain": [
       "<Figure size 432x288 with 1 Axes>"
      ]
     },
     "metadata": {
      "needs_background": "light"
     },
     "output_type": "display_data"
    }
   ],
   "source": [
    "import darshan\n",
    "darshan.enable_experimental(verbose=False)\n",
    "\n",
    "r3 = darshan.DarshanReport(\"example-logs/example.darshan\", dtype='numpy')\n",
    "r3.mod_read_all_records('MPI-IO')\n",
    "\n",
    "from darshan.experimental.plots import plot_access_histogram\n",
    "plot_access_histogram(r3, mod='MPI-IO')"
   ]
  },
  {
   "cell_type": "code",
   "execution_count": 4,
   "metadata": {
    "tags": []
   },
   "outputs": [
    {
     "name": "stdout",
     "output_type": "stream",
     "text": [
      "Summarizing... agg_ioops\n",
      "Read,Write,Open,Stat,Seek,Mmap,Fsync,Layer\n",
      "0,16402,2049,0,16404,0,0,POSIX\n",
      "0,18,0,0,0,0,0,MPIIND\n",
      "0,16384,2048,0,0,0,0,MPICOL\n",
      "0,74,129,0,0,0,0,STDIO\n",
      "\n"
     ]
    },
    {
     "data": {
      "text/plain": [
       "<module 'matplotlib.pyplot' from '/home/pq/p/software/darshan-jl-github/darshan-util/pydarshan/devenv/venv/lib64/python3.9/site-packages/matplotlib/pyplot.py'>"
      ]
     },
     "execution_count": 4,
     "metadata": {},
     "output_type": "execute_result"
    },
    {
     "data": {
      "image/png": "[encoded data removed]",
      "text/plain": [
       "<Figure size 432x288 with 1 Axes>"
      ]
     },
     "metadata": {
      "needs_background": "light"
     },
     "output_type": "display_data"
    }
   ],
   "source": [
    "import darshan\n",
    "darshan.enable_experimental(verbose=False)\n",
    "\n",
    "r3 = darshan.DarshanReport(\"example-logs/example.darshan\", dtype='numpy')\n",
    "r3.read_all()\n",
    "\n",
    "from darshan.experimental.plots import plot_opcounts\n",
    "plot_opcounts(r3)"
   ]
  },
  {
   "cell_type": "markdown",
   "metadata": {},
   "source": [
    "### DXT Records\n",
    "\n",
    "DXT records are also supported, and can be loaded individually on a per module basis as follows:\n"
   ]
  },
  {
   "cell_type": "code",
   "execution_count": 42,
   "metadata": {},
   "outputs": [
    {
     "name": "stderr",
     "output_type": "stream",
     "text": [
      " Skipping. Log does not contain data for mod: LUSTRE\n"
     ]
    },
    {
     "name": "stdout",
     "output_type": "stream",
     "text": [
      "Filename:       example-logs/dxt.darshan\n",
      "Times:          2020-04-21 09:45:33 to 2020-04-21 10:10:01 (Duration 0:24:28)\n",
      "Executeable:    \n",
      "Processes:      1\n",
      "JobID:          1537455\n",
      "UID:            8699\n",
      "Modules in Log: ['POSIX', 'STDIO', 'DXT_POSIX']\n",
      "Loaded Records: {'POSIX': 214, 'STDIO': 1, 'DXT_POSIX': 169}\n",
      "Name Records:   218\n",
      "Darshan/Hints:  {'lib_ver': '3.2.0-pre1', 'h': 'romio_no_indep_rw=true;cb_nodes=4'}\n",
      "DarshanReport:  id(140678437897072) (tmp)\n"
     ]
    }
   ],
   "source": [
    "import darshan\n",
    "\n",
    "report2 = darshan.DarshanReport(\"example-logs/dxt.darshan\")\n",
    "report2.info()"
   ]
  },
  {
   "cell_type": "code",
   "execution_count": 43,
   "metadata": {},
   "outputs": [
    {
     "data": {
      "text/plain": [
       "dict_keys(['id', 'rank', 'hostname', 'write_count', 'read_count', 'write_segments', 'read_segments'])"
      ]
     },
     "execution_count": 43,
     "metadata": {},
     "output_type": "execute_result"
    }
   ],
   "source": [
    "report2.records['DXT_POSIX'][0]._records[0].keys()"
   ]
  },
  {
   "cell_type": "markdown",
   "metadata": {},
   "source": [
    "Sometimes it is easier to visualize or transform data to get an overview:"
   ]
  },
  {
   "cell_type": "code",
   "execution_count": 44,
   "metadata": {},
   "outputs": [],
   "source": [
    "# load prepared transformations\n",
    "# might require: pip install pillow\n",
    "from darshan.experimental.transforms.dxt2png import segment, wallclock\n",
    "\n",
    "report2.mod_read_all_dxt_records(\"DXT_POSIX\", dtype=\"dict\")  # need dict format for now\n",
    "rec = report2.records['DXT_POSIX'][2]"
   ]
  },
  {
   "cell_type": "code",
   "execution_count": 45,
   "metadata": {},
   "outputs": [
    {
     "name": "stdout",
     "output_type": "stream",
     "text": [
      "len(trace): 163 minsize: 65472 duration: 0.14281702041625977\n"
     ]
    },
    {
     "data": {
      "image/png": "[encoded data removed]",
      "text/plain": [
       "<PIL.Image.Image image mode=RGBA size=102x122 at 0x7FF240164070>"
      ]
     },
     "execution_count": 45,
     "metadata": {},
     "output_type": "execute_result"
    }
   ],
   "source": [
    "segment(rec)"
   ]
  },
  {
   "cell_type": "code",
   "execution_count": 46,
   "metadata": {},
   "outputs": [
    {
     "data": {
      "image/png": "[encoded data removed]",
      "text/plain": [
       "<PIL.Image.Image image mode=RGBA size=102x122 at 0x7FF2401640D0>"
      ]
     },
     "execution_count": 46,
     "metadata": {},
     "output_type": "execute_result"
    }
   ],
   "source": [
    "wallclock(rec)"
   ]
  },
  {
   "cell_type": "code",
   "execution_count": 47,
   "metadata": {},
   "outputs": [
    {
     "name": "stdout",
     "output_type": "stream",
     "text": [
      "Write Segments:\n"
     ]
    },
    {
     "data": {
      "text/html": [
       "<div>\n",
       "<style scoped>\n",
       "    .dataframe tbody tr th:only-of-type {\n",
       "        vertical-align: middle;\n",
       "    }\n",
       "\n",
       "    .dataframe tbody tr th {\n",
       "        vertical-align: top;\n",
       "    }\n",
       "\n",
       "    .dataframe thead th {\n",
       "        text-align: right;\n",
       "    }\n",
       "</style>\n",
       "<table border=\"1\" class=\"dataframe\">\n",
       "  <thead>\n",
       "    <tr style=\"text-align: right;\">\n",
       "      <th></th>\n",
       "    </tr>\n",
       "  </thead>\n",
       "  <tbody>\n",
       "  </tbody>\n",
       "</table>\n",
       "</div>"
      ],
      "text/plain": [
       "Empty DataFrame\n",
       "Columns: []\n",
       "Index: []"
      ]
     },
     "metadata": {},
     "output_type": "display_data"
    },
    {
     "name": "stdout",
     "output_type": "stream",
     "text": [
      "Read Segments:\n"
     ]
    },
    {
     "data": {
      "text/html": [
       "<div>\n",
       "<style scoped>\n",
       "    .dataframe tbody tr th:only-of-type {\n",
       "        vertical-align: middle;\n",
       "    }\n",
       "\n",
       "    .dataframe tbody tr th {\n",
       "        vertical-align: top;\n",
       "    }\n",
       "\n",
       "    .dataframe thead th {\n",
       "        text-align: right;\n",
       "    }\n",
       "</style>\n",
       "<table border=\"1\" class=\"dataframe\">\n",
       "  <thead>\n",
       "    <tr style=\"text-align: right;\">\n",
       "      <th></th>\n",
       "      <th>offset</th>\n",
       "      <th>length</th>\n",
       "      <th>start_time</th>\n",
       "      <th>end_time</th>\n",
       "    </tr>\n",
       "  </thead>\n",
       "  <tbody>\n",
       "    <tr>\n",
       "      <th>0</th>\n",
       "      <td>0</td>\n",
       "      <td>1023</td>\n",
       "      <td>0.010193</td>\n",
       "      <td>0.027233</td>\n",
       "    </tr>\n",
       "    <tr>\n",
       "      <th>1</th>\n",
       "      <td>1023</td>\n",
       "      <td>1023</td>\n",
       "      <td>0.027261</td>\n",
       "      <td>0.027269</td>\n",
       "    </tr>\n",
       "    <tr>\n",
       "      <th>2</th>\n",
       "      <td>2046</td>\n",
       "      <td>1023</td>\n",
       "      <td>0.027275</td>\n",
       "      <td>0.027279</td>\n",
       "    </tr>\n",
       "    <tr>\n",
       "      <th>3</th>\n",
       "      <td>3069</td>\n",
       "      <td>1023</td>\n",
       "      <td>0.027285</td>\n",
       "      <td>0.027288</td>\n",
       "    </tr>\n",
       "    <tr>\n",
       "      <th>4</th>\n",
       "      <td>4092</td>\n",
       "      <td>1023</td>\n",
       "      <td>0.027294</td>\n",
       "      <td>0.027297</td>\n",
       "    </tr>\n",
       "    <tr>\n",
       "      <th>...</th>\n",
       "      <td>...</td>\n",
       "      <td>...</td>\n",
       "      <td>...</td>\n",
       "      <td>...</td>\n",
       "    </tr>\n",
       "    <tr>\n",
       "      <th>158</th>\n",
       "      <td>41943</td>\n",
       "      <td>1023</td>\n",
       "      <td>0.152966</td>\n",
       "      <td>0.152968</td>\n",
       "    </tr>\n",
       "    <tr>\n",
       "      <th>159</th>\n",
       "      <td>42966</td>\n",
       "      <td>1023</td>\n",
       "      <td>0.152974</td>\n",
       "      <td>0.152977</td>\n",
       "    </tr>\n",
       "    <tr>\n",
       "      <th>160</th>\n",
       "      <td>43989</td>\n",
       "      <td>1023</td>\n",
       "      <td>0.152989</td>\n",
       "      <td>0.152993</td>\n",
       "    </tr>\n",
       "    <tr>\n",
       "      <th>161</th>\n",
       "      <td>45012</td>\n",
       "      <td>1023</td>\n",
       "      <td>0.152998</td>\n",
       "      <td>0.153002</td>\n",
       "    </tr>\n",
       "    <tr>\n",
       "      <th>162</th>\n",
       "      <td>46035</td>\n",
       "      <td>1023</td>\n",
       "      <td>0.153007</td>\n",
       "      <td>0.153010</td>\n",
       "    </tr>\n",
       "  </tbody>\n",
       "</table>\n",
       "<p>163 rows × 4 columns</p>\n",
       "</div>"
      ],
      "text/plain": [
       "     offset  length  start_time  end_time\n",
       "0         0    1023    0.010193  0.027233\n",
       "1      1023    1023    0.027261  0.027269\n",
       "2      2046    1023    0.027275  0.027279\n",
       "3      3069    1023    0.027285  0.027288\n",
       "4      4092    1023    0.027294  0.027297\n",
       "..      ...     ...         ...       ...\n",
       "158   41943    1023    0.152966  0.152968\n",
       "159   42966    1023    0.152974  0.152977\n",
       "160   43989    1023    0.152989  0.152993\n",
       "161   45012    1023    0.152998  0.153002\n",
       "162   46035    1023    0.153007  0.153010\n",
       "\n",
       "[163 rows x 4 columns]"
      ]
     },
     "metadata": {},
     "output_type": "display_data"
    }
   ],
   "source": [
    "from IPython.display import display, HTML\n",
    "\n",
    "report2.mod_read_all_dxt_records(\"DXT_POSIX\", dtype=\"pandas\") \n",
    "\n",
    "print(\"Write Segments:\")\n",
    "display(report2.records['DXT_POSIX'][2]['write_segments'])\n",
    "print(\"Read Segments:\")\n",
    "display(report2.records['DXT_POSIX'][2]['read_segments'])"
   ]
  },
  {
   "cell_type": "markdown",
   "metadata": {},
   "source": [
    "Exercise left for the reader ;P \n",
    "Implement a custom aggregator/summary function and commit it as a contribution to pydarshan:"
   ]
  },
  {
   "cell_type": "code",
   "execution_count": 48,
   "metadata": {},
   "outputs": [],
   "source": [
    "# Create file: <darshan-repo>/darshan-util/pydarshan/darshan/experimental/aggregators/dxt_summary.py\n",
    "from darshan.report import *\n",
    "\n",
    "def dxt_summary(self):\n",
    "    \"\"\"\n",
    "    Count records for every name record.\n",
    "\n",
    "    Args:\n",
    "        mod_name (str): \n",
    "\n",
    "    Return:\n",
    "        None\n",
    "    \"\"\"\n",
    "\n",
    "    counts = {}\n",
    "\n",
    "    for mod, records in self.records.items():\n",
    "        for rec in records:\n",
    "            if rec['id'] not in counts:\n",
    "                counts[rec['id']] = {'name': self.name_records[rec['id']], 'counts': {}}\n",
    "\n",
    "            if mod not in counts[rec['id']]['counts']:\n",
    "                counts[rec['id']]['counts'][mod] = 1\n",
    "            else:\n",
    "                counts[rec['id']]['counts'][mod] += 1\n",
    "\n",
    "    return counts\n"
   ]
  },
  {
   "cell_type": "markdown",
   "metadata": {},
   "source": [
    "## Exporting Data for Use in Third-Party Analysis\n",
    "\n",
    "Darshan logs may be used in contexts beyond our imagination. To make this effortless export in JSON is easy."
   ]
  },
  {
   "cell_type": "code",
   "execution_count": 54,
   "metadata": {
    "scrolled": true
   },
   "outputs": [
    {
     "data": {
      "text/plain": [
       "'{\"version\": 1, \"metadata\": {\"job\": {\"uid\": 69628, \"start_time\": 1594155460, \"end_time\": 1594155460, \"nprocs\": 4, \"jobid\": 32324925, \"metadata\": {\"lib_ver\": \"3.2.1\", \"h\": \"romio_no_indep_rw=true;cb_nodes=4\"}}, \"exe\": \"/global/u2/s/ssnyder/software/ior/build/src/ior -a HDF5 -o /global/cscratch1/sd/ssnyder/test123.h5\"}, \"records\": {\"POSIX\": [{\"id\": 10384774853006289996, \"rank\": -1, \"counters\": [22, 0, 0, 36, 23, 53, 4, -1, 0, 0, 0, 0, 0, 0, 4202504, 4195800, 4196351, 4196351, 14, 13, 26, 17, 4, 0, 8, 55, 1048576, 262144, 262144, 3, 17, 0, 0, 16, 0, 0, 0, 0, 0, 3, 4, 0, 0, 16, 0, 0, 0, 0, 0, 392, 3146464, 2097888, 1049312, 4, 1, 1, 1, 262144, 512, 544, 328, 32, 9, 5, 3, 3, 2099376, 1, 2099712], \"fcounters\": [0.016643047332763672, 0.23838591575622559, 0.029973983764648438, 0.027293920516967773, 0.2906680107116699, 0.28656888008117676, 0.23217391967773438, 0.290802001953125, 0.07845067977905273, 0.5368118286132812, 0.029769420623779297, 0.04775500297546387, 0.1495809555053711, 0.027756690979003906, 0.21383047103881836, 0.006008743947461426, 56608.0]}], \"MPI-IO\": [{\"id\": 10384774853006289996, \"rank\": -1, \"counters\": [1, 16, 36, 23, 0, 0, 0, 0, 0, 0, 0, 17, 0, 2, 4202504, 4195800, 4, 262144, 262144, 3, 17, 0, 0, 16, 0, 0, 0, 0, 0, 3, 4, 0, 0, 16, 0, 0, 0, 0, 0, 262144, 512, 544, 328, 32, 9, 5, 3, 3, 2099376, 2, 2099320], \"fcounters\": [0.015712976455688477, 0.23838186264038086, 0.029964923858642578, 0.23220396041870117, 0.29068899154663086, 0.28656983375549316, 0.2321760654449463, 0.29080796241760254, 0.07854914665222168, 0.5370020866394043, 0.18999910354614258, 0.04776191711425781, 0.14958405494689941, 0.07850861549377441, 0.2680940628051758, 0.005281746750863903, 56608.0]}], \"H5F\": [{\"id\": 10384774853006289996, \"rank\": 1, \"counters\": [2, 0, 1], \"fcounters\": [0.01569199562072754, 0.18264389038085938, 0.23845887184143066, 0.2866339683532715, 0.0669548511505127]}, {\"id\": 10384774853006289996, \"rank\": 2, \"counters\": [2, 0, 1], \"fcounters\": [0.01569199562072754, 0.22186803817749023, 0.23846197128295898, 0.28664112091064453, 0.06907296180725098]}, {\"id\": 10384774853006289996, \"rank\": 3, \"counters\": [2, 0, 1], \"fcounters\": [0.01569199562072754, 0.032280921936035156, 0.23846101760864258, 0.2866389751434326, 0.25206708908081055]}], \"H5D\": [{\"id\": 9080082818774558450, \"rank\": 1, \"counters\": [2, 4, 4, 0, 1048576, 1048576, 1, 8, 0, 0, 262144, 262144, 0, 0, 0, 0, 4, 0, 0, 0, 0, 0, 0, 0, 0, 0, 4, 0, 0, 0, 0, 0, 262144, 0, 0, 0, 0, 32768, 0, 0, 0, 0, 32768, 0, 0, 0, 0, 0, 0, 0, 0, 0, 0, 0, 0, 0, 0, 0, 0, 0, 0, 0, 0, 0, 0, 0, 0, 0, 0, 0, 0, 0, 0, 0, 0, 0, 8, 0, 0, 0, 1, 524288, 8, 0, 0, 0, 0, 0, 0, 1, 0, 0, 0, 0], \"fcounters\": [0.029855966567993164, 0.23857593536376953, 0.029948949813842773, 0.18262100219726562, 0.23855280876159668, 0.2865719795227051, 0.1826159954071045, 0.28658390045166016, 0.04798078536987305, 0.15264415740966797, 0.00016689300537109375, 0.04777693748474121, 0.14959502220153809, 0.0, 0.0, 0.0, 0.0]}, {\"id\": 9080082818774558450, \"rank\": 2, \"counters\": [2, 4, 4, 0, 1048576, 1048576, 1, 8, 0, 0, 262144, 262144, 0, 0, 0, 0, 4, 0, 0, 0, 0, 0, 0, 0, 0, 0, 4, 0, 0, 0, 0, 0, 262144, 0, 0, 0, 0, 32768, 0, 0, 0, 0, 32768, 0, 0, 0, 0, 0, 0, 0, 0, 0, 0, 0, 0, 0, 0, 0, 0, 0, 0, 0, 0, 0, 0, 0, 0, 0, 0, 0, 0, 0, 0, 0, 0, 0, 8, 0, 0, 0, 1, 524288, 8, 0, 0, 0, 0, 0, 0, 1, 0, 0, 0, 0], \"fcounters\": [0.02986001968383789, 0.23859906196594238, 0.029951095581054688, 0.22184514999389648, 0.23857498168945312, 0.24506306648254395, 0.22183799743652344, 0.24507498741149902, 0.006448268890380859, 0.1918649673461914, 0.00017499923706054688, 0.004876136779785156, 0.1480238437652588, 0.0, 0.0, 0.0, 0.0]}, {\"id\": 9080082818774558450, \"rank\": 3, \"counters\": [2, 4, 4, 0, 1048576, 1048576, 1, 8, 0, 0, 262144, 262144, 0, 0, 0, 0, 4, 0, 0, 0, 0, 0, 0, 0, 0, 0, 4, 0, 0, 0, 0, 0, 262144, 0, 0, 0, 0, 32768, 0, 0, 0, 0, 32768, 0, 0, 0, 0, 0, 0, 0, 0, 0, 0, 0, 0, 0, 0, 0, 0, 0, 0, 0, 0, 0, 0, 0, 0, 0, 0, 0, 0, 0, 0, 0, 0, 0, 8, 0, 0, 0, 1, 524288, 8, 0, 0, 0, 0, 0, 0, 1, 0, 0, 0, 0], \"fcounters\": [0.029852867126464844, 0.2385878562927246, 0.029948949813842773, 0.032219886779785156, 0.23856496810913086, 0.2516489028930664, 0.03221487998962402, 0.251662015914917, 0.013047218322753906, 0.0022487640380859375, 0.00020122528076171875, 0.012845039367675781, 0.0015208721160888672, 0.0, 0.0, 0.0, 0.0]}], \"STDIO\": [{\"id\": 15920181672442173319, \"rank\": 0, \"counters\": [1, 0, 0, 128, 0, 9, 2421, 0, 0, 2420, 0, 0, 0, 0], \"fcounters\": [0.0, 0.00010228157043457031, 0.0, 0.0, 0.0, 0.012196063995361328, 0.0, 0.0, 0.0, 0.2908899784088135, 0.0, 0.0, 0.0, 0.0, 0.0]}], \"DXT_POSIX\": \"Not implemented.\", \"DXT_MPIIO\": \"Not implemented.\", \"LUSTRE\": \"Not implemented.\"}, \"summary\": {}, \"modules\": {\"POSIX\": {\"len\": 219, \"ver\": 4, \"idx\": 1, \"num_records\": 1}, \"MPI-IO\": {\"len\": 184, \"ver\": 3, \"idx\": 2, \"num_records\": 1}, \"H5F\": {\"len\": 152, \"ver\": 3, \"idx\": 3, \"num_records\": 3}, \"H5D\": {\"len\": 384, \"ver\": 1, \"idx\": 4, \"num_records\": 3}, \"LUSTRE\": {\"len\": 34, \"ver\": 1, \"idx\": 7, \"num_records\": 1}, \"STDIO\": {\"len\": 56, \"ver\": 2, \"idx\": 8, \"num_records\": 1}, \"DXT_POSIX\": {\"len\": 848, \"ver\": 1, \"idx\": 9, \"num_records\": 4}, \"DXT_MPIIO\": {\"len\": 853, \"ver\": 2, \"idx\": 10, \"num_records\": 4}}, \"counters\": {\"POSIX\": {\"counters\": [\"POSIX_OPENS\", \"POSIX_FILENOS\", \"POSIX_DUPS\", \"POSIX_READS\", \"POSIX_WRITES\", \"POSIX_SEEKS\", \"POSIX_STATS\", \"POSIX_MMAPS\", \"POSIX_FSYNCS\", \"POSIX_FDSYNCS\", \"POSIX_RENAME_SOURCES\", \"POSIX_RENAME_TARGETS\", \"POSIX_RENAMED_FROM\", \"POSIX_MODE\", \"POSIX_BYTES_READ\", \"POSIX_BYTES_WRITTEN\", \"POSIX_MAX_BYTE_READ\", \"POSIX_MAX_BYTE_WRITTEN\", \"POSIX_CONSEC_READS\", \"POSIX_CONSEC_WRITES\", \"POSIX_SEQ_READS\", \"POSIX_SEQ_WRITES\", \"POSIX_RW_SWITCHES\", \"POSIX_MEM_NOT_ALIGNED\", \"POSIX_MEM_ALIGNMENT\", \"POSIX_FILE_NOT_ALIGNED\", \"POSIX_FILE_ALIGNMENT\", \"POSIX_MAX_READ_TIME_SIZE\", \"POSIX_MAX_WRITE_TIME_SIZE\", \"POSIX_SIZE_READ_0_100\", \"POSIX_SIZE_READ_100_1K\", \"POSIX_SIZE_READ_1K_10K\", \"POSIX_SIZE_READ_10K_100K\", \"POSIX_SIZE_READ_100K_1M\", \"POSIX_SIZE_READ_1M_4M\", \"POSIX_SIZE_READ_4M_10M\", \"POSIX_SIZE_READ_10M_100M\", \"POSIX_SIZE_READ_100M_1G\", \"POSIX_SIZE_READ_1G_PLUS\", \"POSIX_SIZE_WRITE_0_100\", \"POSIX_SIZE_WRITE_100_1K\", \"POSIX_SIZE_WRITE_1K_10K\", \"POSIX_SIZE_WRITE_10K_100K\", \"POSIX_SIZE_WRITE_100K_1M\", \"POSIX_SIZE_WRITE_1M_4M\", \"POSIX_SIZE_WRITE_4M_10M\", \"POSIX_SIZE_WRITE_10M_100M\", \"POSIX_SIZE_WRITE_100M_1G\", \"POSIX_SIZE_WRITE_1G_PLUS\", \"POSIX_STRIDE1_STRIDE\", \"POSIX_STRIDE2_STRIDE\", \"POSIX_STRIDE3_STRIDE\", \"POSIX_STRIDE4_STRIDE\", \"POSIX_STRIDE1_COUNT\", \"POSIX_STRIDE2_COUNT\", \"POSIX_STRIDE3_COUNT\", \"POSIX_STRIDE4_COUNT\", \"POSIX_ACCESS1_ACCESS\", \"POSIX_ACCESS2_ACCESS\", \"POSIX_ACCESS3_ACCESS\", \"POSIX_ACCESS4_ACCESS\", \"POSIX_ACCESS1_COUNT\", \"POSIX_ACCESS2_COUNT\", \"POSIX_ACCESS3_COUNT\", \"POSIX_ACCESS4_COUNT\", \"POSIX_FASTEST_RANK\", \"POSIX_FASTEST_RANK_BYTES\", \"POSIX_SLOWEST_RANK\", \"POSIX_SLOWEST_RANK_BYTES\"], \"fcounters\": [\"POSIX_F_OPEN_START_TIMESTAMP\", \"POSIX_F_READ_START_TIMESTAMP\", \"POSIX_F_WRITE_START_TIMESTAMP\", \"POSIX_F_CLOSE_START_TIMESTAMP\", \"POSIX_F_OPEN_END_TIMESTAMP\", \"POSIX_F_READ_END_TIMESTAMP\", \"POSIX_F_WRITE_END_TIMESTAMP\", \"POSIX_F_CLOSE_END_TIMESTAMP\", \"POSIX_F_READ_TIME\", \"POSIX_F_WRITE_TIME\", \"POSIX_F_META_TIME\", \"POSIX_F_MAX_READ_TIME\", \"POSIX_F_MAX_WRITE_TIME\", \"POSIX_F_FASTEST_RANK_TIME\", \"POSIX_F_SLOWEST_RANK_TIME\", \"POSIX_F_VARIANCE_RANK_TIME\", \"POSIX_F_VARIANCE_RANK_BYTES\"]}, \"MPI-IO\": {\"counters\": [\"MPIIO_INDEP_OPENS\", \"MPIIO_COLL_OPENS\", \"MPIIO_INDEP_READS\", \"MPIIO_INDEP_WRITES\", \"MPIIO_COLL_READS\", \"MPIIO_COLL_WRITES\", \"MPIIO_SPLIT_READS\", \"MPIIO_SPLIT_WRITES\", \"MPIIO_NB_READS\", \"MPIIO_NB_WRITES\", \"MPIIO_SYNCS\", \"MPIIO_HINTS\", \"MPIIO_VIEWS\", \"MPIIO_MODE\", \"MPIIO_BYTES_READ\", \"MPIIO_BYTES_WRITTEN\", \"MPIIO_RW_SWITCHES\", \"MPIIO_MAX_READ_TIME_SIZE\", \"MPIIO_MAX_WRITE_TIME_SIZE\", \"MPIIO_SIZE_READ_AGG_0_100\", \"MPIIO_SIZE_READ_AGG_100_1K\", \"MPIIO_SIZE_READ_AGG_1K_10K\", \"MPIIO_SIZE_READ_AGG_10K_100K\", \"MPIIO_SIZE_READ_AGG_100K_1M\", \"MPIIO_SIZE_READ_AGG_1M_4M\", \"MPIIO_SIZE_READ_AGG_4M_10M\", \"MPIIO_SIZE_READ_AGG_10M_100M\", \"MPIIO_SIZE_READ_AGG_100M_1G\", \"MPIIO_SIZE_READ_AGG_1G_PLUS\", \"MPIIO_SIZE_WRITE_AGG_0_100\", \"MPIIO_SIZE_WRITE_AGG_100_1K\", \"MPIIO_SIZE_WRITE_AGG_1K_10K\", \"MPIIO_SIZE_WRITE_AGG_10K_100K\", \"MPIIO_SIZE_WRITE_AGG_100K_1M\", \"MPIIO_SIZE_WRITE_AGG_1M_4M\", \"MPIIO_SIZE_WRITE_AGG_4M_10M\", \"MPIIO_SIZE_WRITE_AGG_10M_100M\", \"MPIIO_SIZE_WRITE_AGG_100M_1G\", \"MPIIO_SIZE_WRITE_AGG_1G_PLUS\", \"MPIIO_ACCESS1_ACCESS\", \"MPIIO_ACCESS2_ACCESS\", \"MPIIO_ACCESS3_ACCESS\", \"MPIIO_ACCESS4_ACCESS\", \"MPIIO_ACCESS1_COUNT\", \"MPIIO_ACCESS2_COUNT\", \"MPIIO_ACCESS3_COUNT\", \"MPIIO_ACCESS4_COUNT\", \"MPIIO_FASTEST_RANK\", \"MPIIO_FASTEST_RANK_BYTES\", \"MPIIO_SLOWEST_RANK\", \"MPIIO_SLOWEST_RANK_BYTES\"], \"fcounters\": [\"MPIIO_F_OPEN_START_TIMESTAMP\", \"MPIIO_F_READ_START_TIMESTAMP\", \"MPIIO_F_WRITE_START_TIMESTAMP\", \"MPIIO_F_CLOSE_START_TIMESTAMP\", \"MPIIO_F_OPEN_END_TIMESTAMP\", \"MPIIO_F_READ_END_TIMESTAMP\", \"MPIIO_F_WRITE_END_TIMESTAMP\", \"MPIIO_F_CLOSE_END_TIMESTAMP\", \"MPIIO_F_READ_TIME\", \"MPIIO_F_WRITE_TIME\", \"MPIIO_F_META_TIME\", \"MPIIO_F_MAX_READ_TIME\", \"MPIIO_F_MAX_WRITE_TIME\", \"MPIIO_F_FASTEST_RANK_TIME\", \"MPIIO_F_SLOWEST_RANK_TIME\", \"MPIIO_F_VARIANCE_RANK_TIME\", \"MPIIO_F_VARIANCE_RANK_BYTES\"]}, \"H5F\": {\"counters\": [\"H5F_OPENS\", \"H5F_FLUSHES\", \"H5F_USE_MPIIO\"], \"fcounters\": [\"H5F_F_OPEN_START_TIMESTAMP\", \"H5F_F_CLOSE_START_TIMESTAMP\", \"H5F_F_OPEN_END_TIMESTAMP\", \"H5F_F_CLOSE_END_TIMESTAMP\", \"H5F_F_META_TIME\"]}, \"H5D\": {\"counters\": [\"H5D_OPENS\", \"H5D_READS\", \"H5D_WRITES\", \"H5D_FLUSHES\", \"H5D_BYTES_READ\", \"H5D_BYTES_WRITTEN\", \"H5D_RW_SWITCHES\", \"H5D_REGULAR_HYPERSLAB_SELECTS\", \"H5D_IRREGULAR_HYPERSLAB_SELECTS\", \"H5D_POINT_SELECTS\", \"H5D_MAX_READ_TIME_SIZE\", \"H5D_MAX_WRITE_TIME_SIZE\", \"H5D_SIZE_READ_AGG_0_100\", \"H5D_SIZE_READ_AGG_100_1K\", \"H5D_SIZE_READ_AGG_1K_10K\", \"H5D_SIZE_READ_AGG_10K_100K\", \"H5D_SIZE_READ_AGG_100K_1M\", \"H5D_SIZE_READ_AGG_1M_4M\", \"H5D_SIZE_READ_AGG_4M_10M\", \"H5D_SIZE_READ_AGG_10M_100M\", \"H5D_SIZE_READ_AGG_100M_1G\", \"H5D_SIZE_READ_AGG_1G_PLUS\", \"H5D_SIZE_WRITE_AGG_0_100\", \"H5D_SIZE_WRITE_AGG_100_1K\", \"H5D_SIZE_WRITE_AGG_1K_10K\", \"H5D_SIZE_WRITE_AGG_10K_100K\", \"H5D_SIZE_WRITE_AGG_100K_1M\", \"H5D_SIZE_WRITE_AGG_1M_4M\", \"H5D_SIZE_WRITE_AGG_4M_10M\", \"H5D_SIZE_WRITE_AGG_10M_100M\", \"H5D_SIZE_WRITE_AGG_100M_1G\", \"H5D_SIZE_WRITE_AGG_1G_PLUS\", \"H5D_ACCESS1_ACCESS\", \"H5D_ACCESS1_LENGTH_D1\", \"H5D_ACCESS1_LENGTH_D2\", \"H5D_ACCESS1_LENGTH_D3\", \"H5D_ACCESS1_LENGTH_D4\", \"H5D_ACCESS1_LENGTH_D5\", \"H5D_ACCESS1_STRIDE_D1\", \"H5D_ACCESS1_STRIDE_D2\", \"H5D_ACCESS1_STRIDE_D3\", \"H5D_ACCESS1_STRIDE_D4\", \"H5D_ACCESS1_STRIDE_D5\", \"H5D_ACCESS2_ACCESS\", \"H5D_ACCESS2_LENGTH_D1\", \"H5D_ACCESS2_LENGTH_D2\", \"H5D_ACCESS2_LENGTH_D3\", \"H5D_ACCESS2_LENGTH_D4\", \"H5D_ACCESS2_LENGTH_D5\", \"H5D_ACCESS2_STRIDE_D1\", \"H5D_ACCESS2_STRIDE_D2\", \"H5D_ACCESS2_STRIDE_D3\", \"H5D_ACCESS2_STRIDE_D4\", \"H5D_ACCESS2_STRIDE_D5\", \"H5D_ACCESS3_ACCESS\", \"H5D_ACCESS3_LENGTH_D1\", \"H5D_ACCESS3_LENGTH_D2\", \"H5D_ACCESS3_LENGTH_D3\", \"H5D_ACCESS3_LENGTH_D4\", \"H5D_ACCESS3_LENGTH_D5\", \"H5D_ACCESS3_STRIDE_D1\", \"H5D_ACCESS3_STRIDE_D2\", \"H5D_ACCESS3_STRIDE_D3\", \"H5D_ACCESS3_STRIDE_D4\", \"H5D_ACCESS3_STRIDE_D5\", \"H5D_ACCESS4_ACCESS\", \"H5D_ACCESS4_LENGTH_D1\", \"H5D_ACCESS4_LENGTH_D2\", \"H5D_ACCESS4_LENGTH_D3\", \"H5D_ACCESS4_LENGTH_D4\", \"H5D_ACCESS4_LENGTH_D5\", \"H5D_ACCESS4_STRIDE_D1\", \"H5D_ACCESS4_STRIDE_D2\", \"H5D_ACCESS4_STRIDE_D3\", \"H5D_ACCESS4_STRIDE_D4\", \"H5D_ACCESS4_STRIDE_D5\", \"H5D_ACCESS1_COUNT\", \"H5D_ACCESS2_COUNT\", \"H5D_ACCESS3_COUNT\", \"H5D_ACCESS4_COUNT\", \"H5D_DATASPACE_NDIMS\", \"H5D_DATASPACE_NPOINTS\", \"H5D_DATATYPE_SIZE\", \"H5D_CHUNK_SIZE_D1\", \"H5D_CHUNK_SIZE_D2\", \"H5D_CHUNK_SIZE_D3\", \"H5D_CHUNK_SIZE_D4\", \"H5D_CHUNK_SIZE_D5\", \"H5D_USE_MPIIO_COLLECTIVE\", \"H5D_USE_DEPRECATED\", \"H5D_FASTEST_RANK\", \"H5D_FASTEST_RANK_BYTES\", \"H5D_SLOWEST_RANK\", \"H5D_SLOWEST_RANK_BYTES\"], \"fcounters\": [\"H5D_F_OPEN_START_TIMESTAMP\", \"H5D_F_READ_START_TIMESTAMP\", \"H5D_F_WRITE_START_TIMESTAMP\", \"H5D_F_CLOSE_START_TIMESTAMP\", \"H5D_F_OPEN_END_TIMESTAMP\", \"H5D_F_READ_END_TIMESTAMP\", \"H5D_F_WRITE_END_TIMESTAMP\", \"H5D_F_CLOSE_END_TIMESTAMP\", \"H5D_F_READ_TIME\", \"H5D_F_WRITE_TIME\", \"H5D_F_META_TIME\", \"H5D_F_MAX_READ_TIME\", \"H5D_F_MAX_WRITE_TIME\", \"H5D_F_FASTEST_RANK_TIME\", \"H5D_F_SLOWEST_RANK_TIME\", \"H5D_F_VARIANCE_RANK_TIME\", \"H5D_F_VARIANCE_RANK_BYTES\"]}, \"STDIO\": {\"counters\": [\"STDIO_OPENS\", \"STDIO_FDOPENS\", \"STDIO_READS\", \"STDIO_WRITES\", \"STDIO_SEEKS\", \"STDIO_FLUSHES\", \"STDIO_BYTES_WRITTEN\", \"STDIO_BYTES_READ\", \"STDIO_MAX_BYTE_READ\", \"STDIO_MAX_BYTE_WRITTEN\", \"STDIO_FASTEST_RANK\", \"STDIO_FASTEST_RANK_BYTES\", \"STDIO_SLOWEST_RANK\", \"STDIO_SLOWEST_RANK_BYTES\"], \"fcounters\": [\"STDIO_F_META_TIME\", \"STDIO_F_WRITE_TIME\", \"STDIO_F_READ_TIME\", \"STDIO_F_OPEN_START_TIMESTAMP\", \"STDIO_F_CLOSE_START_TIMESTAMP\", \"STDIO_F_WRITE_START_TIMESTAMP\", \"STDIO_F_READ_START_TIMESTAMP\", \"STDIO_F_OPEN_END_TIMESTAMP\", \"STDIO_F_CLOSE_END_TIMESTAMP\", \"STDIO_F_WRITE_END_TIMESTAMP\", \"STDIO_F_READ_END_TIMESTAMP\", \"STDIO_F_FASTEST_RANK_TIME\", \"STDIO_F_SLOWEST_RANK_TIME\", \"STDIO_F_VARIANCE_RANK_TIME\", \"STDIO_F_VARIANCE_RANK_BYTES\"]}, \"DXT_POSIX\": {}, \"DXT_MPIIO\": {}, \"LUSTRE\": {\"counters\": [\"LUSTRE_OSTS\", \"LUSTRE_MDTS\", \"LUSTRE_STRIPE_OFFSET\", \"LUSTRE_STRIPE_SIZE\", \"LUSTRE_STRIPE_WIDTH\"]}}, \"name_records\": {\"14734109647742566553\": \"<STDIN>\", \"15920181672442173319\": \"<STDOUT>\", \"7238257241479193519\": \"<STDERR>\", \"10384774853006289996\": \"/global/cscratch1/sd/ssnyder/test123.h5\", \"9080082818774558450\": \"/global/cscratch1/sd/ssnyder/test123.h5:/Dataset-0000.0000\"}, \"mounts\": [[\"/var/opt/cray/imps-image-binding/PE_x86_64/squash_mounts/squashfs_2xQlKx_mount_point/opt/cray/pe/modulefiles/craype/.version\", \"overlay\"], [\"/var/opt/cray/imps-image-binding/PE_x86_64/squash_mounts/squashfs_2xQlKx_mount_point\", \"squashfs\"], [\"/var/opt/cray/imps-distribution/squash/mounts/cle.cori.cle7.0.up01.20200520130145\", \"squashfs\"], [\"/var/opt/cray/imps-distribution/squash/mounts/global\", \"squashfs\"], [\"/opt/cray/pe/modulefiles/craype/.version\", \"overlay\"], [\"/var/opt/cray/imps-distribution/source\", \"autofs\"], [\"/global/project/projectdirs\", \"dvs\"], [\"/sys/kernel/debug/tracing\", \"tracefs\"], [\"/var/opt/cray/alps/spool\", \"devtmpfs\"], [\"/sys/fs/cgroup/unified\", \"cgroup2\"], [\"/sys/kernel/config\", \"configfs\"], [\"/var/opt/cray/imps\", \"dvs\"], [\"/.rootfs_lower_ro\", \"squashfs\"], [\"/global/cscratch1\", \"lustre\"], [\"/global/projectb\", \"dvs\"], [\"/etc/opt/cray/pe\", \"squashfs\"], [\"/usr/sbin/ibstat\", \"overlay\"], [\"/sys/fs/pstore\", \"pstore\"], [\"/global/syscom\", \"dvs\"], [\"/global/common\", \"dvs\"], [\"/global/seqfs\", \"dvs\"], [\"/opt/admin-pe\", \"squashfs\"], [\"/opt/jemalloc\", \"squashfs\"], [\"/etc/dat.conf\", \"overlay\"], [\"/opt/cray/pe\", \"squashfs\"], [\"/dev/mqueue\", \"mqueue\"], [\"/global/dna\", \"dvs\"], [\"/global/cfs\", \"dvs\"], [\"/opt/python\", \"squashfs\"], [\"/cray_home\", \"dvs\"], [\"/global/u1\", \"dvs\"], [\"/global/u2\", \"dvs\"], [\"/opt/intel\", \"squashfs\"], [\"/opt/gcc\", \"squashfs\"], [\"/nersc\", \"dvs\"], [\"/cvmfs\", \"dvs\"], [\"/opt/R\", \"squashfs\"], [\"/dev\", \"devtmpfs\"], [\"/\", \"overlay\"]]}'"
      ]
     },
     "execution_count": 54,
     "metadata": {},
     "output_type": "execute_result"
    }
   ],
   "source": [
    "import darshan\n",
    "report = darshan.DarshanReport(\"example-logs/ior_hdf5_example.darshan\", read_all=True)\n",
    "report.to_json()"
   ]
  },
  {
   "cell_type": "markdown",
   "metadata": {},
   "source": [
    "## Error Handling?\n",
    "\n",
    "Currently, playing with two modes, both have their pros and cons.\n",
    "\n",
    "Generally, should expose errors and let users handle them. At the same time, just skipping invalid load requests does little harm but greatly improves convenience.\n",
    "\n",
    "Could add a switch to enable disable these guards :/"
   ]
  },
  {
   "cell_type": "code",
   "execution_count": 50,
   "metadata": {
    "scrolled": true
   },
   "outputs": [],
   "source": [
    "report = darshan.DarshanReport(\"example-logs/example.darshan\")"
   ]
  },
  {
   "cell_type": "code",
   "execution_count": 51,
   "metadata": {},
   "outputs": [
    {
     "ename": "KeyError",
     "evalue": "'MOD_ABC'",
     "output_type": "error",
     "traceback": [
      "\u001b[0;31m---------------------------------------------------------------------------\u001b[0m",
      "\u001b[0;31mKeyError\u001b[0m                                  Traceback (most recent call last)",
      "\u001b[0;32m<ipython-input-51-03b465e9e819>\u001b[0m in \u001b[0;36m<module>\u001b[0;34m\u001b[0m\n\u001b[0;32m----> 1\u001b[0;31m \u001b[0mreport\u001b[0m\u001b[0;34m.\u001b[0m\u001b[0mmod_read_all_records\u001b[0m\u001b[0;34m(\u001b[0m\u001b[0;34m\"MOD_ABC\"\u001b[0m\u001b[0;34m)\u001b[0m \u001b[0;31m# Expect KeyError\u001b[0m\u001b[0;34m\u001b[0m\u001b[0;34m\u001b[0m\u001b[0m\n\u001b[0m",
      "\u001b[0;32m~/p/software/darshan-pydarshan/darshan-util/pydarshan/darshan/report.py\u001b[0m in \u001b[0;36mmod_read_all_records\u001b[0;34m(self, mod, dtype, warnings)\u001b[0m\n\u001b[1;32m    588\u001b[0m \u001b[0;34m\u001b[0m\u001b[0m\n\u001b[1;32m    589\u001b[0m         \u001b[0;31m# update module metadata\u001b[0m\u001b[0;34m\u001b[0m\u001b[0;34m\u001b[0m\u001b[0;34m\u001b[0m\u001b[0m\n\u001b[0;32m--> 590\u001b[0;31m         \u001b[0mself\u001b[0m\u001b[0;34m.\u001b[0m\u001b[0m_modules\u001b[0m\u001b[0;34m[\u001b[0m\u001b[0mmod\u001b[0m\u001b[0;34m]\u001b[0m\u001b[0;34m[\u001b[0m\u001b[0;34m'num_records'\u001b[0m\u001b[0;34m]\u001b[0m \u001b[0;34m=\u001b[0m \u001b[0;36m0\u001b[0m\u001b[0;34m\u001b[0m\u001b[0;34m\u001b[0m\u001b[0m\n\u001b[0m\u001b[1;32m    591\u001b[0m         \u001b[0;32mif\u001b[0m \u001b[0mmod\u001b[0m \u001b[0;32mnot\u001b[0m \u001b[0;32min\u001b[0m \u001b[0mself\u001b[0m\u001b[0;34m.\u001b[0m\u001b[0mcounters\u001b[0m\u001b[0;34m:\u001b[0m\u001b[0;34m\u001b[0m\u001b[0;34m\u001b[0m\u001b[0m\n\u001b[1;32m    592\u001b[0m             \u001b[0mself\u001b[0m\u001b[0;34m.\u001b[0m\u001b[0mcounters\u001b[0m\u001b[0;34m[\u001b[0m\u001b[0mmod\u001b[0m\u001b[0;34m]\u001b[0m \u001b[0;34m=\u001b[0m \u001b[0;34m{\u001b[0m\u001b[0;34m}\u001b[0m\u001b[0;34m\u001b[0m\u001b[0;34m\u001b[0m\u001b[0m\n",
      "\u001b[0;31mKeyError\u001b[0m: 'MOD_ABC'"
     ]
    }
   ],
   "source": [
    "report.mod_read_all_records(\"MOD_ABC\") # Expect KeyError"
   ]
  },
  {
   "cell_type": "code",
   "execution_count": 52,
   "metadata": {},
   "outputs": [
    {
     "name": "stderr",
     "output_type": "stream",
     "text": [
      "Skipping. Log does not contain data for mod: ABC\n"
     ]
    }
   ],
   "source": [
    "report.mod_read_all_dxt_records(\"ABC\") # Expect warning, but not exception"
   ]
  },
  {
   "cell_type": "code",
   "execution_count": null,
   "metadata": {},
   "outputs": [],
   "source": []
  }
 ],
 "metadata": {
  "kernelspec": {
   "display_name": "Python 3",
   "language": "python",
   "name": "python3"
  },
  "language_info": {
   "codemirror_mode": {
    "name": "ipython",
    "version": 3
   },
   "file_extension": ".py",
   "mimetype": "text/x-python",
   "name": "python",
   "nbconvert_exporter": "python",
   "pygments_lexer": "ipython3",
   "version": "3.9.5"
  }
 },
 "nbformat": 4,
 "nbformat_minor": 4
}
