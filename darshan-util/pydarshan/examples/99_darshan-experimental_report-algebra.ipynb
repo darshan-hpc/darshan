{
 "cells": [
  {
   "cell_type": "code",
   "execution_count": 1,
   "metadata": {},
   "outputs": [],
   "source": [
    "import darshan\n",
    "darshan.enable_experimental(verbose=False)\n",
    "\n",
    "import pprint\n",
    "\n",
    "from darshan.experimental.plots import plot_access_histogram\n",
    "from darshan.experimental.plots import plot_opcounts"
   ]
  },
  {
   "cell_type": "markdown",
   "metadata": {},
   "source": [
    "### Report Algebra\n",
    "\n",
    "Reports come with a number of operations which can be applied to them. For a number of common combinations a shorthand notations can be used, which exploits operator overloading. This can be useful in a variety of contexts such as analysis, as well as performance projection and extrapolation."
   ]
  },
  {
   "cell_type": "markdown",
   "metadata": {},
   "source": [
    "    Operation                        Returns Interpreation\n",
    "    ---------                        ------- -------------\n",
    "    report + report              =>  report: merge reports - equivalant to .merge()\n",
    "    report + datetime.timedelta  =>  report: all report records are moved in time\n",
    "\n",
    "    report * scalar              =>  report: all report records are dublicated 'scalar' times\n",
    "                                             integer multiplication is well defined\n",
    "                                             float multiplication is only defined after reduction"
   ]
  },
  {
   "cell_type": "markdown",
   "metadata": {},
   "source": [
    "More operations are discussed at the end of the notebook."
   ]
  },
  {
   "cell_type": "markdown",
   "metadata": {},
   "source": [
    "#### Example:"
   ]
  },
  {
   "cell_type": "code",
   "execution_count": 2,
   "metadata": {
    "scrolled": true
   },
   "outputs": [],
   "source": [
    "import darshan\n",
    "import copy\n",
    "\n",
    "darshan.enable_experimental(verbose=False)"
   ]
  },
  {
   "cell_type": "code",
   "execution_count": 42,
   "metadata": {},
   "outputs": [
    {
     "name": "stdout",
     "output_type": "stream",
     "text": [
      "CPU times: user 336 ms, sys: 15.9 ms, total: 352 ms\n",
      "Wall time: 342 ms\n"
     ]
    }
   ],
   "source": [
    "%%time\n",
    "r1 = darshan.DarshanReport(\"example-logs/sample.darshan\", read_all=True)\n",
    "r2 = darshan.DarshanReport(\"example-logs/noposix.darshan\", read_all=True)\n",
    "r3 = darshan.DarshanReport(\"example-logs/sample-badost.darshan\", read_all=True)"
   ]
  },
  {
   "cell_type": "code",
   "execution_count": null,
   "metadata": {},
   "outputs": [],
   "source": []
  },
  {
   "cell_type": "code",
   "execution_count": 6,
   "metadata": {},
   "outputs": [
    {
     "name": "stdout",
     "output_type": "stream",
     "text": [
      "r1\n",
      "Filename:       example-logs/sample.darshan\n",
      "Times:          2017-03-20 10:07:47 to 2017-03-20 10:09:43 (Duration 0:01:56)\n",
      "Executeable:    /global/project/projectdirs/m888/glock/tokio-abc-results/bin.edison/vpicio_uni /scratch2/scratchdirs/glock/tokioabc-s.4478544/vpicio/vpicio.hdf5 32\n",
      "Processes:      2048\n",
      "JobID:          4478544\n",
      "UID:            69615\n",
      "Modules in Log: ['POSIX', 'MPI-IO', 'LUSTRE', 'STDIO']\n",
      "Loaded Records: {'POSIX': 1, 'MPI-IO': 1, 'STDIO': 129, 'LUSTRE': 1}\n",
      "Name Records:   4\n",
      "Darshan/Hints:  {'lib_ver': '3.1.3', 'h': 'romio_no_indep_rw=true;cb_nodes=4'}\n",
      "DarshanReport:  id(139717372215152) (tmp)\n",
      "\n",
      "r2\n",
      "Filename:       example-logs/noposix.darshan\n",
      "Times:          2018-01-02 20:57:35 to 2018-01-03 07:51:07 (Duration 10:53:32)\n",
      "Executeable:    160345792\n",
      "Processes:      512\n",
      "JobID:          83017637\n",
      "UID:            996599276\n",
      "Modules in Log: ['LUSTRE', 'STDIO']\n",
      "Loaded Records: {'STDIO': 2, 'LUSTRE': 519}\n",
      "Name Records:   522\n",
      "Darshan/Hints:  {'lib_ver': '3.1.4', 'h': 'romio_no_indep_rw=true;cb_nodes=4'}\n",
      "DarshanReport:  id(139716388342800) (tmp)\n",
      "\n",
      "r3\n",
      "Filename:       example-logs/sample-badost.darshan\n",
      "Times:          2017-06-20 19:49:39 to 2017-06-20 20:02:38 (Duration 0:12:59)\n",
      "Executeable:    /global/project/projectdirs/m888/glock/tokio-abc-results/bin.edison/ior -H -k -w -o ior-posix.out -s 64 -f /global/project/projectdirs/m888/glock/tokio-abc-results/inputs/posix1m2.in\n",
      "Processes:      2048\n",
      "JobID:          6265799\n",
      "UID:            69615\n",
      "Modules in Log: ['POSIX', 'LUSTRE', 'STDIO']\n",
      "Loaded Records: {'POSIX': 2048, 'STDIO': 3, 'LUSTRE': 2048}\n",
      "Name Records:   2052\n",
      "Darshan/Hints:  {'lib_ver': '3.1.3', 'h': 'romio_no_indep_rw=true;cb_nodes=4'}\n",
      "DarshanReport:  id(139716387719872) (tmp)\n",
      "\n"
     ]
    }
   ],
   "source": [
    "# display some info about each report for comparison\n",
    "for i, r in enumerate([r1, r2, r3]):\n",
    "    print(f\"r{i+1}\")\n",
    "    r.info(metadata=False)\n",
    "    print()"
   ]
  },
  {
   "cell_type": "code",
   "execution_count": null,
   "metadata": {},
   "outputs": [],
   "source": []
  },
  {
   "cell_type": "markdown",
   "metadata": {},
   "source": [
    "### Merging Multiple Reports"
   ]
  },
  {
   "cell_type": "code",
   "execution_count": 9,
   "metadata": {},
   "outputs": [
    {
     "name": "stdout",
     "output_type": "stream",
     "text": [
      "Filename:       None\n",
      "Times:          2017-03-20 10:07:47 to 2018-01-03 07:51:07 (Duration 288 days, 21:43:20)\n",
      "Loaded Records: {'POSIX': 1, 'MPI-IO': 1, 'STDIO': 131, 'LUSTRE': 520}\n",
      "Name Records:   523\n",
      "DarshanReport:  id(139717372211648) (tmp)\n"
     ]
    }
   ],
   "source": [
    "# merge two reports\n",
    "c = r1 + r2          # alternatives:  r1.merge(r2)  or  darshan.merge(r1, r2)   ?\n",
    "c.info()"
   ]
  },
  {
   "cell_type": "code",
   "execution_count": 10,
   "metadata": {},
   "outputs": [
    {
     "data": {
      "text/plain": [
       "{'POSIX': <darshan.report.DarshanRecordCollection at 0x7f127c56f0d0>,\n",
       " 'MPI-IO': <darshan.report.DarshanRecordCollection at 0x7f127c56f070>,\n",
       " 'STDIO': <darshan.report.DarshanRecordCollection at 0x7f127c56f250>,\n",
       " 'LUSTRE': <darshan.report.DarshanRecordCollection at 0x7f127c56fa00>}"
      ]
     },
     "execution_count": 10,
     "metadata": {},
     "output_type": "execute_result"
    }
   ],
   "source": [
    "c.records"
   ]
  },
  {
   "cell_type": "code",
   "execution_count": 11,
   "metadata": {},
   "outputs": [
    {
     "name": "stdout",
     "output_type": "stream",
     "text": [
      "Filename:       None\n",
      "Times:          2017-03-20 10:07:47 to 2018-01-03 07:51:07 (Duration 288 days, 21:43:20)\n",
      "Loaded Records: {'POSIX': 1, 'MPI-IO': 1, 'STDIO': 131, 'LUSTRE': 520}\n",
      "Name Records:   523\n",
      "DarshanReport:  id(139717372211648) (tmp)\n"
     ]
    }
   ],
   "source": [
    "c.info()"
   ]
  },
  {
   "cell_type": "code",
   "execution_count": 12,
   "metadata": {},
   "outputs": [
    {
     "name": "stdout",
     "output_type": "stream",
     "text": [
      "Summarizing... iohist MPI-IO\n"
     ]
    },
    {
     "data": {
      "text/plain": [
       "<module 'matplotlib.pyplot' from '/home/pq/p/software/darshan-pydarshan/darshan-util/pydarshan/devenv/venv/lib64/python3.9/site-packages/matplotlib/pyplot.py'>"
      ]
     },
     "execution_count": 12,
     "metadata": {},
     "output_type": "execute_result"
    },
    {
     "data": {
      "image/png": "[encoded data removed]",
      "text/plain": [
       "<Figure size 432x288 with 1 Axes>"
      ]
     },
     "metadata": {
      "needs_background": "light"
     },
     "output_type": "display_data"
    }
   ],
   "source": [
    "# combined plot:\n",
    "plot_access_histogram(c, 'MPI-IO')"
   ]
  },
  {
   "cell_type": "code",
   "execution_count": 13,
   "metadata": {},
   "outputs": [
    {
     "name": "stdout",
     "output_type": "stream",
     "text": [
      "Summarizing... agg_ioops\n",
      "Read,Write,Open,Stat,Seek,Mmap,Fsync,Layer\n",
      "0,16402,2049,0,16404,0,0,POSIX\n",
      "0,18,0,0,0,0,0,MPIIND\n",
      "0,16384,2048,0,0,0,0,MPICOL\n",
      "199687,2190511,1153,0,203265,0,217126,STDIO\n",
      "\n"
     ]
    },
    {
     "data": {
      "text/plain": [
       "<module 'matplotlib.pyplot' from '/home/pq/p/software/darshan-pydarshan/darshan-util/pydarshan/devenv/venv/lib64/python3.9/site-packages/matplotlib/pyplot.py'>"
      ]
     },
     "execution_count": 13,
     "metadata": {},
     "output_type": "execute_result"
    },
    {
     "data": {
      "image/png": "[encoded data removed]",
      "text/plain": [
       "<Figure size 432x288 with 1 Axes>"
      ]
     },
     "metadata": {
      "needs_background": "light"
     },
     "output_type": "display_data"
    }
   ],
   "source": [
    "# combined plot:\n",
    "plot_opcounts(c)"
   ]
  },
  {
   "cell_type": "code",
   "execution_count": null,
   "metadata": {},
   "outputs": [],
   "source": []
  },
  {
   "cell_type": "code",
   "execution_count": 41,
   "metadata": {},
   "outputs": [
    {
     "name": "stdout",
     "output_type": "stream",
     "text": [
      "[('POSIX', 13), ('MPI-IO', 13), ('STDIO', 1677), ('LUSTRE', 13)]\n",
      "Summarizing... agg_ioops\n",
      "Read,Write,Open,Stat,Seek,Mmap,Fsync,Layer\n",
      "0,213226,26637,0,213252,0,0,POSIX\n",
      "0,234,0,0,0,0,0,MPIIND\n",
      "0,212992,26624,0,0,0,0,MPICOL\n",
      "0,962,1677,0,0,0,0,STDIO\n",
      "\n"
     ]
    },
    {
     "data": {
      "text/plain": [
       "<module 'matplotlib.pyplot' from '/home/pq/p/software/darshan-pydarshan/darshan-util/pydarshan/devenv/venv/lib64/python3.9/site-packages/matplotlib/pyplot.py'>"
      ]
     },
     "execution_count": 41,
     "metadata": {},
     "output_type": "execute_result"
    },
    {
     "data": {
      "image/png": "[encoded data removed]",
      "text/plain": [
       "<Figure size 432x288 with 1 Axes>"
      ]
     },
     "metadata": {
      "needs_background": "light"
     },
     "output_type": "display_data"
    }
   ],
   "source": [
    "c1 = r1\n",
    "c2 = r3 + r3 + r3\n",
    "c = c1 + c2 + c2 + c2 + c2\n",
    "\n",
    "print([(key, len(val)) for key, val in c.records.items()])\n",
    "#plot_access_histogram(c, 'POSIX')\n",
    "plot_opcounts(c)"
   ]
  },
  {
   "cell_type": "code",
   "execution_count": null,
   "metadata": {},
   "outputs": [],
   "source": []
  },
  {
   "cell_type": "code",
   "execution_count": 15,
   "metadata": {},
   "outputs": [
    {
     "data": {
      "text/plain": [
       "[('POSIX', 1), ('MPI-IO', 1), ('STDIO', 131), ('LUSTRE', 520)]"
      ]
     },
     "execution_count": 15,
     "metadata": {},
     "output_type": "execute_result"
    }
   ],
   "source": [
    "combined = r1 + r2\n",
    "[(key, len(val)) for key, val in combined.records.items()]"
   ]
  },
  {
   "cell_type": "markdown",
   "metadata": {},
   "source": [
    "## Aggregations and Summaries\n",
    "\n",
    "A report object allows to attach summaries, which can be useful when planning to export data including different summerizations. It also allows to cache compute intensive summaries in interactive sessions."
   ]
  },
  {
   "cell_type": "code",
   "execution_count": 19,
   "metadata": {},
   "outputs": [
    {
     "name": "stdout",
     "output_type": "stream",
     "text": [
      "Summarizing... iohist POSIX\n"
     ]
    },
    {
     "data": {
      "text/plain": [
       "<module 'matplotlib.pyplot' from '/home/pq/p/software/darshan-pydarshan/darshan-util/pydarshan/devenv/venv/lib64/python3.9/site-packages/matplotlib/pyplot.py'>"
      ]
     },
     "execution_count": 19,
     "metadata": {},
     "output_type": "execute_result"
    },
    {
     "data": {
      "image/png": "[encoded data removed]",
      "text/plain": [
       "<Figure size 432x288 with 1 Axes>"
      ]
     },
     "metadata": {
      "needs_background": "light"
     },
     "output_type": "display_data"
    }
   ],
   "source": [
    "import darshan\n",
    "darshan.enable_experimental()\n",
    "\n",
    "r3 = darshan.DarshanReport(\"example-logs/example.darshan\", dtype='numpy')\n",
    "r3.mod_read_all_records('POSIX')\n",
    "r3.mod_read_all_records('MPI-IO')\n",
    "\n",
    "\n",
    "from darshan.experimental.plots import plot_access_histogram\n",
    "plot_access_histogram(r3, mod='POSIX')"
   ]
  },
  {
   "cell_type": "code",
   "execution_count": 20,
   "metadata": {},
   "outputs": [
    {
     "data": {
      "text/plain": [
       "{'READ_0_100': 0,\n",
       " 'READ_100_1K': 0,\n",
       " 'READ_1K_10K': 0,\n",
       " 'READ_10K_100K': 0,\n",
       " 'READ_100K_1M': 0,\n",
       " 'READ_1M_4M': 0,\n",
       " 'READ_4M_10M': 0,\n",
       " 'READ_10M_100M': 0,\n",
       " 'READ_100M_1G': 0,\n",
       " 'READ_1G_PLUS': 0,\n",
       " 'WRITE_0_100': 4,\n",
       " 'WRITE_100_1K': 14,\n",
       " 'WRITE_1K_10K': 0,\n",
       " 'WRITE_10K_100K': 0,\n",
       " 'WRITE_100K_1M': 0,\n",
       " 'WRITE_1M_4M': 0,\n",
       " 'WRITE_4M_10M': 0,\n",
       " 'WRITE_10M_100M': 0,\n",
       " 'WRITE_100M_1G': 16384,\n",
       " 'WRITE_1G_PLUS': 0}"
      ]
     },
     "execution_count": 20,
     "metadata": {},
     "output_type": "execute_result"
    }
   ],
   "source": [
    "r3.mod_agg_iohist('POSIX')"
   ]
  },
  {
   "cell_type": "code",
   "execution_count": null,
   "metadata": {},
   "outputs": [],
   "source": []
  },
  {
   "cell_type": "markdown",
   "metadata": {},
   "source": [
    "## Provenance\n",
    "\n",
    "The report object maintains a provenance log to investigate and trace aggregations (recording can be disabled by changing `record_provenance` to `False`). Two indexes are maintained:\n",
    "\n",
    "* A list of all included sub-reports which hold records in the current report\n",
    "* A list of all alterings/filterings performed on the current report with timestamps/revision"
   ]
  },
  {
   "cell_type": "code",
   "execution_count": null,
   "metadata": {},
   "outputs": [],
   "source": []
  },
  {
   "cell_type": "code",
   "execution_count": 21,
   "metadata": {
    "scrolled": true
   },
   "outputs": [
    {
     "data": {
      "text/plain": [
       "[('add',\n",
       "  <darshan.report.DarshanReport at 0x7f123f76fb50>,\n",
       "  <darshan.report.DarshanReport at 0x7f1241a8cac0>,\n",
       "  datetime.datetime(2021, 3, 15, 18, 8, 37, 475553))]"
      ]
     },
     "execution_count": 21,
     "metadata": {},
     "output_type": "execute_result"
    }
   ],
   "source": [
    "c.provenance_graph"
   ]
  },
  {
   "cell_type": "code",
   "execution_count": null,
   "metadata": {},
   "outputs": [],
   "source": []
  },
  {
   "cell_type": "markdown",
   "metadata": {},
   "source": [
    "## Notes on Additional Operations\n",
    "\n",
    "This section collections other possible intepretations to common operations / input pairs."
   ]
  },
  {
   "cell_type": "markdown",
   "metadata": {},
   "source": [
    "    Operation                        Returns Interpreation\n",
    "    ---------                        ------- -------------\n",
    "    report + report              =>  report: merge reports - equivalant to .merge()\n",
    "    (report + record)            =>  report: existing report with the record added? (but might as well require also individual records to be wrapped in a report)\n",
    "    report + datetime.timedelta  =>  report: all report records are moved in time\n",
    "\n",
    "    report * scalar              =>  report: all report records are dublicated 'scalar' times\n",
    "                                             integer multiplication is well defined\n",
    "                                             float multiplication is only defined after reduction    \n",
    "                                             Maybe better implemeted through a method to allow masking (e.g., apply only to records matching criteria... apply only to (subset of?) float/int records)\n",
    "                                             \n",
    "    report - report              =>  report: remove matching records from left report\n",
    "\n",
    "    # Considered, but likely only implemented as a special function\n",
    "    report / report              =>  dict?:  various factors of whether the right reports can be part of left\n",
    "                                             for example, how often into duration, how often per layer\n",
    "                                             right report likely, has to use patterns to be useful\n",
    "    report * datetime.timedelta  =>  report: skew I/O activity timeline (start/end, dxt traces)\n",
    "    \n",
    "    # Undefined (most typical operators just don't offer a meaningful interpretation)\n",
    "    report * report\n",
    "    \n",
    "    arithmetic:\n",
    "    + addition\n",
    "    - substraction\n",
    "    * multiplication\n",
    "    / devision\n",
    "    % modulus\n",
    "    ** exponent\n",
    "    // floor devision\n",
    "    \n",
    "    comparison:\n",
    "    == equals\n",
    "    != not equal\n",
    "    >\n",
    "    <\n",
    "    >=\n",
    "    <=\n",
    "    \n",
    "    bitwise:\n",
    "    & and\n",
    "    | or\n",
    "    ^ xor\n",
    "    ~ flip bits (operator is unary)\n",
    "    << left shift\n",
    "    >> right shift\n",
    "    \n",
    "    logical:\n",
    "    and\n",
    "    or\n",
    "    not\n",
    "    \n",
    "    membership:\n",
    "    in\n",
    "    not in\n",
    "    \n",
    "    identity:\n",
    "    is\n",
    "    is not\n",
    "    \n",
    "    "
   ]
  },
  {
   "cell_type": "code",
   "execution_count": null,
   "metadata": {},
   "outputs": [],
   "source": []
  }
 ],
 "metadata": {
  "kernelspec": {
   "display_name": "Python 3",
   "language": "python",
   "name": "python3"
  },
  "language_info": {
   "codemirror_mode": {
    "name": "ipython",
    "version": 3
   },
   "file_extension": ".py",
   "mimetype": "text/x-python",
   "name": "python",
   "nbconvert_exporter": "python",
   "pygments_lexer": "ipython3",
   "version": "3.9.5"
  }
 },
 "nbformat": 4,
 "nbformat_minor": 4
}
