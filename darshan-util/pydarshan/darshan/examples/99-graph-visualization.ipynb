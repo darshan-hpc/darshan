{
 "cells": [
  {
   "cell_type": "markdown",
   "metadata": {},
   "source": [
    "# Visualizing Multiprocess Dataflows\n",
    "\n",
    "Scientific applications can be the composition of many different services often spread across smaller processes and building blocks.\n",
    "While this streamlines software engineering and recomposition it can be much harder to analyse I/O behavior in a network of independent applications.\n",
    "This demonstration walks through the process of reconstructing data flows between different *darshan-instrumented applications* using networkx and holoviews."
   ]
  },
  {
   "cell_type": "code",
   "execution_count": 1,
   "metadata": {},
   "outputs": [],
   "source": [
    "import darshan\n",
    "darshan.enable_experimental()"
   ]
  },
  {
   "cell_type": "code",
   "execution_count": 2,
   "metadata": {},
   "outputs": [
    {
     "data": {
      "text/plain": [
       "['darshan-graph/pq_app_read_id71317_7-31-5657-2037904274838284930_55623.darshan',\n",
       " 'darshan-graph/pq_app_read_id71344_7-31-5658-2037904274838284930_55623.darshan',\n",
       " 'darshan-graph/pq_app_write_id71303_7-31-5657-2037904274838284930_55623.darshan',\n",
       " 'darshan-graph/pq_app_write_id71310_7-31-5657-2037904274838284930_55623.darshan',\n",
       " 'darshan-graph/pq_app_write_id71296_7-31-5657-2037904274838284930_55623.darshan',\n",
       " 'darshan-graph/pq_app_readAB_writeC_id71326_7-31-5658-2037904274838284930_55623.darshan']"
      ]
     },
     "execution_count": 2,
     "metadata": {},
     "output_type": "execute_result"
    }
   ],
   "source": [
    "# find relevant darshan logs\n",
    "import glob\n",
    "darshan_logs = glob.glob(\"darshan-graph/*.darshan\")\n",
    "darshan_logs"
   ]
  },
  {
   "cell_type": "code",
   "execution_count": null,
   "metadata": {},
   "outputs": [],
   "source": []
  },
  {
   "cell_type": "code",
   "execution_count": 3,
   "metadata": {},
   "outputs": [],
   "source": [
    "# Optionally, get an overview of what is in the logs\n",
    "def print_infos(darshan_logs):\n",
    "    for log in darshan_logs:\n",
    "        report = darshan.DarshanReport(log, read_all=True)  # Default behavior\n",
    "        report.info()\n",
    "        print(report.name_records)\n",
    "        print()\n",
    "        \n",
    "#print_infos(darshan_logs) # uncomment, to show"
   ]
  },
  {
   "cell_type": "code",
   "execution_count": null,
   "metadata": {},
   "outputs": [],
   "source": []
  },
  {
   "cell_type": "markdown",
   "metadata": {},
   "source": [
    "### Aggregating and Populating a Graph Representation\n",
    "\n",
    "A suitable data structure to represent and analyse these relations are graphs. For this example we will use networkx, a powerfull python graph library to manage the data flow graph."
   ]
  },
  {
   "cell_type": "code",
   "execution_count": 4,
   "metadata": {},
   "outputs": [],
   "source": [
    "import networkx as nx\n",
    "\n",
    "# Empty graph to hold relationships\n",
    "G = nx.DiGraph()\n",
    "\n",
    "# Example Usage:\n",
    "# G.add_node(nodeid, attr1=\"\", attr2=42)\n",
    "# G.add_edge(src_nodeid, tgt_nodeid, attr5=82, attr32=\"\")"
   ]
  },
  {
   "cell_type": "code",
   "execution_count": 8,
   "metadata": {},
   "outputs": [
    {
     "name": "stderr",
     "output_type": "stream",
     "text": [
      " Skipping. Log does not contain data for mod: LUSTRE\n",
      " Skipping. Log does not contain data for mod: LUSTRE\n",
      " Skipping. Log does not contain data for mod: LUSTRE\n",
      " Skipping. Log does not contain data for mod: LUSTRE\n",
      " Skipping. Log does not contain data for mod: LUSTRE\n",
      " Skipping. Log does not contain data for mod: LUSTRE\n"
     ]
    },
    {
     "name": "stdout",
     "output_type": "stream",
     "text": [
      "darshan-graph/pq_app_read_id71317_7-31-5657-2037904274838284930_55623.darshan\n",
      "/home/pq/p/software/darshan-pydarshan/darshan-util/pydarshan/examples/darshan-graph/A\n",
      "r 10000 w 0\n",
      "\n",
      "<STDOUT>\n",
      "r 0 w 696\n",
      "\n",
      "\n",
      "\n",
      "darshan-graph/pq_app_read_id71344_7-31-5658-2037904274838284930_55623.darshan\n",
      "/home/pq/p/software/darshan-pydarshan/darshan-util/pydarshan/examples/darshan-graph/C\n",
      "r 2300 w 0\n",
      "\n",
      "<STDOUT>\n",
      "r 0 w 696\n",
      "\n",
      "\n",
      "\n",
      "darshan-graph/pq_app_write_id71303_7-31-5657-2037904274838284930_55623.darshan\n",
      "/home/pq/p/software/darshan-pydarshan/darshan-util/pydarshan/examples/darshan-graph/B\n",
      "r 0 w 10000\n",
      "\n",
      "<STDOUT>\n",
      "r 0 w 756\n",
      "\n",
      "\n",
      "\n",
      "darshan-graph/pq_app_write_id71310_7-31-5657-2037904274838284930_55623.darshan\n",
      "/home/pq/p/software/darshan-pydarshan/darshan-util/pydarshan/examples/darshan-graph/Z\n",
      "r 0 w 10000\n",
      "\n",
      "<STDOUT>\n",
      "r 0 w 756\n",
      "\n",
      "\n",
      "\n",
      "darshan-graph/pq_app_write_id71296_7-31-5657-2037904274838284930_55623.darshan\n",
      "/home/pq/p/software/darshan-pydarshan/darshan-util/pydarshan/examples/darshan-graph/A\n",
      "r 0 w 10000\n",
      "\n",
      "<STDOUT>\n",
      "r 0 w 756\n",
      "\n",
      "\n",
      "\n",
      "darshan-graph/pq_app_readAB_writeC_id71326_7-31-5658-2037904274838284930_55623.darshan\n",
      "/home/pq/p/software/darshan-pydarshan/darshan-util/pydarshan/examples/darshan-graph/B\n",
      "r 10000 w 0\n",
      "\n",
      "/home/pq/p/software/darshan-pydarshan/darshan-util/pydarshan/examples/darshan-graph/C.locktest.0\n",
      "r 0 w 0\n",
      "\n",
      "/tmp/ompi.linux.1000/pid.71320/1/C_cid-0-71326.sm\n",
      "r 0 w 40\n",
      "\n",
      "/home/pq/p/software/darshan-pydarshan/darshan-util/pydarshan/examples/darshan-graph/C\n",
      "r 0 w 0\n",
      "\n",
      "/home/pq/p/software/darshan-pydarshan/darshan-util/pydarshan/examples/darshan-graph/A\n",
      "r 10000 w 0\n",
      "\n",
      "/home/pq/p/software/darshan-pydarshan/darshan-util/pydarshan/examples/darshan-graph/C.locktest.1\n",
      "r 0 w 0\n",
      "\n",
      "/home/pq/p/software/darshan-pydarshan/darshan-util/pydarshan/examples/darshan-graph/C.locktest.2\n",
      "r 0 w 0\n",
      "\n",
      "/home/pq/p/software/darshan-pydarshan/darshan-util/pydarshan/examples/darshan-graph/C.locktest.3\n",
      "r 0 w 0\n",
      "\n",
      "/home/pq/p/software/darshan-pydarshan/darshan-util/pydarshan/examples/darshan-graph/C\n",
      "r 0 w 8000\n",
      "\n",
      "<STDOUT>\n",
      "r 0 w 2128\n",
      "\n",
      "\n",
      "\n",
      "rwmax: 10000\n"
     ]
    }
   ],
   "source": [
    "# Determine largest dataflow, later used to normalize edge thickness\n",
    "rwmax = 0\n",
    "\n",
    "# A color map used to color by ntype\n",
    "node_color_map = {\n",
    "    \"app\": \"orange\",\n",
    "    \"file\": \"silver\"\n",
    "}\n",
    "\n",
    "\n",
    "\n",
    "# Loop through log files and populate graph with files and dataflows\n",
    "# Add a node for each log, as well as for every file\n",
    "for i, log in enumerate(darshan_logs):  \n",
    "    \n",
    "    \n",
    "    print(log)\n",
    "    name = log\n",
    "    ntype = \"app\"\n",
    "\n",
    "    aidx = name\n",
    "    G.add_node(aidx, ntype=ntype, fill_color=node_color_map[ntype])\n",
    "        \n",
    "    r = darshan.DarshanReport(log, read_all=True, dtype='numpy')\n",
    "    #r.info()\n",
    "    \n",
    "    \n",
    "    # Aggregate records but preserve distinct name_records and modules\n",
    "    flows = r.reduce(mods=\"unique\", name_records=\"unique\").records\n",
    "    #print(flows)\n",
    "    \n",
    "    \n",
    "    # for each modules and filename add dataflows to graph as edges\n",
    "    for mod in flows:    \n",
    "        for rec in flows[mod]:\n",
    "            \n",
    "            name = r.name_records[rec['id']]\n",
    "            ntype = \"file\"\n",
    "\n",
    "            print(name)\n",
    "            bytesr = 0\n",
    "            bytesw = 0\n",
    "\n",
    "            # counters as dictionary:\n",
    "            cdic = dict(zip(r.counters[mod]['counters'], rec['counters']))\n",
    "            #print(cdic)\n",
    "            \n",
    "            \n",
    "            # Aggregate custom counters: Here total bytes read/written across levels\n",
    "            # Note: This may be inaccurate\n",
    "            if \"POSIX_BYTES_WRITTEN\" in cdic:\n",
    "                bytesw += cdic[\"POSIX_BYTES_WRITTEN\"]\n",
    "            if \"POSIX_BYTES_READ\" in cdic:\n",
    "                bytesr += cdic[\"POSIX_BYTES_READ\"]\n",
    "                \n",
    "            if \"STDIO_BYTES_WRITTEN\" in cdic:\n",
    "                bytesw += cdic[\"STDIO_BYTES_WRITTEN\"]\n",
    "            if \"STDIO_BYTES_WRITTEN\" in cdic:\n",
    "                bytesw += cdic[\"STDIO_BYTES_WRITTEN\"]\n",
    "                \n",
    "            if \"MPIIO_BYTES_WRITTEN\" in cdic:\n",
    "                bytesw += cdic[\"MPIIO_BYTES_WRITTEN\"]\n",
    "            if \"MPIIO_BYTES_READ\" in cdic:\n",
    "                bytesr += cdic[\"MPIIO_BYTES_READ\"]\n",
    "                \n",
    "                \n",
    "            print(\"r\", bytesr, \"w\", bytesw)\n",
    "\n",
    "            rwmax = max(rwmax, bytesr, bytesw)\n",
    "                \n",
    "            \n",
    "            \n",
    "            if name in ['<STDIN>', '<STDOUT>', '<STDERR>']:\n",
    "                # prefix stdX with logname, to prevent undesired relations\n",
    "                fidx = aidx + \"/\" + name\n",
    "            else:\n",
    "                fidx = name\n",
    "\n",
    "                \n",
    "            # add/update the node that represents the current file\n",
    "            G.add_node(fidx, ntype=ntype, fill_color=node_color_map[ntype])\n",
    "\n",
    "            \n",
    "            # Add edges for read/write flows (also for zero-flows to associate lockfiles)\n",
    "            G.add_edge(aidx, fidx, op=\"w\", weight=bytesw+0.1)\n",
    "            G.add_edge(fidx, aidx, op=\"r\", weight=bytesr+0.1)\n",
    "            \n",
    "            # NOTE: Depending on the analysis: Do not add dataflows if 0 bytes read/written\n",
    "            #if bytesw > 0:\n",
    "            #    G.add_edge(aidx, fidx, op=\"w\", weight=bytesw+0.1)   \n",
    "            #if bytesr > 0:\n",
    "            #    G.add_edge(fidx, aidx, op=\"r\", weight=bytesr+0.1)\n",
    "\n",
    "            print()\n",
    "        \n",
    "    print()\n",
    "    print()\n",
    "\n",
    "        \n",
    "print(\"rwmax:\", rwmax)"
   ]
  },
  {
   "cell_type": "markdown",
   "metadata": {},
   "source": [
    "### Visualize and Explore\n",
    "\n",
    "Graph representations are especially useful for visualization. With holoviews fairly interactive graphs with tooltips on mouseover can be generated:"
   ]
  },
  {
   "cell_type": "code",
   "execution_count": 9,
   "metadata": {},
   "outputs": [
    {
     "data": {},
     "metadata": {},
     "output_type": "display_data"
    },
    {
     "data": {
      "application/vnd.holoviews_exec.v0+json": "",
      "text/html": [
       "<div id='1142'>\n",
       "\n",
       "\n",
       "\n",
       "\n",
       "\n",
       "  <div class=\"bk-root\" id=\"c0e3ed0a-3a15-4f19-abe6-aaa6bb990645\" data-root-id=\"1142\"></div>\n",
       "</div>\n",
       "<script type=\"application/javascript\">(function(root) {\n",
       "  function embed_document(root) {\n",
       "  var docs_json = {\"d961fb87-311e-4fa3-a067-2d9fa7e6cfb3\":{\"roots\":{\"references\":[{\"attributes\":{},\"id\":\"1205\",\"type\":\"BasicTickFormatter\"},{\"attributes\":{\"callback\":null},\"id\":\"1169\",\"type\":\"TapTool\"},{\"attributes\":{\"bottom_units\":\"screen\",\"fill_alpha\":0.5,\"fill_color\":\"lightgrey\",\"left_units\":\"screen\",\"level\":\"overlay\",\"line_alpha\":1.0,\"line_color\":\"black\",\"line_dash\":[4,4],\"line_width\":2,\"right_units\":\"screen\",\"top_units\":\"screen\"},\"id\":\"1170\",\"type\":\"BoxAnnotation\"},{\"attributes\":{\"margin\":[5,5,5,5],\"name\":\"HSpacer01672\",\"sizing_mode\":\"stretch_width\"},\"id\":\"1143\",\"type\":\"Spacer\"},{\"attributes\":{},\"id\":\"1203\",\"type\":\"NodesAndLinkedEdges\"},{\"attributes\":{\"fill_alpha\":{\"value\":0.2},\"fill_color\":{\"value\":\"#30a2da\"},\"line_alpha\":{\"value\":0.2},\"size\":{\"units\":\"screen\",\"value\":15.811388300841896}},\"id\":\"1183\",\"type\":\"Circle\"},{\"attributes\":{\"axis\":{\"id\":\"1160\"},\"dimension\":1,\"grid_line_color\":null,\"ticker\":null},\"id\":\"1163\",\"type\":\"Grid\"},{\"attributes\":{\"data_source\":{\"id\":\"1180\"},\"glyph\":{\"id\":\"1187\"},\"hover_glyph\":{\"id\":\"1189\"},\"muted_glyph\":null,\"nonselection_glyph\":{\"id\":\"1188\"},\"selection_glyph\":null,\"view\":{\"id\":\"1191\"}},\"id\":\"1190\",\"type\":\"GlyphRenderer\"},{\"attributes\":{\"callback\":null,\"renderers\":[{\"id\":\"1192\"}],\"tooltips\":[[\"index\",\"@{index_hover}\"],[\"fill_color\",\"@{fill_color}\"],[\"ntype\",\"@{ntype}\"]]},\"id\":\"1146\",\"type\":\"HoverTool\"},{\"attributes\":{\"data\":{\"edge_line_width\":{\"__ndarray__\":\"Iv32deCcuT9cQj7o2azcPyL99nXgnLk/XEI+6Nms3D/029eBc2YUQEaU9gZfmN4/9NvXgXNmFEBGlPYGX5jeP/Tb14FzZhRARpT2Bl+Y3j8i/fZ14Jy5PyL99nXgnLk/QYLix5i7vj/029eBc2YQQCL99nXgnLk/Iv32deCcuT8i/fZ14Jy5PyL99nXgnLk/coqO5PKf8j/029eBc2YUQCL99nXgnLk/9NvXgXNmFEAi/fZ14Jy5PznWxW00APQ/Iv32deCcuT8i/fZ14Jy5PyL99nXgnLk/9NvXgXNmFEAi/fZ14Jy5PyL99nXgnLk/Iv32deCcuT8i/fZ14Jy5PyL99nXgnLk/Iv32deCcuT8i/fZ14Jy5PyL99nXgnLk/Iv32deCcuT8i/fZ14Jy5Pw==\",\"dtype\":\"float64\",\"order\":\"little\",\"shape\":[38]},\"end\":{\"__ndarray__\":\"BgAAAAcAAAAIAAAACQAAAAoAAAALAAAADAAAAA0AAAAGAAAADgAAAAoAAAAPAAAAEAAAAAgAAAAGAAAAEQAAABIAAAATAAAAFAAAAAAAAAAEAAAABQAAAAAAAAABAAAABQAAAAEAAAACAAAABQAAAAIAAAADAAAAAwAAAAQAAAAFAAAABQAAAAUAAAAFAAAABQAAAAUAAAA=\",\"dtype\":\"int32\",\"order\":\"little\",\"shape\":[38]},\"start\":{\"__ndarray__\":\"AAAAAAAAAAABAAAAAQAAAAIAAAACAAAAAwAAAAMAAAAEAAAABAAAAAUAAAAFAAAABQAAAAUAAAAFAAAABQAAAAUAAAAFAAAABQAAAAYAAAAGAAAABgAAAAcAAAAIAAAACAAAAAkAAAAKAAAACgAAAAsAAAAMAAAADQAAAA4AAAAPAAAAEAAAABEAAAASAAAAEwAAABQAAAA=\",\"dtype\":\"int32\",\"order\":\"little\",\"shape\":[38]},\"xs\":[{\"__ndarray__\":\"ZmZmZuaSuUAzMzMzszu2QAAAAAAAAPh/EJL5e/aRtkAzMzMzszu2QOhXSLLhGbdA\",\"dtype\":\"float64\",\"order\":\"little\",\"shape\":[6]},{\"__ndarray__\":\"ZmZmZuaSuUAAAAAAAFS8QAAAAAAAAPh/VjvTi3r3u0AAAAAAAFS8QOzsJ0sjc7tA\",\"dtype\":\"float64\",\"order\":\"little\",\"shape\":[6]},{\"__ndarray__\":\"MzMzMzODlUDNzMzMzGWjQAAAAAAAAPh/QEmZZnh+oUDNzMzMzGWjQKNeRanoFKJA\",\"dtype\":\"float64\",\"order\":\"little\",\"shape\":[6]},{\"__ndarray__\":\"MzMzMzODlUCPwvUoXA9+QAAAAAAAAPh/Eh6Hv0ulhkCPwvUoXA9+QN6x53kHV4RA\",\"dtype\":\"float64\",\"order\":\"little\",\"shape\":[6]},{\"__ndarray__\":\"mpmZmZl4rUAAAAAAAIyuQAAAAAAAAPh/3igy2zUSr0AAAAAAAIyuQB4amfuKn61A\",\"dtype\":\"float64\",\"order\":\"little\",\"shape\":[6]},{\"__ndarray__\":\"mpmZmZl4rUBmZmZmZnmsQAAAAAAAAPh/Q4gI1FT7q0BmZmZmZnmsQLa7CYs1ba1A\",\"dtype\":\"float64\",\"order\":\"little\",\"shape\":[6]},{\"__ndarray__\":\"ZmZmZubIukCamZmZGXTAQAAAAAAAAPh/5jVCboMDwECamZmZGXTAQOY1Qm6DA8BA\",\"dtype\":\"float64\",\"order\":\"little\",\"shape\":[6]},{\"__ndarray__\":\"ZmZmZubIukAzMzMzM6G0QAAAAAAAAPh/m/rhiV+CtUAzMzMzM6G0QJv64YlfgrVA\",\"dtype\":\"float64\",\"order\":\"little\",\"shape\":[6]},{\"__ndarray__\":\"ZmZmZuaXukAzMzMzszu2QAAAAAAAAPh/DTeJJQovt0AzMzMzszu2QCSa4hES3rZA\",\"dtype\":\"float64\",\"order\":\"little\",\"shape\":[6]},{\"__ndarray__\":\"ZmZmZuaXukBmZmZm5ie+QAAAAAAAAPh/3+bcoEE0vUBmZmZm5ie+QM4vWg8XgL1A\",\"dtype\":\"float64\",\"order\":\"little\",\"shape\":[6]},{\"__ndarray__\":\"AAAAAADfrkAAAAAAAIyuQAAAAAAAAPh/SJaSeFjdrUAAAAAAAIyuQBCAudRLUq9A\",\"dtype\":\"float64\",\"order\":\"little\",\"shape\":[6]},{\"__ndarray__\":\"AAAAAADfrkAzMzMzs0KwQAAAAAAAAPh/YeOdVTJ4sEAzMzMzs0KwQJNUWOzHgK9A\",\"dtype\":\"float64\",\"order\":\"little\",\"shape\":[6]},{\"__ndarray__\":\"AAAAAADfrkBmZmZmZpOqQAAAAAAAAPh/w6Cf1OMfrEBmZmZmZpOqQEDLzHBB46pA\",\"dtype\":\"float64\",\"order\":\"little\",\"shape\":[6]},{\"__ndarray__\":\"AAAAAADfrkDNzMzMzGWjQAAAAAAAAPh/3H78sxlNpUDNzMzMzGWjQM6R60jLtaRA\",\"dtype\":\"float64\",\"order\":\"little\",\"shape\":[6]},{\"__ndarray__\":\"AAAAAADfrkAzMzMzszu2QAAAAAAAAPh/rJCoFidstUAzMzMzszu2QMlJX3WXTrVA\",\"dtype\":\"float64\",\"order\":\"little\",\"shape\":[6]},{\"__ndarray__\":\"AAAAAADfrkAzMzMzs1myQAAAAAAAAPh/cntMYl12sUAzMzMzs1myQAuooxMV97FA\",\"dtype\":\"float64\",\"order\":\"little\",\"shape\":[6]},{\"__ndarray__\":\"AAAAAADfrkAzMzMzM2CyQAAAAAAAAPh/AspfgEjcsUAzMzMzM2CyQM81YrQBcrFA\",\"dtype\":\"float64\",\"order\":\"little\",\"shape\":[6]},{\"__ndarray__\":\"AAAAAADfrkDNzMzMzKeqQAAAAAAAAPh/JUKdlQn9qkDNzMzMzKeqQNI7zwtxN6xA\",\"dtype\":\"float64\",\"order\":\"little\",\"shape\":[6]},{\"__ndarray__\":\"AAAAAADfrkBmZmZmZmKmQAAAAAAAAPh/TkK2tjrtp0BmZmZmZmKmQEmAZjO5Q6hA\",\"dtype\":\"float64\",\"order\":\"little\",\"shape\":[6]},{\"__ndarray__\":\"MzMzM7M7tkBmZmZm5pK5QAAAAAAAAPh/iQegHaM8uUBmZmZm5pK5QLFBUee3tLhA\",\"dtype\":\"float64\",\"order\":\"little\",\"shape\":[6]},{\"__ndarray__\":\"MzMzM7M7tkBmZmZm5pe6QAAAAAAAAPh/jGIQdI+kuUBmZmZm5pe6QHX/toeH9blA\",\"dtype\":\"float64\",\"order\":\"little\",\"shape\":[6]},{\"__ndarray__\":\"MzMzM7M7tkAAAAAAAN+uQAAAAAAAAPh/h6KKHAw/sEAAAAAAAN+uQGrp072bXLBA\",\"dtype\":\"float64\",\"order\":\"little\",\"shape\":[6]},{\"__ndarray__\":\"AAAAAABUvEBmZmZm5pK5QAAAAAAAAPh/ECuT2mvvuUBmZmZm5pK5QHp5PhvDc7pA\",\"dtype\":\"float64\",\"order\":\"little\",\"shape\":[6]},{\"__ndarray__\":\"zczMzMxlo0AzMzMzM4OVQAAAAAAAAPh/TTqa/9tRmUAzMzMzM4OVQIYPQnr7JJhA\",\"dtype\":\"float64\",\"order\":\"little\",\"shape\":[6]},{\"__ndarray__\":\"zczMzMxlo0AAAAAAAN+uQAAAAAAAAPh/8U3QGLP3rEAAAAAAAN+uQP864YMBj61A\",\"dtype\":\"float64\",\"order\":\"little\",\"shape\":[6]},{\"__ndarray__\":\"j8L1KFwPfkAzMzMzM4OVQAAAAAAAAPh/zhStXWS0kUAzMzMzM4OVQOjKfICG25JA\",\"dtype\":\"float64\",\"order\":\"little\",\"shape\":[6]},{\"__ndarray__\":\"AAAAAACMrkCamZmZmXitQAAAAAAAAPh/vHBnvmPyrECamZmZmXitQHx/AJ4OZa5A\",\"dtype\":\"float64\",\"order\":\"little\",\"shape\":[6]},{\"__ndarray__\":\"AAAAAACMrkAAAAAAAN+uQAAAAAAAAPh/uGlth6eNr0AAAAAAAN+uQPB/Riu0GK5A\",\"dtype\":\"float64\",\"order\":\"little\",\"shape\":[6]},{\"__ndarray__\":\"ZmZmZmZ5rECamZmZmXitQAAAAAAAAPh/vXf3K6v2rUCamZmZmXitQEpE9nTKhKxA\",\"dtype\":\"float64\",\"order\":\"little\",\"shape\":[6]},{\"__ndarray__\":\"mpmZmRl0wEBmZmZm5si6QAAAAAAAAPh/zi0VvRKqu0BmZmZm5si6QM4tFb0SqrtA\",\"dtype\":\"float64\",\"order\":\"little\",\"shape\":[6]},{\"__ndarray__\":\"MzMzMzOhtEBmZmZm5si6QAAAAAAAAPh//p63D7rnuUBmZmZm5si6QP6etw+657lA\",\"dtype\":\"float64\",\"order\":\"little\",\"shape\":[6]},{\"__ndarray__\":\"ZmZmZuYnvkBmZmZm5pe6QAAAAAAAAPh/7eXvK4uLu0BmZmZm5pe6QP6ccr21P7tA\",\"dtype\":\"float64\",\"order\":\"little\",\"shape\":[6]},{\"__ndarray__\":\"MzMzM7NCsEAAAAAAAN+uQAAAAAAAAPh/pJ8quwF0rkAAAAAAAN+uQNMRDnqe469A\",\"dtype\":\"float64\",\"order\":\"little\",\"shape\":[6]},{\"__ndarray__\":\"ZmZmZmaTqkAAAAAAAN+uQAAAAAAAAPh/o8XGkYJSrUAAAAAAAN+uQCabmfUkj65A\",\"dtype\":\"float64\",\"order\":\"little\",\"shape\":[6]},{\"__ndarray__\":\"MzMzM7NZskAAAAAAAN+uQAAAAAAAAPh/wbfm0NVSsEAAAAAAAN+uQE8WHz88pK9A\",\"dtype\":\"float64\",\"order\":\"little\",\"shape\":[6]},{\"__ndarray__\":\"MzMzMzNgskAAAAAAAN+uQAAAAAAAAPh/Y9KmZdXmr0AAAAAAAN+uQGT90H6xXbBA\",\"dtype\":\"float64\",\"order\":\"little\",\"shape\":[6]},{\"__ndarray__\":\"zczMzMynqkAAAAAAAN+uQAAAAAAAAPh/qIovN8OJrkAAAAAAAN+uQPuQ/cBbT61A\",\"dtype\":\"float64\",\"order\":\"little\",\"shape\":[6]},{\"__ndarray__\":\"ZmZmZmZipkAAAAAAAN+uQAAAAAAAAPh/GCSwrytUrUAAAAAAAN+uQB3m/zKt/axA\",\"dtype\":\"float64\",\"order\":\"little\",\"shape\":[6]}],\"ys\":[{\"__ndarray__\":\"AAAAAIBgs0BmZmZmZqWvQAAAAAAAAPh/aDC7Qaa2sEBmZmZmZqWvQDTMXjfjNrBA\",\"dtype\":\"float64\",\"order\":\"little\",\"shape\":[6]},{\"__ndarray__\":\"AAAAAIBgs0DNzMzMTCa2QAAAAAAAAPh/hxEcd9FEtUDNzMzMTCa2QI6VMmJIyLVA\",\"dtype\":\"float64\",\"order\":\"little\",\"shape\":[6]},{\"__ndarray__\":\"ZmZmZmYus0AAAAAAAEexQAAAAAAAAPh/xn5dYnJMsUAAAAAAAEexQDhcyAYm97FA\",\"dtype\":\"float64\",\"order\":\"little\",\"shape\":[6]},{\"__ndarray__\":\"ZmZmZmYus0AzMzMzM7C0QAAAAAAAAPh/HQMyncystEAzMzMzM7C0QM4YvdR4AbRA\",\"dtype\":\"float64\",\"order\":\"little\",\"shape\":[6]},{\"__ndarray__\":\"UrgehevNjkDNzMzMzB2hQAAAAAAAAPh/KqrlqGCSnkDNzMzMzB2hQPfDgt8U555A\",\"dtype\":\"float64\",\"order\":\"little\",\"shape\":[6]},{\"__ndarray__\":\"UrgehevNjkAAAAAAAAAyQAAAAAAAAPh/iJ5Dnt6tb0AAAAAAAAAyQEgVE9uNoWxA\",\"dtype\":\"float64\",\"order\":\"little\",\"shape\":[6]},{\"__ndarray__\":\"AAAAAABEmUAAAAAAAESZQAAAAAAAAPh/vECNu+vOl0AAAAAAAESZQES/ckQUuZpA\",\"dtype\":\"float64\",\"order\":\"little\",\"shape\":[6]},{\"__ndarray__\":\"AAAAAABEmUAAAAAAAESZQAAAAAAAAPh/RL9yRBS5mkAAAAAAAESZQLxAjbvrzpdA\",\"dtype\":\"float64\",\"order\":\"little\",\"shape\":[6]},{\"__ndarray__\":\"zczMzMxxq0BmZmZmZqWvQAAAAAAAAPh/0Wt0XvmJr0BmZmZmZqWvQI4MR2zfOa5A\",\"dtype\":\"float64\",\"order\":\"little\",\"shape\":[6]},{\"__ndarray__\":\"zczMzMxxq0AzMzMzM0aoQAAAAAAAAPh/MrByYdlSqEAzMzMzM0aoQNN361u1p6lA\",\"dtype\":\"float64\",\"order\":\"little\",\"shape\":[6]},{\"__ndarray__\":\"zczMzMx2rUDNzMzMzB2hQAAAAAAAAPh/j6YrOuPkokDNzMzMzB2hQJI2HEgY26JA\",\"dtype\":\"float64\",\"order\":\"little\",\"shape\":[6]},{\"__ndarray__\":\"zczMzMx2rUAAAAAAgH+zQAAAAAAAAPh/MR04x7eRskAAAAAAgH+zQDPyr+qIsbJA\",\"dtype\":\"float64\",\"order\":\"little\",\"shape\":[6]},{\"__ndarray__\":\"zczMzMx2rUAzMzMzsy2yQAAAAAAAAPh/YEa65eufsUAzMzMzsy2yQNym1l5EPbFA\",\"dtype\":\"float64\",\"order\":\"little\",\"shape\":[6]},{\"__ndarray__\":\"zczMzMx2rUAAAAAAAEexQAAAAAAAAPh/NKBW+e5AsUAAAAAAAEexQHgddnJslrBA\",\"dtype\":\"float64\",\"order\":\"little\",\"shape\":[6]},{\"__ndarray__\":\"zczMzMx2rUBmZmZmZqWvQAAAAAAAAPh/g5ne09mlrkBmZmZmZqWvQBt9dJwbC7BA\",\"dtype\":\"float64\",\"order\":\"little\",\"shape\":[6]},{\"__ndarray__\":\"zczMzMx2rUAAAAAAAOinQAAAAAAAAPh/IQrpz7yXqEAAAAAAAOinQOjs7AjEpalA\",\"dtype\":\"float64\",\"order\":\"little\",\"shape\":[6]},{\"__ndarray__\":\"zczMzMx2rUAzMzMzM8WwQAAAAAAAAPh/NOAoZYXwr0AzMzMzM8WwQK/fO6+QkbBA\",\"dtype\":\"float64\",\"order\":\"little\",\"shape\":[6]},{\"__ndarray__\":\"zczMzMx2rUBmZmZmZt2mQAAAAAAAAPh/UnElU1e9qEBmZmZmZt2mQCHHl2V/9KdA\",\"dtype\":\"float64\",\"order\":\"little\",\"shape\":[6]},{\"__ndarray__\":\"zczMzMx2rUAAAAAAAHGrQAAAAAAAAPh/d1SvYt2OrEAAAAAAAHGrQJ9GnU7zI6tA\",\"dtype\":\"float64\",\"order\":\"little\",\"shape\":[6]},{\"__ndarray__\":\"ZmZmZmalr0AAAAAAgGCzQAAAAAAAAPh/ywJ48Yx8skAAAAAAgGCzQP9m1PtP/LJA\",\"dtype\":\"float64\",\"order\":\"little\",\"shape\":[6]},{\"__ndarray__\":\"ZmZmZmalr0DNzMzMzHGrQAAAAAAAAPh/Yse+1DmNq0DNzMzMzHGrQKQm7MZT3axA\",\"dtype\":\"float64\",\"order\":\"little\",\"shape\":[6]},{\"__ndarray__\":\"ZmZmZmalr0DNzMzMzHatQAAAAAAAAPh/sJlUX1l2rkDNzMzMzHatQPw4Svr7Ba1A\",\"dtype\":\"float64\",\"order\":\"little\",\"shape\":[6]},{\"__ndarray__\":\"zczMzEwmtkAAAAAAgGCzQAAAAAAAAPh/RruwVftBtEAAAAAAgGCzQD83mmqEvrNA\",\"dtype\":\"float64\",\"order\":\"little\",\"shape\":[6]},{\"__ndarray__\":\"AAAAAABHsUBmZmZmZi6zQAAAAAAAAPh/oOcIBPQos0BmZmZmZi6zQC4Knl9AfrJA\",\"dtype\":\"float64\",\"order\":\"little\",\"shape\":[6]},{\"__ndarray__\":\"AAAAAABHsUDNzMzMzHatQAAAAAAAAPh/Zowf2u6CrUDNzMzMzHatQN6R4Ofz165A\",\"dtype\":\"float64\",\"order\":\"little\",\"shape\":[6]},{\"__ndarray__\":\"MzMzMzOwtEBmZmZmZi6zQAAAAAAAAPh/fJZn/Mwxs0BmZmZmZi6zQMuA3MQg3bNA\",\"dtype\":\"float64\",\"order\":\"little\",\"shape\":[6]},{\"__ndarray__\":\"zczMzMwdoUBSuB6F682OQAAAAAAAAPh/mUtDsy4Qk0BSuB6F682OQMwxpnx6u5JA\",\"dtype\":\"float64\",\"order\":\"little\",\"shape\":[6]},{\"__ndarray__\":\"zczMzMwdoUDNzMzMzHatQAAAAAAAAPh/C/NtX7avq0DNzMzMzHatQAhjfVGBuatA\",\"dtype\":\"float64\",\"order\":\"little\",\"shape\":[6]},{\"__ndarray__\":\"AAAAAAAAMkBSuB6F682OQAAAAAAAAPh/sNCN3XNyh0BSuB6F682OQADzWQ6INYhA\",\"dtype\":\"float64\",\"order\":\"little\",\"shape\":[6]},{\"__ndarray__\":\"AAAAAABEmUAAAAAAAESZQAAAAAAAAPh/RL9yRBS5mkAAAAAAAESZQLxAjbvrzpdA\",\"dtype\":\"float64\",\"order\":\"little\",\"shape\":[6]},{\"__ndarray__\":\"AAAAAABEmUAAAAAAAESZQAAAAAAAAPh/vECNu+vOl0AAAAAAAESZQES/ckQUuZpA\",\"dtype\":\"float64\",\"order\":\"little\",\"shape\":[6]},{\"__ndarray__\":\"MzMzMzNGqEDNzMzMzHGrQAAAAAAAAPh/zk+NniZlq0DNzMzMzHGrQC2IFKRKEKpA\",\"dtype\":\"float64\",\"order\":\"little\",\"shape\":[6]},{\"__ndarray__\":\"AAAAAIB/s0DNzMzMzHatQAAAAAAAAPh/a5JcPl1Sr0DNzMzMzHatQGfobPe6Eq9A\",\"dtype\":\"float64\",\"order\":\"little\",\"shape\":[6]},{\"__ndarray__\":\"MzMzM7MtskDNzMzMzHatQAAAAAAAAPh/cqa+Z1uSrkDNzMzMzHatQHvlhXWqV69A\",\"dtype\":\"float64\",\"order\":\"little\",\"shape\":[6]},{\"__ndarray__\":\"AAAAAADop0DNzMzMzHatQAAAAAAAAPh/rMLj/A/HrEDNzMzMzHatQOXf38MIuatA\",\"dtype\":\"float64\",\"order\":\"little\",\"shape\":[6]},{\"__ndarray__\":\"MzMzMzPFsEDNzMzMzHatQAAAAAAAAPh//1IKzq0Qr0DNzMzMzHatQNVzu9QR3q1A\",\"dtype\":\"float64\",\"order\":\"little\",\"shape\":[6]},{\"__ndarray__\":\"ZmZmZmbdpkDNzMzMzHatQAAAAAAAAPh/4MEN4NuWq0DNzMzMzHatQBJsm82zX6xA\",\"dtype\":\"float64\",\"order\":\"little\",\"shape\":[6]},{\"__ndarray__\":\"AAAAAABxq0DNzMzMzHatQAAAAAAAAPh/Vngdau9YrEDNzMzMzHatQC6GL37Zw61A\",\"dtype\":\"float64\",\"order\":\"little\",\"shape\":[6]}]},\"selected\":{\"id\":\"1217\"},\"selection_policy\":{\"id\":\"1218\"}},\"id\":\"1180\",\"type\":\"ColumnDataSource\"},{\"attributes\":{\"children\":[{\"id\":\"1143\"},{\"id\":\"1147\"},{\"id\":\"1229\"}],\"margin\":[0,0,0,0],\"name\":\"Row01668\",\"tags\":[\"embedded\"]},\"id\":\"1142\",\"type\":\"Row\"},{\"attributes\":{},\"id\":\"1161\",\"type\":\"BasicTicker\"},{\"attributes\":{\"axis_label\":\"y\",\"bounds\":\"auto\",\"formatter\":{\"id\":\"1207\"},\"major_label_orientation\":\"horizontal\",\"ticker\":{\"id\":\"1161\"},\"visible\":false},\"id\":\"1160\",\"type\":\"LinearAxis\"},{\"attributes\":{\"edge_renderer\":{\"id\":\"1190\"},\"inspection_policy\":{\"id\":\"1203\"},\"layout_provider\":{\"id\":\"1181\"},\"node_renderer\":{\"id\":\"1185\"},\"selection_policy\":{\"id\":\"1201\"}},\"id\":\"1192\",\"type\":\"GraphRenderer\"},{\"attributes\":{},\"id\":\"1157\",\"type\":\"BasicTicker\"},{\"attributes\":{},\"id\":\"1165\",\"type\":\"PanTool\"},{\"attributes\":{\"axis\":{\"id\":\"1156\"},\"grid_line_color\":null,\"ticker\":null},\"id\":\"1159\",\"type\":\"Grid\"},{\"attributes\":{},\"id\":\"1164\",\"type\":\"SaveTool\"},{\"attributes\":{\"axis_label\":\"x\",\"bounds\":\"auto\",\"formatter\":{\"id\":\"1205\"},\"major_label_orientation\":\"horizontal\",\"ticker\":{\"id\":\"1157\"},\"visible\":false},\"id\":\"1156\",\"type\":\"LinearAxis\"},{\"attributes\":{\"data\":{\"fill_color\":[\"orange\",\"orange\",\"orange\",\"orange\",\"orange\",\"orange\",\"silver\",\"silver\",\"silver\",\"silver\",\"silver\",\"silver\",\"silver\",\"silver\",\"silver\",\"silver\",\"silver\",\"silver\",\"silver\",\"silver\",\"silver\"],\"index\":{\"__ndarray__\":\"AAAAAAEAAAACAAAAAwAAAAQAAAAFAAAABgAAAAcAAAAIAAAACQAAAAoAAAALAAAADAAAAA0AAAAOAAAADwAAABAAAAARAAAAEgAAABMAAAAUAAAA\",\"dtype\":\"int32\",\"order\":\"little\",\"shape\":[21]},\"index_hover\":[\"darshan-graph/pq_app_read_id71317_7-31-5657-2037904274838284930_55623.darshan\",\"darshan-graph/pq_app_read_id71344_7-31-5658-2037904274838284930_55623.darshan\",\"darshan-graph/pq_app_write_id71303_7-31-5657-2037904274838284930_55623.darshan\",\"darshan-graph/pq_app_write_id71310_7-31-5657-2037904274838284930_55623.darshan\",\"darshan-graph/pq_app_write_id71296_7-31-5657-2037904274838284930_55623.darshan\",\"darshan-graph/pq_app_readAB_writeC_id71326_7-31-5658-2037904274838284930_55623.darshan\",\"/home/pq/p/software/darshan-pydarshan/darshan-util/pydarshan/examples/darshan-graph/A\",\"darshan-graph/pq_app_read_id71317_7-31-5657-2037904274838284930_55623.darshan/<STDOUT>\",\"/home/pq/p/software/darshan-pydarshan/darshan-util/pydarshan/examples/darshan-graph/C\",\"darshan-graph/pq_app_read_id71344_7-31-5658-2037904274838284930_55623.darshan/<STDOUT>\",\"/home/pq/p/software/darshan-pydarshan/darshan-util/pydarshan/examples/darshan-graph/B\",\"darshan-graph/pq_app_write_id71303_7-31-5657-2037904274838284930_55623.darshan/<STDOUT>\",\"/home/pq/p/software/darshan-pydarshan/darshan-util/pydarshan/examples/darshan-graph/Z\",\"darshan-graph/pq_app_write_id71310_7-31-5657-2037904274838284930_55623.darshan/<STDOUT>\",\"darshan-graph/pq_app_write_id71296_7-31-5657-2037904274838284930_55623.darshan/<STDOUT>\",\"/home/pq/p/software/darshan-pydarshan/darshan-util/pydarshan/examples/darshan-graph/C.locktest.0\",\"/tmp/ompi.linux.1000/pid.71320/1/C_cid-0-71326.sm\",\"/home/pq/p/software/darshan-pydarshan/darshan-util/pydarshan/examples/darshan-graph/C.locktest.1\",\"/home/pq/p/software/darshan-pydarshan/darshan-util/pydarshan/examples/darshan-graph/C.locktest.2\",\"/home/pq/p/software/darshan-pydarshan/darshan-util/pydarshan/examples/darshan-graph/C.locktest.3\",\"darshan-graph/pq_app_readAB_writeC_id71326_7-31-5658-2037904274838284930_55623.darshan/<STDOUT>\"],\"node_fill_color\":[\"orange\",\"orange\",\"orange\",\"orange\",\"orange\",\"orange\",\"silver\",\"silver\",\"silver\",\"silver\",\"silver\",\"silver\",\"silver\",\"silver\",\"silver\",\"silver\",\"silver\",\"silver\",\"silver\",\"silver\",\"silver\"],\"ntype\":[\"app\",\"app\",\"app\",\"app\",\"app\",\"app\",\"file\",\"file\",\"file\",\"file\",\"file\",\"file\",\"file\",\"file\",\"file\",\"file\",\"file\",\"file\",\"file\",\"file\",\"file\"]},\"selected\":{\"id\":\"1215\"},\"selection_policy\":{\"id\":\"1216\"}},\"id\":\"1179\",\"type\":\"ColumnDataSource\"},{\"attributes\":{\"fill_alpha\":{\"value\":0.66},\"fill_color\":{\"field\":\"node_fill_color\"},\"line_alpha\":{\"value\":0.66},\"size\":{\"units\":\"screen\",\"value\":15.811388300841896}},\"id\":\"1182\",\"type\":\"Circle\"},{\"attributes\":{},\"id\":\"1218\",\"type\":\"UnionRenderers\"},{\"attributes\":{},\"id\":\"1154\",\"type\":\"LinearScale\"},{\"attributes\":{},\"id\":\"1166\",\"type\":\"WheelZoomTool\"},{\"attributes\":{\"margin\":[5,5,5,5],\"name\":\"HSpacer01673\",\"sizing_mode\":\"stretch_width\"},\"id\":\"1229\",\"type\":\"Spacer\"},{\"attributes\":{\"end\":9218.524000000001,\"reset_end\":9218.524000000001,\"reset_start\":-313.3640000000001,\"start\":-313.3640000000001,\"tags\":[[[\"x\",\"x\",null]]]},\"id\":\"1144\",\"type\":\"Range1d\"},{\"attributes\":{\"data_source\":{\"id\":\"1179\"},\"glyph\":{\"id\":\"1182\"},\"hover_glyph\":{\"id\":\"1184\"},\"muted_glyph\":null,\"nonselection_glyph\":{\"id\":\"1183\"},\"selection_glyph\":null,\"view\":{\"id\":\"1186\"}},\"id\":\"1185\",\"type\":\"GlyphRenderer\"},{\"attributes\":{\"end\":6094.2225,\"reset_end\":6094.2225,\"reset_start\":-405.92250000000007,\"start\":-405.92250000000007,\"tags\":[[[\"y\",\"y\",null]]]},\"id\":\"1145\",\"type\":\"Range1d\"},{\"attributes\":{\"overlay\":{\"id\":\"1170\"}},\"id\":\"1167\",\"type\":\"BoxZoomTool\"},{\"attributes\":{},\"id\":\"1152\",\"type\":\"LinearScale\"},{\"attributes\":{\"align\":null,\"below\":[{\"id\":\"1156\"}],\"center\":[{\"id\":\"1159\"},{\"id\":\"1163\"}],\"left\":[{\"id\":\"1160\"}],\"margin\":null,\"min_border_bottom\":10,\"min_border_left\":10,\"min_border_right\":10,\"min_border_top\":10,\"outline_line_alpha\":0,\"plot_height\":800,\"renderers\":[{\"id\":\"1192\"}],\"sizing_mode\":\"fixed\",\"title\":{\"id\":\"1148\"},\"toolbar\":{\"id\":\"1171\"},\"x_range\":{\"id\":\"1144\"},\"x_scale\":{\"id\":\"1152\"},\"y_range\":{\"id\":\"1145\"},\"y_scale\":{\"id\":\"1154\"}},\"id\":\"1147\",\"subtype\":\"Figure\",\"type\":\"Plot\"},{\"attributes\":{},\"id\":\"1207\",\"type\":\"BasicTickFormatter\"},{\"attributes\":{\"line_alpha\":{\"value\":0.66},\"line_width\":{\"field\":\"edge_line_width\"}},\"id\":\"1187\",\"type\":\"MultiLine\"},{\"attributes\":{},\"id\":\"1215\",\"type\":\"Selection\"},{\"attributes\":{},\"id\":\"1201\",\"type\":\"NodesAndLinkedEdges\"},{\"attributes\":{\"line_alpha\":{\"value\":0.2},\"line_width\":{\"field\":\"edge_line_width\"}},\"id\":\"1188\",\"type\":\"MultiLine\"},{\"attributes\":{\"line_alpha\":{\"value\":0.66},\"line_color\":{\"value\":\"limegreen\"},\"line_width\":{\"field\":\"edge_line_width\"}},\"id\":\"1189\",\"type\":\"MultiLine\"},{\"attributes\":{\"source\":{\"id\":\"1180\"}},\"id\":\"1191\",\"type\":\"CDSView\"},{\"attributes\":{\"source\":{\"id\":\"1179\"}},\"id\":\"1186\",\"type\":\"CDSView\"},{\"attributes\":{\"fill_alpha\":{\"value\":0.66},\"fill_color\":{\"value\":\"limegreen\"},\"line_alpha\":{\"value\":0.66},\"size\":{\"units\":\"screen\",\"value\":15.811388300841896}},\"id\":\"1184\",\"type\":\"Circle\"},{\"attributes\":{},\"id\":\"1217\",\"type\":\"Selection\"},{\"attributes\":{},\"id\":\"1216\",\"type\":\"UnionRenderers\"},{\"attributes\":{\"active_drag\":\"auto\",\"active_inspect\":\"auto\",\"active_multi\":null,\"active_scroll\":\"auto\",\"active_tap\":\"auto\",\"tools\":[{\"id\":\"1146\"},{\"id\":\"1164\"},{\"id\":\"1165\"},{\"id\":\"1166\"},{\"id\":\"1167\"},{\"id\":\"1168\"},{\"id\":\"1169\"}]},\"id\":\"1171\",\"type\":\"Toolbar\"},{\"attributes\":{\"graph_layout\":{\"0\":[6546.9,4960.5],\"1\":[1376.8,4910.4],\"10\":[3910.0,2190.9],\"11\":[3644.7,18.0],\"12\":[8424.2,1617.0],\"13\":[5281.2,1617.0],\"14\":[7719.9,3107.1],\"15\":[4162.7,4991.5],\"16\":[3401.7,4653.7],\"17\":[4697.7,3060.0],\"18\":[4704.2,4293.2],\"19\":[3411.9,2926.7],\"2\":[3772.3,985.74],\"20\":[2865.2,3512.5],\"3\":[6856.9,1617.0],\"4\":[6807.9,3512.9],\"5\":[3951.5,3771.4],\"6\":[5691.7,4050.7],\"7\":[7252.0,5670.3],\"8\":[2482.9,4423.0],\"9\":[480.96,5296.2]}},\"id\":\"1181\",\"type\":\"StaticLayoutProvider\"},{\"attributes\":{\"text\":\"\",\"text_color\":{\"value\":\"black\"},\"text_font_size\":{\"value\":\"12pt\"}},\"id\":\"1148\",\"type\":\"Title\"},{\"attributes\":{},\"id\":\"1168\",\"type\":\"ResetTool\"}],\"root_ids\":[\"1142\"]},\"title\":\"Bokeh Application\",\"version\":\"2.1.1\"}};\n",
       "  var render_items = [{\"docid\":\"d961fb87-311e-4fa3-a067-2d9fa7e6cfb3\",\"root_ids\":[\"1142\"],\"roots\":{\"1142\":\"c0e3ed0a-3a15-4f19-abe6-aaa6bb990645\"}}];\n",
       "  root.Bokeh.embed.embed_items_notebook(docs_json, render_items);\n",
       "  }\n",
       "if (root.Bokeh !== undefined) {\n",
       "    embed_document(root);\n",
       "  } else {\n",
       "    var attempts = 0;\n",
       "    var timer = setInterval(function(root) {\n",
       "      if (root.Bokeh !== undefined) {\n",
       "        clearInterval(timer);\n",
       "        embed_document(root);\n",
       "      } else if (document.readyState == \"complete\") {\n",
       "        attempts++;\n",
       "        if (attempts > 100) {\n",
       "          clearInterval(timer);\n",
       "          console.log(\"Bokeh: ERROR: Unable to run BokehJS code because BokehJS library is missing\");\n",
       "        }\n",
       "      }\n",
       "    }, 10, root)\n",
       "  }\n",
       "})(window);</script>"
      ],
      "text/plain": [
       ":Graph   [start,end]   (op,weight)"
      ]
     },
     "execution_count": 9,
     "metadata": {
      "application/vnd.holoviews_exec.v0+json": {
       "id": "1142"
      }
     },
     "output_type": "execute_result"
    }
   ],
   "source": [
    "import holoviews as hv\n",
    "import networkx as nx\n",
    "from holoviews import opts\n",
    "import hvplot.networkx as hvnx\n",
    "\n",
    "try:\n",
    "    import pygraphviz  # noqa\n",
    "    from networkx.drawing.nx_agraph import graphviz_layout\n",
    "except ImportError:\n",
    "    try:\n",
    "        import pydot  # noqa\n",
    "        from networkx.drawing.nx_pydot import graphviz_layout\n",
    "    except ImportError:\n",
    "        raise ImportError(\"This example needs Graphviz and either PyGraphviz or pydot.\")\n",
    "\n",
    "        \n",
    "# for a more complex example, to demonstrate where this layouter shines uncomment:       \n",
    "#G = nx.balanced_tree(3, 5)\n",
    "\n",
    "pos = graphviz_layout(G, prog='sfdp')\n",
    "hvnx.draw(G, \n",
    "          pos, \n",
    "          node_size=250, \n",
    "          node_color=hv.dim('fill_color'), \n",
    "          edge_width=hv.dim('weight')/rwmax * 5 + 0.1, \n",
    "          alpha=0.66, \n",
    "          with_labels=False, \n",
    "          width=600, height=800)\n",
    "\n",
    "# NOTE: Be sure to hover on nodes to display filename and other information ;)"
   ]
  },
  {
   "cell_type": "code",
   "execution_count": null,
   "metadata": {},
   "outputs": [],
   "source": []
  },
  {
   "cell_type": "code",
   "execution_count": null,
   "metadata": {},
   "outputs": [],
   "source": []
  }
 ],
 "metadata": {
  "kernelspec": {
   "display_name": "Python 3",
   "language": "python",
   "name": "python3"
  },
  "language_info": {
   "codemirror_mode": {
    "name": "ipython",
    "version": 3
   },
   "file_extension": ".py",
   "mimetype": "text/x-python",
   "name": "python",
   "nbconvert_exporter": "python",
   "pygments_lexer": "ipython3",
   "version": "3.6.10"
  }
 },
 "nbformat": 4,
 "nbformat_minor": 4
}
