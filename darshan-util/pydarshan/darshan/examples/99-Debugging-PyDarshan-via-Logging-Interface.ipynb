{
 "cells": [
  {
   "cell_type": "markdown",
   "metadata": {},
   "source": [
    "# Debugging and Logging\n",
    "\n",
    "PyDarshan internally uses Pythons `logging` interfaces for troubleshooting and debugging purposes with most outputs supressed by default.\n",
    "\n",
    "Applications that are using PyDarshan can access and redirect logging streams of various PyDarshan components as documented by the logging module:\n",
    "\n",
    " * https://docs.python.org/3/library/logging.html\n",
    "\n",
    "This notebook demonstrates how logging can be activated, as well as more advanced configuration to redirect streams to files or other destinations. To display PyDarshan logging information in this notebook, one way is to set the log_level to DEBUG for the entire application as follows:"
   ]
  },
  {
   "cell_type": "code",
   "execution_count": 16,
   "metadata": {},
   "outputs": [
    {
     "name": "stderr",
     "output_type": "stream",
     "text": [
      "ERROR:root:The 'log_level' trait of an IPKernelApp instance expected any of [0, 10, 20, 30, 40, 50, 'DEBUG', 'INFO', 'WARN', 'ERROR', 'CRITICAL'], not the str 'this-workaround-ensures-stderr-is-in-handlers'.\n"
     ]
    }
   ],
   "source": [
    "# Enable logging (workaround necessary to ensure logging.getLogger().handlers includes stderr stream)\n",
    "# https://stackoverflow.com/questions/35326814/change-level-logged-to-ipython-jupyter-notebook\n",
    "%config Application.log_level=\"this-workaround-ensures-stderr-is-in-handlers\"\n",
    "import logging\n",
    "logging.getLogger().setLevel(logging.DEBUG)\n",
    "# Expect an error complaining about an unknown \"log_level\" trait. The error can be ignored, and logging should work now."
   ]
  },
  {
   "cell_type": "code",
   "execution_count": null,
   "metadata": {},
   "outputs": [],
   "source": []
  },
  {
   "cell_type": "code",
   "execution_count": 29,
   "metadata": {},
   "outputs": [
    {
     "name": "stderr",
     "output_type": "stream",
     "text": [
      "DEBUG:darshan.report: Refreshing name_records for mod=POSIX\n",
      "DEBUG:darshan.report: Refreshing name_records for mod=POSIX\n",
      "DEBUG:darshan.report: Refreshing name_records for mod=MPI-IO\n",
      "DEBUG:darshan.report: Refreshing name_records for mod=POSIX\n",
      "DEBUG:darshan.report: Refreshing name_records for mod=MPI-IO\n",
      "DEBUG:darshan.report: Refreshing name_records for mod=STDIO\n",
      "DEBUG:darshan.report: Refreshing name_records for mod=POSIX\n",
      "DEBUG:darshan.report: Refreshing name_records for mod=MPI-IO\n",
      "DEBUG:darshan.report: Refreshing name_records for mod=STDIO\n",
      "DEBUG:darshan.report: Refreshing name_records for mod=LUSTRE\n"
     ]
    },
    {
     "name": "stdout",
     "output_type": "stream",
     "text": [
      "Filename:       example-logs/example.darshan\n",
      "Times:          2017-03-20 10:07:47 to 2017-03-20 10:09:43 (Duration 0:01:56)\n",
      "Executeable:    /global/project/projectdirs/m888/glock/tokio-abc-results/bin.edison/vpicio_uni /scratch2/scratchdirs/glock/tokioabc-s.4478544/vpicio/vpicio.hdf5 32\n",
      "Processes:      2048\n",
      "JobID:          4478544\n",
      "UID:            69615\n",
      "Modules in Log: ['POSIX', 'MPI-IO', 'LUSTRE', 'STDIO']\n",
      "Loaded Records: {'POSIX': 1, 'MPI-IO': 1, 'STDIO': 129, 'LUSTRE': 1}\n",
      "Name Records:   4\n",
      "Darshan/Hints:  {'lib_ver': '3.1.3', 'h': 'romio_no_indep_rw=true;cb_nodes=4'}\n",
      "DarshanReport:  id(140532799874288) (tmp)\n"
     ]
    }
   ],
   "source": [
    "import darshan\n",
    "report = darshan.DarshanReport(\"example-logs/example.darshan\", read_all=True)  # Default behavior\n",
    "\n",
    "report.info()"
   ]
  },
  {
   "cell_type": "code",
   "execution_count": 18,
   "metadata": {},
   "outputs": [],
   "source": [
    "# Some commands will always display warnings when used with incompatible requests arguments:"
   ]
  },
  {
   "cell_type": "code",
   "execution_count": 30,
   "metadata": {},
   "outputs": [
    {
     "name": "stderr",
     "output_type": "stream",
     "text": [
      "WARNING:darshan.report: Skipping. Currently unsupported: DXT_POSIX in mod_read_all_records().\n"
     ]
    }
   ],
   "source": [
    "import darshan\n",
    "report.mod_read_all_records(mod='DXT_POSIX')"
   ]
  },
  {
   "cell_type": "code",
   "execution_count": 31,
   "metadata": {},
   "outputs": [
    {
     "name": "stderr",
     "output_type": "stream",
     "text": [
      "WARNING:darshan.report:Skipping. Log does not contain data for mod: DXT_POSIX\n"
     ]
    }
   ],
   "source": [
    "import darshan\n",
    "\n",
    "report.mod_read_all_dxt_records(mod='DXT_POSIX')"
   ]
  },
  {
   "cell_type": "code",
   "execution_count": 21,
   "metadata": {},
   "outputs": [
    {
     "name": "stderr",
     "output_type": "stream",
     "text": [
      "WARNING:darshan.report: Skipping. Unsupported module: POSIX in in mod_read_all_dxt_records(). Supported: ['DXT_POSIX', 'DXT_MPIIO']\n"
     ]
    }
   ],
   "source": [
    "import darshan\n",
    "report.mod_read_all_dxt_records(mod='POSIX')"
   ]
  },
  {
   "cell_type": "code",
   "execution_count": 22,
   "metadata": {},
   "outputs": [],
   "source": [
    "# Some commands such as export to_json offer debug information only if log_level is set to DEBUG"
   ]
  },
  {
   "cell_type": "code",
   "execution_count": 25,
   "metadata": {
    "scrolled": true
   },
   "outputs": [
    {
     "name": "stderr",
     "output_type": "stream",
     "text": [
      "DEBUG:darshan.report: Refreshing name_records for mod=POSIX\n",
      "DEBUG:darshan.report: Refreshing name_records for mod=POSIX\n",
      "DEBUG:darshan.report: Refreshing name_records for mod=MPI-IO\n",
      "DEBUG:darshan.report: Refreshing name_records for mod=POSIX\n",
      "DEBUG:darshan.report: Refreshing name_records for mod=MPI-IO\n",
      "DEBUG:darshan.report: Refreshing name_records for mod=STDIO\n",
      "DEBUG:darshan.report: Refreshing name_records for mod=POSIX\n",
      "DEBUG:darshan.report: Refreshing name_records for mod=MPI-IO\n",
      "DEBUG:darshan.report: Refreshing name_records for mod=STDIO\n",
      "DEBUG:darshan.report: Refreshing name_records for mod=LUSTRE\n"
     ]
    },
    {
     "data": {
      "text/plain": [
       "'[{\"id\": 6301063301082038805, \"rank\": -1, \"counters\": [2049, -1, -1, 0, 16402, 16404, 0, 0, 0, 0, -1, -1, 0, 0, 0, 2199023259968, 0, 2199023261831, 0, 0, 0, 16384, 0, 0, 8, 16401, 1048576, 0, 134217728, 0, 0, 0, 0, 0, 0, 0, 0, 0, 0, 4, 14, 0, 0, 0, 0, 0, 0, 16384, 0, 274743689216, 274743691264, 0, 0, 10240, 4096, 0, 0, 134217728, 272, 544, 328, 16384, 8, 2, 2, 597, 1073741824, 1312, 1073741824], \"fcounters\": [3.9191410541534424, 0.0, 3.940063953399658, 3.927093982696533, 3.936579942703247, 0.0, 115.0781660079956, 115.77035808563232, 0.0, 100397.60042190552, 11.300841808319092, 0.0, 17.940945863723755, 20.436099529266357, 85.47495031356812, 0.0, 0.0]}]'"
      ]
     },
     "execution_count": 25,
     "metadata": {},
     "output_type": "execute_result"
    }
   ],
   "source": [
    "import darshan\n",
    "report = darshan.DarshanReport(\"example-logs/example.darshan\", read_all=True)\n",
    "report.records['POSIX'].to_json()"
   ]
  },
  {
   "cell_type": "code",
   "execution_count": null,
   "metadata": {},
   "outputs": [],
   "source": []
  }
 ],
 "metadata": {
  "kernelspec": {
   "display_name": "Python 3",
   "language": "python",
   "name": "python3"
  },
  "language_info": {
   "codemirror_mode": {
    "name": "ipython",
    "version": 3
   },
   "file_extension": ".py",
   "mimetype": "text/x-python",
   "name": "python",
   "nbconvert_exporter": "python",
   "pygments_lexer": "ipython3",
   "version": "3.9.2"
  }
 },
 "nbformat": 4,
 "nbformat_minor": 4
}
