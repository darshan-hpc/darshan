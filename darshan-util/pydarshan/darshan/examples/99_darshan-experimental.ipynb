{
 "cells": [
  {
   "cell_type": "code",
   "execution_count": 23,
   "metadata": {},
   "outputs": [],
   "source": [
    "import pprint\n",
    "import copy"
   ]
  },
  {
   "cell_type": "markdown",
   "metadata": {},
   "source": [
    "# PyDarshan Experimental\n",
    "\n",
    "This notebook collects and showcases experimental functionality which is not mature or stable enough to be considered for mainline support."
   ]
  },
  {
   "cell_type": "code",
   "execution_count": 24,
   "metadata": {},
   "outputs": [
    {
     "name": "stdout",
     "output_type": "stream",
     "text": [
      "Added method agg_ioops to DarshanReport.\n",
      "Added method create_dxttimeline to DarshanReport.\n",
      "Added method create_sankey to DarshanReport.\n",
      "Added method create_time_summary to DarshanReport.\n",
      "Added method mod_agg_iohist to DarshanReport.\n",
      "Added method print_module_records to DarshanReport.\n",
      "Added method records_as_dict to DarshanReport.\n",
      "Added method summarize to DarshanReport.\n",
      "Added method create_timeline to DarshanReport.\n",
      "Added method filter to DarshanReport.\n",
      "Added method reduce to DarshanReport.\n",
      "Added method name_records_summary to DarshanReport.\n",
      "Added method merge to DarshanReport.\n"
     ]
    }
   ],
   "source": [
    "import darshan\n",
    "darshan.enable_experimental(verbose=True)"
   ]
  },
  {
   "cell_type": "code",
   "execution_count": 25,
   "metadata": {
    "scrolled": true
   },
   "outputs": [
    {
     "name": "stdout",
     "output_type": "stream",
     "text": [
      "Filename:       example-logs/example.darshan\n",
      "Times:          2017-03-20 10:07:47 to 2017-03-20 10:09:43 (Duration 0:01:56)\n",
      "Executeable:    /global/project/projectdirs/m888/glock/tokio-abc-results/bin.edison/vpicio_uni /scratch2/scratchdirs/glock/tokioabc-s.4478544/vpicio/vpicio.hdf5 32\n",
      "Processes:      2048\n",
      "JobID:          4478544\n",
      "UID:            69615\n",
      "Modules in Log: ['POSIX', 'MPI-IO', 'LUSTRE', 'STDIO']\n",
      "Loaded Records: {'POSIX': 1, 'MPI-IO': 1, 'STDIO': 129, 'LUSTRE': 1}\n",
      "Name Records:   4\n",
      "Darshan/Hints:  {'lib_ver': '3.1.3', 'h': 'romio_no_indep_rw=true;cb_nodes=4'}\n",
      "DarshanReport:  id(140233011845200) (tmp)\n"
     ]
    }
   ],
   "source": [
    "r1 = darshan.DarshanReport(\"example-logs/example.darshan\", read_all=True)  # Default behavior\n",
    "r1.info()"
   ]
  },
  {
   "cell_type": "code",
   "execution_count": 26,
   "metadata": {},
   "outputs": [
    {
     "data": {
      "text/plain": [
       "{14734109647742566553: '<STDIN>',\n",
       " 15920181672442173319: '<STDOUT>',\n",
       " 7238257241479193519: '<STDERR>',\n",
       " 6301063301082038805: '/scratch2/scratchdirs/glock/tokioabc-s.4478544/vpicio/vpicio.hdf5'}"
      ]
     },
     "execution_count": 26,
     "metadata": {},
     "output_type": "execute_result"
    }
   ],
   "source": [
    "r1.name_records"
   ]
  },
  {
   "cell_type": "code",
   "execution_count": 27,
   "metadata": {},
   "outputs": [
    {
     "name": "stdout",
     "output_type": "stream",
     "text": [
      "Module:       POSIX\n",
      "Records:      1\n",
      "Coll. Type:   collection\n",
      "Ranks:        {-1}\n",
      "Name Records: {6301063301082038805}\n",
      "\n",
      "Module:       MPI-IO\n",
      "Records:      1\n",
      "Coll. Type:   collection\n",
      "Ranks:        {-1}\n",
      "Name Records: {6301063301082038805}\n",
      "\n",
      "Module:       STDIO\n",
      "Records:      129\n",
      "Coll. Type:   collection\n",
      "Ranks:        {0, 512, 1024, 1536, 16, 528, 1040, 1552, 32, 544, 1056, 1568, 48, 560, 1072, 1584, 64, 576, 1088, 1600, 80, 592, 1104, 1616, 96, 608, 1120, 1632, 112, 624, 1136, 1648, 128, 640, 1152, 1664, 144, 656, 1168, 1680, 160, 672, 1184, 1696, 176, 688, 1200, 1712, 192, 704, 1216, 1728, 208, 720, 1232, 1744, 224, 736, 1248, 1760, 240, 752, 1264, 1776, 256, 768, 1280, 1792, 272, 784, 1296, 1808, 288, 800, 1312, 1824, 304, 816, 1328, 1840, 320, 832, 1344, 1856, 336, 848, 1360, 1872, 352, 864, 1376, 1888, 368, 880, 1392, 1904, 384, 896, 1408, 1920, 400, 912, 1424, 1936, 416, 928, 1440, 1952, 432, 944, 1456, 1968, 448, 960, 1472, 1984, 464, 976, 1488, 2000, 480, 992, 1504, 2016, 496, 1008, 1520, 2032}\n",
      "Name Records: {7238257241479193519, 15920181672442173319}\n",
      "\n",
      "Module:       LUSTRE\n",
      "Records:      1\n",
      "Coll. Type:   collection\n",
      "\n"
     ]
    }
   ],
   "source": [
    "for key, recs in r1.records.items():\n",
    "    recs.info()\n",
    "    print()"
   ]
  },
  {
   "cell_type": "code",
   "execution_count": 28,
   "metadata": {},
   "outputs": [
    {
     "name": "stdout",
     "output_type": "stream",
     "text": [
      "Module:       POSIX\n",
      "Records:      1\n",
      "Coll. Type:   collection\n",
      "Ranks:        {-1}\n",
      "Name Records: {6301063301082038805}\n",
      "\n",
      "Module:       MPI-IO\n",
      "Records:      1\n",
      "Coll. Type:   collection\n",
      "Ranks:        {-1}\n",
      "Name Records: {6301063301082038805}\n",
      "\n",
      "Module:       LUSTRE\n",
      "Records:      1\n",
      "Coll. Type:   collection\n",
      "\n"
     ]
    }
   ],
   "source": [
    "for key, recs in r1.filter(name_records=['/scratch2/scratchdirs/glock/tokioabc-s.4478544/vpicio/vpicio.hdf5']).records.items():\n",
    "    recs.info()\n",
    "    print()"
   ]
  },
  {
   "cell_type": "code",
   "execution_count": 29,
   "metadata": {},
   "outputs": [
    {
     "name": "stdout",
     "output_type": "stream",
     "text": [
      "Module:       STDIO\n",
      "Records:      128\n",
      "Coll. Type:   collection\n",
      "Ranks:        {0, 512, 1024, 1536, 16, 528, 1040, 1552, 32, 544, 1056, 1568, 48, 560, 1072, 1584, 64, 576, 1088, 1600, 80, 592, 1104, 1616, 96, 608, 1120, 1632, 112, 624, 1136, 1648, 128, 640, 1152, 1664, 144, 656, 1168, 1680, 160, 672, 1184, 1696, 176, 688, 1200, 1712, 192, 704, 1216, 1728, 208, 720, 1232, 1744, 224, 736, 1248, 1760, 240, 752, 1264, 1776, 256, 768, 1280, 1792, 272, 784, 1296, 1808, 288, 800, 1312, 1824, 304, 816, 1328, 1840, 320, 832, 1344, 1856, 336, 848, 1360, 1872, 352, 864, 1376, 1888, 368, 880, 1392, 1904, 384, 896, 1408, 1920, 400, 912, 1424, 1936, 416, 928, 1440, 1952, 432, 944, 1456, 1968, 448, 960, 1472, 1984, 464, 976, 1488, 2000, 480, 992, 1504, 2016, 496, 1008, 1520, 2032}\n",
      "Name Records: {7238257241479193519}\n",
      "\n"
     ]
    }
   ],
   "source": [
    "for key, recs in r1.filter(name_records=['<STDERR>']).records.items():\n",
    "    recs.info()\n",
    "    print()"
   ]
  },
  {
   "cell_type": "code",
   "execution_count": null,
   "metadata": {},
   "outputs": [],
   "source": []
  }
 ],
 "metadata": {
  "kernelspec": {
   "display_name": "Python 3",
   "language": "python",
   "name": "python3"
  },
  "language_info": {
   "codemirror_mode": {
    "name": "ipython",
    "version": 3
   },
   "file_extension": ".py",
   "mimetype": "text/x-python",
   "name": "python",
   "nbconvert_exporter": "python",
   "pygments_lexer": "ipython3",
   "version": "3.9.2"
  }
 },
 "nbformat": 4,
 "nbformat_minor": 4
}
