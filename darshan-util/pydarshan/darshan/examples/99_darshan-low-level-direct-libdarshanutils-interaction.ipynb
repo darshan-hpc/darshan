{
 "cells": [
  {
   "cell_type": "markdown",
   "metadata": {},
   "source": [
    "# Direct Interaction with libdarshan-util.so"
   ]
  },
  {
   "cell_type": "markdown",
   "metadata": {},
   "source": [
    "**Note:** In general be advised to use this interface with care until the API stablelized. Many parts of the functionality exposed here used to be for internal use by the darshan-util command-line utilities only. None the less, for very performance sensitive analysis and for troubleshooting this notebook documents how to directly interface with `libdarshan-util.so`."
   ]
  },
  {
   "cell_type": "code",
   "execution_count": null,
   "metadata": {},
   "outputs": [],
   "source": []
  },
  {
   "cell_type": "markdown",
   "metadata": {},
   "source": [
    "A relatively convienient interface with C libraries is offered through CFFI:\n",
    "https://cffi.readthedocs.io/en/latest/\n",
    "\n",
    "\"C Foreign Function Interface for Python. Interact with almost any C code from Python, based on C-like declarations that you can often copy-paste from header files or documentation.\"\n",
    "\n",
    "To use, ensure cffi is installed:\n",
    "\n",
    "    pip install cffi"
   ]
  },
  {
   "cell_type": "code",
   "execution_count": 1,
   "metadata": {},
   "outputs": [],
   "source": [
    "import cffi\n",
    "import ctypes"
   ]
  },
  {
   "cell_type": "markdown",
   "metadata": {},
   "source": [
    "CFFI can be used in multiple different configruations allowing for different performance trade offs.\n",
    "For PyDarshan we assume the library is proved as an already compiled binary (thus we are using CFFI in ABI mode), this way only valid header information for data types and function signatures have to be provided.\n",
    "A valid set of headers is provided as part of `darshan.backend.api_def_c`:"
   ]
  },
  {
   "cell_type": "code",
   "execution_count": 2,
   "metadata": {},
   "outputs": [],
   "source": [
    "from darshan.backend.api_def_c import load_darshan_header\n",
    "API_def_c = load_darshan_header()"
   ]
  },
  {
   "cell_type": "markdown",
   "metadata": {},
   "source": [
    "Setting up CFFI then only requires to initialize the Foreign Function Interface, and then load a shared library as follows:"
   ]
  },
  {
   "cell_type": "code",
   "execution_count": 3,
   "metadata": {},
   "outputs": [],
   "source": [
    "ffi = cffi.FFI()\n",
    "ffi.cdef(API_def_c)\n",
    "\n",
    "libdutil = None\n",
    "libdutil = ffi.dlopen(\"libdarshan-util.so\")"
   ]
  },
  {
   "cell_type": "markdown",
   "metadata": {},
   "source": [
    "Libdarshan-util provides functionality to interace with Darshan Log files. Analog to the typical C POSIX API darshan logs have first to be opened which returns a file handle which the user has to provide any followup operations."
   ]
  },
  {
   "cell_type": "markdown",
   "metadata": {},
   "source": [
    "The simplest interaction with library is just obtaining the library version which is hard coded into the library and can be obtained via ´darshan_log_get_lib_version()´ which returns a char*.\n",
    "Similar to native C, a variable to hold the reference to the version string has to be provided which can be achieved like so and then gets populated by invoking the actual library function which is exposed as part of the CFFI Object:"
   ]
  },
  {
   "cell_type": "code",
   "execution_count": 4,
   "metadata": {},
   "outputs": [],
   "source": [
    "ver = ffi.new(\"char **\")\n",
    "ver = libdutil.darshan_log_get_lib_version()"
   ]
  },
  {
   "cell_type": "markdown",
   "metadata": {},
   "source": [
    "Before the string can be accessed as a normal Python object it needs to be transformed as follows:"
   ]
  },
  {
   "cell_type": "code",
   "execution_count": 5,
   "metadata": {},
   "outputs": [
    {
     "data": {
      "text/plain": [
       "'3.2.1'"
      ]
     },
     "execution_count": 5,
     "metadata": {},
     "output_type": "execute_result"
    }
   ],
   "source": [
    "version = ffi.string(ver).decode(\"utf-8\")\n",
    "version"
   ]
  },
  {
   "cell_type": "markdown",
   "metadata": {},
   "source": [
    "### Fetching Records"
   ]
  },
  {
   "cell_type": "markdown",
   "metadata": {},
   "source": [
    "A darshan log contains, besides some metadata describing the instrumented execution, primarily log records collected by the different modules in compressed form. To access these a number of library interactions have to be performed to capture individual records.\n",
    "\n",
    "    1) Open the log and optain a log handle\n",
    "    2) Request individual log records by requesting records for a particular module identifer\n",
    "    \n",
    "Module identifiers are defined in ´darshan-log-format.h´:\n",
    "\n",
    "    #define DARSHAN_MODULE_IDS \\\n",
    "        X(DARSHAN_NULL_MOD,     \"NULL\",     DARSHAN_NULL_VER,       NULL) \\\n",
    "        X(DARSHAN_POSIX_MOD,    \"POSIX\",    DARSHAN_POSIX_VER,      &posix_logutils) \\\n",
    "        X(DARSHAN_MPIIO_MOD,    \"MPI-IO\",   DARSHAN_MPIIO_VER,      &mpiio_logutils) \\\n",
    "        X(DARSHAN_H5F_MOD,      \"H5F\",      DARSHAN_H5F_VER,        &hdf5_file_logutils) \\\n",
    "        X(DARSHAN_H5D_MOD,      \"H5D\",      DARSHAN_H5D_VER,        &hdf5_dataset_logutils) \\\n",
    "        X(DARSHAN_PNETCDF_MOD,  \"PNETCDF\",  DARSHAN_PNETCDF_VER,    &pnetcdf_logutils) \\\n",
    "        X(DARSHAN_BGQ_MOD,      \"BG/Q\",     DARSHAN_BGQ_VER,        &bgq_logutils) \\\n",
    "        X(DARSHAN_LUSTRE_MOD,   \"LUSTRE\",   DARSHAN_LUSTRE_VER,     &lustre_logutils) \\\n",
    "        X(DARSHAN_STDIO_MOD,    \"STDIO\",    DARSHAN_STDIO_VER,      &stdio_logutils) \\\n",
    "        /* DXT */ \\\n",
    "        X(DXT_POSIX_MOD,       \"DXT_POSIX\",  DXT_POSIX_VER,         &dxt_posix_logutils) \\\n",
    "        X(DXT_MPIIO_MOD,       \"DXT_MPIIO\",  DXT_MPIIO_VER,         &dxt_mpiio_logutils) \\\n",
    "        X(DARSHAN_MDHIM_MOD,   \"MDHIM\",      DARSHAN_MDHIM_VER,     &mdhim_logutils)\n"
   ]
  },
  {
   "cell_type": "code",
   "execution_count": 6,
   "metadata": {},
   "outputs": [],
   "source": [
    "# open the log\n",
    "handle = libdutil.darshan_log_open(\"example-logs/example.darshan\".encode())"
   ]
  },
  {
   "cell_type": "code",
   "execution_count": 7,
   "metadata": {},
   "outputs": [],
   "source": [
    "# fetch a posix record\n",
    "buf = ffi.new(\"void **\")\n",
    "r = libdutil.darshan_log_get_record(handle, 1, buf)\n",
    "rbuf = ffi.cast(\"struct darshan_posix_file **\", buf)"
   ]
  },
  {
   "cell_type": "code",
   "execution_count": 8,
   "metadata": {},
   "outputs": [
    {
     "data": {
      "text/plain": [
       "['base_rec', 'counters', 'fcounters']"
      ]
     },
     "execution_count": 8,
     "metadata": {},
     "output_type": "execute_result"
    }
   ],
   "source": [
    "dir(rbuf[0])"
   ]
  },
  {
   "cell_type": "code",
   "execution_count": 9,
   "metadata": {},
   "outputs": [
    {
     "data": {
      "text/plain": [
       "'id: 6301063301082038805, rank: -1'"
      ]
     },
     "execution_count": 9,
     "metadata": {},
     "output_type": "execute_result"
    }
   ],
   "source": [
    "\"id: {}, rank: {}\".format(rbuf[0].base_rec.id, rbuf[0].base_rec.rank)"
   ]
  },
  {
   "cell_type": "code",
   "execution_count": 10,
   "metadata": {},
   "outputs": [
    {
     "name": "stdout",
     "output_type": "stream",
     "text": [
      "[2049, -1, -1, 0, 16402, 16404, 0, 0, 0, 0, -1, -1, 0, 0, 0, 2199023259968, 0, 2199023261831, 0, 0, 0, 16384, 0, 0, 8, 16401, 1048576, 0, 134217728, 0, 0, 0, 0, 0, 0, 0, 0, 0, 0, 4, 14, 0, 0, 0, 0, 0, 0, 16384, 0, 274743689216, 274743691264, 0, 0, 10240, 4096, 0, 0, 134217728, 272, 544, 328, 16384, 8, 2, 2, 597, 1073741824, 1312, 1073741824]\n"
     ]
    }
   ],
   "source": [
    "print([counter for counter in rbuf[0].counters])"
   ]
  },
  {
   "cell_type": "code",
   "execution_count": 11,
   "metadata": {},
   "outputs": [
    {
     "name": "stdout",
     "output_type": "stream",
     "text": [
      "[3.9191410541534424, 0.0, 3.940063953399658, 3.927093982696533, 3.936579942703247, 0.0, 115.0781660079956, 115.77035808563232, 0.0, 100397.60042190552, 11.300841808319092, 0.0, 17.940945863723755, 20.436099529266357, 85.47495031356812, 0.0, 0.0]\n"
     ]
    }
   ],
   "source": [
    "print([counter for counter in rbuf[0].fcounters])"
   ]
  },
  {
   "cell_type": "code",
   "execution_count": null,
   "metadata": {},
   "outputs": [],
   "source": []
  }
 ],
 "metadata": {
  "kernelspec": {
   "display_name": "Python 3",
   "language": "python",
   "name": "python3"
  },
  "language_info": {
   "codemirror_mode": {
    "name": "ipython",
    "version": 3
   },
   "file_extension": ".py",
   "mimetype": "text/x-python",
   "name": "python",
   "nbconvert_exporter": "python",
   "pygments_lexer": "ipython3",
   "version": "3.9.2"
  }
 },
 "nbformat": 4,
 "nbformat_minor": 4
}
